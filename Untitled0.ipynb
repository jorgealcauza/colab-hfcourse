{
  "nbformat": 4,
  "nbformat_minor": 0,
  "metadata": {
    "colab": {
      "provenance": [],
      "authorship_tag": "ABX9TyNxs4b2tRiHuGYU9K++REPb",
      "include_colab_link": true
    },
    "kernelspec": {
      "name": "python3",
      "display_name": "Python 3"
    },
    "language_info": {
      "name": "python"
    },
    "widgets": {
      "application/vnd.jupyter.widget-state+json": {
        "250ae391243f42d8843ffb90b7ccf718": {
          "model_module": "@jupyter-widgets/controls",
          "model_name": "VBoxModel",
          "model_module_version": "1.5.0",
          "state": {
            "_dom_classes": [
              "widget-interact"
            ],
            "_model_module": "@jupyter-widgets/controls",
            "_model_module_version": "1.5.0",
            "_model_name": "VBoxModel",
            "_view_count": null,
            "_view_module": "@jupyter-widgets/controls",
            "_view_module_version": "1.5.0",
            "_view_name": "VBoxView",
            "box_style": "",
            "children": [
              "IPY_MODEL_5086f49d171840b49ea2b2574b923a61",
              "IPY_MODEL_705683eba1e7476c92f26868b64d743b",
              "IPY_MODEL_8909f10f9c764cadbb96530d476f3904",
              "IPY_MODEL_cb8d853df1b9499f9a30007b62670c58"
            ],
            "layout": "IPY_MODEL_cca9d1eeccc84180aae2c20c9e437085"
          }
        },
        "5086f49d171840b49ea2b2574b923a61": {
          "model_module": "@jupyter-widgets/controls",
          "model_name": "FloatSliderModel",
          "model_module_version": "1.5.0",
          "state": {
            "_dom_classes": [],
            "_model_module": "@jupyter-widgets/controls",
            "_model_module_version": "1.5.0",
            "_model_name": "FloatSliderModel",
            "_view_count": null,
            "_view_module": "@jupyter-widgets/controls",
            "_view_module_version": "1.5.0",
            "_view_name": "FloatSliderView",
            "continuous_update": true,
            "description": "a",
            "description_tooltip": null,
            "disabled": false,
            "layout": "IPY_MODEL_9d1d9ef9c91e4693b11cf0f2af9b6599",
            "max": 3.3000000000000003,
            "min": -1.1,
            "orientation": "horizontal",
            "readout": true,
            "readout_format": ".2f",
            "step": 0.1,
            "style": "IPY_MODEL_d97f0e71691c407e97cf442d4f7789fc",
            "value": 1.1
          }
        },
        "705683eba1e7476c92f26868b64d743b": {
          "model_module": "@jupyter-widgets/controls",
          "model_name": "FloatSliderModel",
          "model_module_version": "1.5.0",
          "state": {
            "_dom_classes": [],
            "_model_module": "@jupyter-widgets/controls",
            "_model_module_version": "1.5.0",
            "_model_name": "FloatSliderModel",
            "_view_count": null,
            "_view_module": "@jupyter-widgets/controls",
            "_view_module_version": "1.5.0",
            "_view_name": "FloatSliderView",
            "continuous_update": true,
            "description": "b",
            "description_tooltip": null,
            "disabled": false,
            "layout": "IPY_MODEL_4c7455fe096e4d7aae5e10b8b90564de",
            "max": 3.3000000000000003,
            "min": -1.1,
            "orientation": "horizontal",
            "readout": true,
            "readout_format": ".2f",
            "step": 0.1,
            "style": "IPY_MODEL_a76903bba5b54c8ba6c89298cdac5a73",
            "value": 1.1
          }
        },
        "8909f10f9c764cadbb96530d476f3904": {
          "model_module": "@jupyter-widgets/controls",
          "model_name": "FloatSliderModel",
          "model_module_version": "1.5.0",
          "state": {
            "_dom_classes": [],
            "_model_module": "@jupyter-widgets/controls",
            "_model_module_version": "1.5.0",
            "_model_name": "FloatSliderModel",
            "_view_count": null,
            "_view_module": "@jupyter-widgets/controls",
            "_view_module_version": "1.5.0",
            "_view_name": "FloatSliderView",
            "continuous_update": true,
            "description": "c",
            "description_tooltip": null,
            "disabled": false,
            "layout": "IPY_MODEL_c8879e13c82241e9ad8d11b81f5b0110",
            "max": 3.3000000000000003,
            "min": -1.1,
            "orientation": "horizontal",
            "readout": true,
            "readout_format": ".2f",
            "step": 0.1,
            "style": "IPY_MODEL_377dbe2113ef4242ae2670d675d555e2",
            "value": 1.1
          }
        },
        "cb8d853df1b9499f9a30007b62670c58": {
          "model_module": "@jupyter-widgets/output",
          "model_name": "OutputModel",
          "model_module_version": "1.0.0",
          "state": {
            "_dom_classes": [],
            "_model_module": "@jupyter-widgets/output",
            "_model_module_version": "1.0.0",
            "_model_name": "OutputModel",
            "_view_count": null,
            "_view_module": "@jupyter-widgets/output",
            "_view_module_version": "1.0.0",
            "_view_name": "OutputView",
            "layout": "IPY_MODEL_d18760958d434d4ca1375dad5076c6ac",
            "msg_id": "",
            "outputs": [
              {
                "output_type": "display_data",
                "data": {
                  "text/plain": "<Figure size 576x432 with 1 Axes>",
                  "image/png": "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\n"
                },
                "metadata": {}
              }
            ]
          }
        },
        "cca9d1eeccc84180aae2c20c9e437085": {
          "model_module": "@jupyter-widgets/base",
          "model_name": "LayoutModel",
          "model_module_version": "1.2.0",
          "state": {
            "_model_module": "@jupyter-widgets/base",
            "_model_module_version": "1.2.0",
            "_model_name": "LayoutModel",
            "_view_count": null,
            "_view_module": "@jupyter-widgets/base",
            "_view_module_version": "1.2.0",
            "_view_name": "LayoutView",
            "align_content": null,
            "align_items": null,
            "align_self": null,
            "border": null,
            "bottom": null,
            "display": null,
            "flex": null,
            "flex_flow": null,
            "grid_area": null,
            "grid_auto_columns": null,
            "grid_auto_flow": null,
            "grid_auto_rows": null,
            "grid_column": null,
            "grid_gap": null,
            "grid_row": null,
            "grid_template_areas": null,
            "grid_template_columns": null,
            "grid_template_rows": null,
            "height": null,
            "justify_content": null,
            "justify_items": null,
            "left": null,
            "margin": null,
            "max_height": null,
            "max_width": null,
            "min_height": null,
            "min_width": null,
            "object_fit": null,
            "object_position": null,
            "order": null,
            "overflow": null,
            "overflow_x": null,
            "overflow_y": null,
            "padding": null,
            "right": null,
            "top": null,
            "visibility": null,
            "width": null
          }
        },
        "9d1d9ef9c91e4693b11cf0f2af9b6599": {
          "model_module": "@jupyter-widgets/base",
          "model_name": "LayoutModel",
          "model_module_version": "1.2.0",
          "state": {
            "_model_module": "@jupyter-widgets/base",
            "_model_module_version": "1.2.0",
            "_model_name": "LayoutModel",
            "_view_count": null,
            "_view_module": "@jupyter-widgets/base",
            "_view_module_version": "1.2.0",
            "_view_name": "LayoutView",
            "align_content": null,
            "align_items": null,
            "align_self": null,
            "border": null,
            "bottom": null,
            "display": null,
            "flex": null,
            "flex_flow": null,
            "grid_area": null,
            "grid_auto_columns": null,
            "grid_auto_flow": null,
            "grid_auto_rows": null,
            "grid_column": null,
            "grid_gap": null,
            "grid_row": null,
            "grid_template_areas": null,
            "grid_template_columns": null,
            "grid_template_rows": null,
            "height": null,
            "justify_content": null,
            "justify_items": null,
            "left": null,
            "margin": null,
            "max_height": null,
            "max_width": null,
            "min_height": null,
            "min_width": null,
            "object_fit": null,
            "object_position": null,
            "order": null,
            "overflow": null,
            "overflow_x": null,
            "overflow_y": null,
            "padding": null,
            "right": null,
            "top": null,
            "visibility": null,
            "width": null
          }
        },
        "d97f0e71691c407e97cf442d4f7789fc": {
          "model_module": "@jupyter-widgets/controls",
          "model_name": "SliderStyleModel",
          "model_module_version": "1.5.0",
          "state": {
            "_model_module": "@jupyter-widgets/controls",
            "_model_module_version": "1.5.0",
            "_model_name": "SliderStyleModel",
            "_view_count": null,
            "_view_module": "@jupyter-widgets/base",
            "_view_module_version": "1.2.0",
            "_view_name": "StyleView",
            "description_width": "",
            "handle_color": null
          }
        },
        "4c7455fe096e4d7aae5e10b8b90564de": {
          "model_module": "@jupyter-widgets/base",
          "model_name": "LayoutModel",
          "model_module_version": "1.2.0",
          "state": {
            "_model_module": "@jupyter-widgets/base",
            "_model_module_version": "1.2.0",
            "_model_name": "LayoutModel",
            "_view_count": null,
            "_view_module": "@jupyter-widgets/base",
            "_view_module_version": "1.2.0",
            "_view_name": "LayoutView",
            "align_content": null,
            "align_items": null,
            "align_self": null,
            "border": null,
            "bottom": null,
            "display": null,
            "flex": null,
            "flex_flow": null,
            "grid_area": null,
            "grid_auto_columns": null,
            "grid_auto_flow": null,
            "grid_auto_rows": null,
            "grid_column": null,
            "grid_gap": null,
            "grid_row": null,
            "grid_template_areas": null,
            "grid_template_columns": null,
            "grid_template_rows": null,
            "height": null,
            "justify_content": null,
            "justify_items": null,
            "left": null,
            "margin": null,
            "max_height": null,
            "max_width": null,
            "min_height": null,
            "min_width": null,
            "object_fit": null,
            "object_position": null,
            "order": null,
            "overflow": null,
            "overflow_x": null,
            "overflow_y": null,
            "padding": null,
            "right": null,
            "top": null,
            "visibility": null,
            "width": null
          }
        },
        "a76903bba5b54c8ba6c89298cdac5a73": {
          "model_module": "@jupyter-widgets/controls",
          "model_name": "SliderStyleModel",
          "model_module_version": "1.5.0",
          "state": {
            "_model_module": "@jupyter-widgets/controls",
            "_model_module_version": "1.5.0",
            "_model_name": "SliderStyleModel",
            "_view_count": null,
            "_view_module": "@jupyter-widgets/base",
            "_view_module_version": "1.2.0",
            "_view_name": "StyleView",
            "description_width": "",
            "handle_color": null
          }
        },
        "c8879e13c82241e9ad8d11b81f5b0110": {
          "model_module": "@jupyter-widgets/base",
          "model_name": "LayoutModel",
          "model_module_version": "1.2.0",
          "state": {
            "_model_module": "@jupyter-widgets/base",
            "_model_module_version": "1.2.0",
            "_model_name": "LayoutModel",
            "_view_count": null,
            "_view_module": "@jupyter-widgets/base",
            "_view_module_version": "1.2.0",
            "_view_name": "LayoutView",
            "align_content": null,
            "align_items": null,
            "align_self": null,
            "border": null,
            "bottom": null,
            "display": null,
            "flex": null,
            "flex_flow": null,
            "grid_area": null,
            "grid_auto_columns": null,
            "grid_auto_flow": null,
            "grid_auto_rows": null,
            "grid_column": null,
            "grid_gap": null,
            "grid_row": null,
            "grid_template_areas": null,
            "grid_template_columns": null,
            "grid_template_rows": null,
            "height": null,
            "justify_content": null,
            "justify_items": null,
            "left": null,
            "margin": null,
            "max_height": null,
            "max_width": null,
            "min_height": null,
            "min_width": null,
            "object_fit": null,
            "object_position": null,
            "order": null,
            "overflow": null,
            "overflow_x": null,
            "overflow_y": null,
            "padding": null,
            "right": null,
            "top": null,
            "visibility": null,
            "width": null
          }
        },
        "377dbe2113ef4242ae2670d675d555e2": {
          "model_module": "@jupyter-widgets/controls",
          "model_name": "SliderStyleModel",
          "model_module_version": "1.5.0",
          "state": {
            "_model_module": "@jupyter-widgets/controls",
            "_model_module_version": "1.5.0",
            "_model_name": "SliderStyleModel",
            "_view_count": null,
            "_view_module": "@jupyter-widgets/base",
            "_view_module_version": "1.2.0",
            "_view_name": "StyleView",
            "description_width": "",
            "handle_color": null
          }
        },
        "d18760958d434d4ca1375dad5076c6ac": {
          "model_module": "@jupyter-widgets/base",
          "model_name": "LayoutModel",
          "model_module_version": "1.2.0",
          "state": {
            "_model_module": "@jupyter-widgets/base",
            "_model_module_version": "1.2.0",
            "_model_name": "LayoutModel",
            "_view_count": null,
            "_view_module": "@jupyter-widgets/base",
            "_view_module_version": "1.2.0",
            "_view_name": "LayoutView",
            "align_content": null,
            "align_items": null,
            "align_self": null,
            "border": null,
            "bottom": null,
            "display": null,
            "flex": null,
            "flex_flow": null,
            "grid_area": null,
            "grid_auto_columns": null,
            "grid_auto_flow": null,
            "grid_auto_rows": null,
            "grid_column": null,
            "grid_gap": null,
            "grid_row": null,
            "grid_template_areas": null,
            "grid_template_columns": null,
            "grid_template_rows": null,
            "height": null,
            "justify_content": null,
            "justify_items": null,
            "left": null,
            "margin": null,
            "max_height": null,
            "max_width": null,
            "min_height": null,
            "min_width": null,
            "object_fit": null,
            "object_position": null,
            "order": null,
            "overflow": null,
            "overflow_x": null,
            "overflow_y": null,
            "padding": null,
            "right": null,
            "top": null,
            "visibility": null,
            "width": null
          }
        },
        "15c33638199d40e198c2d4b121402433": {
          "model_module": "@jupyter-widgets/controls",
          "model_name": "VBoxModel",
          "model_module_version": "1.5.0",
          "state": {
            "_dom_classes": [
              "widget-interact"
            ],
            "_model_module": "@jupyter-widgets/controls",
            "_model_module_version": "1.5.0",
            "_model_name": "VBoxModel",
            "_view_count": null,
            "_view_module": "@jupyter-widgets/controls",
            "_view_module_version": "1.5.0",
            "_view_name": "VBoxView",
            "box_style": "",
            "children": [
              "IPY_MODEL_f18cbdf88df64d4391babc7c2a3029dd",
              "IPY_MODEL_b6fbd26fb1604225b7ce9cfe6146ba4f",
              "IPY_MODEL_f8ad0959fcef4fbdb423c49456d8e492",
              "IPY_MODEL_8aa7e67f5d224234835fcc54d275137f"
            ],
            "layout": "IPY_MODEL_24c9dd3726994d4d8eb6f5ece2ed4766"
          }
        },
        "f18cbdf88df64d4391babc7c2a3029dd": {
          "model_module": "@jupyter-widgets/controls",
          "model_name": "FloatSliderModel",
          "model_module_version": "1.5.0",
          "state": {
            "_dom_classes": [],
            "_model_module": "@jupyter-widgets/controls",
            "_model_module_version": "1.5.0",
            "_model_name": "FloatSliderModel",
            "_view_count": null,
            "_view_module": "@jupyter-widgets/controls",
            "_view_module_version": "1.5.0",
            "_view_name": "FloatSliderView",
            "continuous_update": true,
            "description": "a",
            "description_tooltip": null,
            "disabled": false,
            "layout": "IPY_MODEL_58f76ff492f348f3bd49349ac73e0d28",
            "max": 3.3000000000000003,
            "min": -1.1,
            "orientation": "horizontal",
            "readout": true,
            "readout_format": ".2f",
            "step": 0.1,
            "style": "IPY_MODEL_80738b14379b4326a13bc816f6e4e00a",
            "value": 1.1
          }
        },
        "b6fbd26fb1604225b7ce9cfe6146ba4f": {
          "model_module": "@jupyter-widgets/controls",
          "model_name": "FloatSliderModel",
          "model_module_version": "1.5.0",
          "state": {
            "_dom_classes": [],
            "_model_module": "@jupyter-widgets/controls",
            "_model_module_version": "1.5.0",
            "_model_name": "FloatSliderModel",
            "_view_count": null,
            "_view_module": "@jupyter-widgets/controls",
            "_view_module_version": "1.5.0",
            "_view_name": "FloatSliderView",
            "continuous_update": true,
            "description": "b",
            "description_tooltip": null,
            "disabled": false,
            "layout": "IPY_MODEL_929aec35747c499da7c3a4e92300cdc7",
            "max": 3.3000000000000003,
            "min": -1.1,
            "orientation": "horizontal",
            "readout": true,
            "readout_format": ".2f",
            "step": 0.1,
            "style": "IPY_MODEL_f229a7ceba56414cb91556dbac70822b",
            "value": 1.1
          }
        },
        "f8ad0959fcef4fbdb423c49456d8e492": {
          "model_module": "@jupyter-widgets/controls",
          "model_name": "FloatSliderModel",
          "model_module_version": "1.5.0",
          "state": {
            "_dom_classes": [],
            "_model_module": "@jupyter-widgets/controls",
            "_model_module_version": "1.5.0",
            "_model_name": "FloatSliderModel",
            "_view_count": null,
            "_view_module": "@jupyter-widgets/controls",
            "_view_module_version": "1.5.0",
            "_view_name": "FloatSliderView",
            "continuous_update": true,
            "description": "c",
            "description_tooltip": null,
            "disabled": false,
            "layout": "IPY_MODEL_9f47ba3987974bf79b752315ab0529df",
            "max": 3.3000000000000003,
            "min": -1.1,
            "orientation": "horizontal",
            "readout": true,
            "readout_format": ".2f",
            "step": 0.1,
            "style": "IPY_MODEL_e66071e549ef44e5b9d19113ff8cc2f5",
            "value": 1.1
          }
        },
        "8aa7e67f5d224234835fcc54d275137f": {
          "model_module": "@jupyter-widgets/output",
          "model_name": "OutputModel",
          "model_module_version": "1.0.0",
          "state": {
            "_dom_classes": [],
            "_model_module": "@jupyter-widgets/output",
            "_model_module_version": "1.0.0",
            "_model_name": "OutputModel",
            "_view_count": null,
            "_view_module": "@jupyter-widgets/output",
            "_view_module_version": "1.0.0",
            "_view_name": "OutputView",
            "layout": "IPY_MODEL_041dc3787ba8423f82ea82325e997642",
            "msg_id": "",
            "outputs": [
              {
                "output_type": "display_data",
                "data": {
                  "text/plain": "<Figure size 576x432 with 1 Axes>",
                  "image/png": "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\n"
                },
                "metadata": {}
              }
            ]
          }
        },
        "24c9dd3726994d4d8eb6f5ece2ed4766": {
          "model_module": "@jupyter-widgets/base",
          "model_name": "LayoutModel",
          "model_module_version": "1.2.0",
          "state": {
            "_model_module": "@jupyter-widgets/base",
            "_model_module_version": "1.2.0",
            "_model_name": "LayoutModel",
            "_view_count": null,
            "_view_module": "@jupyter-widgets/base",
            "_view_module_version": "1.2.0",
            "_view_name": "LayoutView",
            "align_content": null,
            "align_items": null,
            "align_self": null,
            "border": null,
            "bottom": null,
            "display": null,
            "flex": null,
            "flex_flow": null,
            "grid_area": null,
            "grid_auto_columns": null,
            "grid_auto_flow": null,
            "grid_auto_rows": null,
            "grid_column": null,
            "grid_gap": null,
            "grid_row": null,
            "grid_template_areas": null,
            "grid_template_columns": null,
            "grid_template_rows": null,
            "height": null,
            "justify_content": null,
            "justify_items": null,
            "left": null,
            "margin": null,
            "max_height": null,
            "max_width": null,
            "min_height": null,
            "min_width": null,
            "object_fit": null,
            "object_position": null,
            "order": null,
            "overflow": null,
            "overflow_x": null,
            "overflow_y": null,
            "padding": null,
            "right": null,
            "top": null,
            "visibility": null,
            "width": null
          }
        },
        "58f76ff492f348f3bd49349ac73e0d28": {
          "model_module": "@jupyter-widgets/base",
          "model_name": "LayoutModel",
          "model_module_version": "1.2.0",
          "state": {
            "_model_module": "@jupyter-widgets/base",
            "_model_module_version": "1.2.0",
            "_model_name": "LayoutModel",
            "_view_count": null,
            "_view_module": "@jupyter-widgets/base",
            "_view_module_version": "1.2.0",
            "_view_name": "LayoutView",
            "align_content": null,
            "align_items": null,
            "align_self": null,
            "border": null,
            "bottom": null,
            "display": null,
            "flex": null,
            "flex_flow": null,
            "grid_area": null,
            "grid_auto_columns": null,
            "grid_auto_flow": null,
            "grid_auto_rows": null,
            "grid_column": null,
            "grid_gap": null,
            "grid_row": null,
            "grid_template_areas": null,
            "grid_template_columns": null,
            "grid_template_rows": null,
            "height": null,
            "justify_content": null,
            "justify_items": null,
            "left": null,
            "margin": null,
            "max_height": null,
            "max_width": null,
            "min_height": null,
            "min_width": null,
            "object_fit": null,
            "object_position": null,
            "order": null,
            "overflow": null,
            "overflow_x": null,
            "overflow_y": null,
            "padding": null,
            "right": null,
            "top": null,
            "visibility": null,
            "width": null
          }
        },
        "80738b14379b4326a13bc816f6e4e00a": {
          "model_module": "@jupyter-widgets/controls",
          "model_name": "SliderStyleModel",
          "model_module_version": "1.5.0",
          "state": {
            "_model_module": "@jupyter-widgets/controls",
            "_model_module_version": "1.5.0",
            "_model_name": "SliderStyleModel",
            "_view_count": null,
            "_view_module": "@jupyter-widgets/base",
            "_view_module_version": "1.2.0",
            "_view_name": "StyleView",
            "description_width": "",
            "handle_color": null
          }
        },
        "929aec35747c499da7c3a4e92300cdc7": {
          "model_module": "@jupyter-widgets/base",
          "model_name": "LayoutModel",
          "model_module_version": "1.2.0",
          "state": {
            "_model_module": "@jupyter-widgets/base",
            "_model_module_version": "1.2.0",
            "_model_name": "LayoutModel",
            "_view_count": null,
            "_view_module": "@jupyter-widgets/base",
            "_view_module_version": "1.2.0",
            "_view_name": "LayoutView",
            "align_content": null,
            "align_items": null,
            "align_self": null,
            "border": null,
            "bottom": null,
            "display": null,
            "flex": null,
            "flex_flow": null,
            "grid_area": null,
            "grid_auto_columns": null,
            "grid_auto_flow": null,
            "grid_auto_rows": null,
            "grid_column": null,
            "grid_gap": null,
            "grid_row": null,
            "grid_template_areas": null,
            "grid_template_columns": null,
            "grid_template_rows": null,
            "height": null,
            "justify_content": null,
            "justify_items": null,
            "left": null,
            "margin": null,
            "max_height": null,
            "max_width": null,
            "min_height": null,
            "min_width": null,
            "object_fit": null,
            "object_position": null,
            "order": null,
            "overflow": null,
            "overflow_x": null,
            "overflow_y": null,
            "padding": null,
            "right": null,
            "top": null,
            "visibility": null,
            "width": null
          }
        },
        "f229a7ceba56414cb91556dbac70822b": {
          "model_module": "@jupyter-widgets/controls",
          "model_name": "SliderStyleModel",
          "model_module_version": "1.5.0",
          "state": {
            "_model_module": "@jupyter-widgets/controls",
            "_model_module_version": "1.5.0",
            "_model_name": "SliderStyleModel",
            "_view_count": null,
            "_view_module": "@jupyter-widgets/base",
            "_view_module_version": "1.2.0",
            "_view_name": "StyleView",
            "description_width": "",
            "handle_color": null
          }
        },
        "9f47ba3987974bf79b752315ab0529df": {
          "model_module": "@jupyter-widgets/base",
          "model_name": "LayoutModel",
          "model_module_version": "1.2.0",
          "state": {
            "_model_module": "@jupyter-widgets/base",
            "_model_module_version": "1.2.0",
            "_model_name": "LayoutModel",
            "_view_count": null,
            "_view_module": "@jupyter-widgets/base",
            "_view_module_version": "1.2.0",
            "_view_name": "LayoutView",
            "align_content": null,
            "align_items": null,
            "align_self": null,
            "border": null,
            "bottom": null,
            "display": null,
            "flex": null,
            "flex_flow": null,
            "grid_area": null,
            "grid_auto_columns": null,
            "grid_auto_flow": null,
            "grid_auto_rows": null,
            "grid_column": null,
            "grid_gap": null,
            "grid_row": null,
            "grid_template_areas": null,
            "grid_template_columns": null,
            "grid_template_rows": null,
            "height": null,
            "justify_content": null,
            "justify_items": null,
            "left": null,
            "margin": null,
            "max_height": null,
            "max_width": null,
            "min_height": null,
            "min_width": null,
            "object_fit": null,
            "object_position": null,
            "order": null,
            "overflow": null,
            "overflow_x": null,
            "overflow_y": null,
            "padding": null,
            "right": null,
            "top": null,
            "visibility": null,
            "width": null
          }
        },
        "e66071e549ef44e5b9d19113ff8cc2f5": {
          "model_module": "@jupyter-widgets/controls",
          "model_name": "SliderStyleModel",
          "model_module_version": "1.5.0",
          "state": {
            "_model_module": "@jupyter-widgets/controls",
            "_model_module_version": "1.5.0",
            "_model_name": "SliderStyleModel",
            "_view_count": null,
            "_view_module": "@jupyter-widgets/base",
            "_view_module_version": "1.2.0",
            "_view_name": "StyleView",
            "description_width": "",
            "handle_color": null
          }
        },
        "041dc3787ba8423f82ea82325e997642": {
          "model_module": "@jupyter-widgets/base",
          "model_name": "LayoutModel",
          "model_module_version": "1.2.0",
          "state": {
            "_model_module": "@jupyter-widgets/base",
            "_model_module_version": "1.2.0",
            "_model_name": "LayoutModel",
            "_view_count": null,
            "_view_module": "@jupyter-widgets/base",
            "_view_module_version": "1.2.0",
            "_view_name": "LayoutView",
            "align_content": null,
            "align_items": null,
            "align_self": null,
            "border": null,
            "bottom": null,
            "display": null,
            "flex": null,
            "flex_flow": null,
            "grid_area": null,
            "grid_auto_columns": null,
            "grid_auto_flow": null,
            "grid_auto_rows": null,
            "grid_column": null,
            "grid_gap": null,
            "grid_row": null,
            "grid_template_areas": null,
            "grid_template_columns": null,
            "grid_template_rows": null,
            "height": null,
            "justify_content": null,
            "justify_items": null,
            "left": null,
            "margin": null,
            "max_height": null,
            "max_width": null,
            "min_height": null,
            "min_width": null,
            "object_fit": null,
            "object_position": null,
            "order": null,
            "overflow": null,
            "overflow_x": null,
            "overflow_y": null,
            "padding": null,
            "right": null,
            "top": null,
            "visibility": null,
            "width": null
          }
        },
        "889fbd29949a47de85a6de6b999813d9": {
          "model_module": "@jupyter-widgets/controls",
          "model_name": "VBoxModel",
          "model_module_version": "1.5.0",
          "state": {
            "_dom_classes": [
              "widget-interact"
            ],
            "_model_module": "@jupyter-widgets/controls",
            "_model_module_version": "1.5.0",
            "_model_name": "VBoxModel",
            "_view_count": null,
            "_view_module": "@jupyter-widgets/controls",
            "_view_module_version": "1.5.0",
            "_view_name": "VBoxView",
            "box_style": "",
            "children": [
              "IPY_MODEL_f9d54c2783db483aaf592a37112faf17",
              "IPY_MODEL_1cd1dba3df784c7da0485f951dd04bc8",
              "IPY_MODEL_90c8d6b6aba04f92b2d2786b57de2d4d"
            ],
            "layout": "IPY_MODEL_c367b2a4cb3443a7acd2057ff505d22e"
          }
        },
        "f9d54c2783db483aaf592a37112faf17": {
          "model_module": "@jupyter-widgets/controls",
          "model_name": "FloatSliderModel",
          "model_module_version": "1.5.0",
          "state": {
            "_dom_classes": [],
            "_model_module": "@jupyter-widgets/controls",
            "_model_module_version": "1.5.0",
            "_model_name": "FloatSliderModel",
            "_view_count": null,
            "_view_module": "@jupyter-widgets/controls",
            "_view_module_version": "1.5.0",
            "_view_name": "FloatSliderView",
            "continuous_update": true,
            "description": "m",
            "description_tooltip": null,
            "disabled": false,
            "layout": "IPY_MODEL_ff1bf30d7d0b4cb48cf08e47d8ad1838",
            "max": 4.5,
            "min": -1.5,
            "orientation": "horizontal",
            "readout": true,
            "readout_format": ".2f",
            "step": 0.1,
            "style": "IPY_MODEL_b0baa5c9529b4b9299e61b0989e32735",
            "value": 1.5
          }
        },
        "1cd1dba3df784c7da0485f951dd04bc8": {
          "model_module": "@jupyter-widgets/controls",
          "model_name": "FloatSliderModel",
          "model_module_version": "1.5.0",
          "state": {
            "_dom_classes": [],
            "_model_module": "@jupyter-widgets/controls",
            "_model_module_version": "1.5.0",
            "_model_name": "FloatSliderModel",
            "_view_count": null,
            "_view_module": "@jupyter-widgets/controls",
            "_view_module_version": "1.5.0",
            "_view_name": "FloatSliderView",
            "continuous_update": true,
            "description": "b",
            "description_tooltip": null,
            "disabled": false,
            "layout": "IPY_MODEL_d230c99644d94b12a5016d9f6b682355",
            "max": 4.5,
            "min": -1.5,
            "orientation": "horizontal",
            "readout": true,
            "readout_format": ".2f",
            "step": 0.1,
            "style": "IPY_MODEL_49dd0c15bc54438cb3d2eebd5bf957b2",
            "value": 1.5
          }
        },
        "90c8d6b6aba04f92b2d2786b57de2d4d": {
          "model_module": "@jupyter-widgets/output",
          "model_name": "OutputModel",
          "model_module_version": "1.0.0",
          "state": {
            "_dom_classes": [],
            "_model_module": "@jupyter-widgets/output",
            "_model_module_version": "1.0.0",
            "_model_name": "OutputModel",
            "_view_count": null,
            "_view_module": "@jupyter-widgets/output",
            "_view_module_version": "1.0.0",
            "_view_name": "OutputView",
            "layout": "IPY_MODEL_4e078c7846a34a10a581d27dd60188fa",
            "msg_id": "",
            "outputs": [
              {
                "output_type": "display_data",
                "data": {
                  "text/plain": "<Figure size 576x432 with 1 Axes>",
                  "image/png": "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\n"
                },
                "metadata": {}
              }
            ]
          }
        },
        "c367b2a4cb3443a7acd2057ff505d22e": {
          "model_module": "@jupyter-widgets/base",
          "model_name": "LayoutModel",
          "model_module_version": "1.2.0",
          "state": {
            "_model_module": "@jupyter-widgets/base",
            "_model_module_version": "1.2.0",
            "_model_name": "LayoutModel",
            "_view_count": null,
            "_view_module": "@jupyter-widgets/base",
            "_view_module_version": "1.2.0",
            "_view_name": "LayoutView",
            "align_content": null,
            "align_items": null,
            "align_self": null,
            "border": null,
            "bottom": null,
            "display": null,
            "flex": null,
            "flex_flow": null,
            "grid_area": null,
            "grid_auto_columns": null,
            "grid_auto_flow": null,
            "grid_auto_rows": null,
            "grid_column": null,
            "grid_gap": null,
            "grid_row": null,
            "grid_template_areas": null,
            "grid_template_columns": null,
            "grid_template_rows": null,
            "height": null,
            "justify_content": null,
            "justify_items": null,
            "left": null,
            "margin": null,
            "max_height": null,
            "max_width": null,
            "min_height": null,
            "min_width": null,
            "object_fit": null,
            "object_position": null,
            "order": null,
            "overflow": null,
            "overflow_x": null,
            "overflow_y": null,
            "padding": null,
            "right": null,
            "top": null,
            "visibility": null,
            "width": null
          }
        },
        "ff1bf30d7d0b4cb48cf08e47d8ad1838": {
          "model_module": "@jupyter-widgets/base",
          "model_name": "LayoutModel",
          "model_module_version": "1.2.0",
          "state": {
            "_model_module": "@jupyter-widgets/base",
            "_model_module_version": "1.2.0",
            "_model_name": "LayoutModel",
            "_view_count": null,
            "_view_module": "@jupyter-widgets/base",
            "_view_module_version": "1.2.0",
            "_view_name": "LayoutView",
            "align_content": null,
            "align_items": null,
            "align_self": null,
            "border": null,
            "bottom": null,
            "display": null,
            "flex": null,
            "flex_flow": null,
            "grid_area": null,
            "grid_auto_columns": null,
            "grid_auto_flow": null,
            "grid_auto_rows": null,
            "grid_column": null,
            "grid_gap": null,
            "grid_row": null,
            "grid_template_areas": null,
            "grid_template_columns": null,
            "grid_template_rows": null,
            "height": null,
            "justify_content": null,
            "justify_items": null,
            "left": null,
            "margin": null,
            "max_height": null,
            "max_width": null,
            "min_height": null,
            "min_width": null,
            "object_fit": null,
            "object_position": null,
            "order": null,
            "overflow": null,
            "overflow_x": null,
            "overflow_y": null,
            "padding": null,
            "right": null,
            "top": null,
            "visibility": null,
            "width": null
          }
        },
        "b0baa5c9529b4b9299e61b0989e32735": {
          "model_module": "@jupyter-widgets/controls",
          "model_name": "SliderStyleModel",
          "model_module_version": "1.5.0",
          "state": {
            "_model_module": "@jupyter-widgets/controls",
            "_model_module_version": "1.5.0",
            "_model_name": "SliderStyleModel",
            "_view_count": null,
            "_view_module": "@jupyter-widgets/base",
            "_view_module_version": "1.2.0",
            "_view_name": "StyleView",
            "description_width": "",
            "handle_color": null
          }
        },
        "d230c99644d94b12a5016d9f6b682355": {
          "model_module": "@jupyter-widgets/base",
          "model_name": "LayoutModel",
          "model_module_version": "1.2.0",
          "state": {
            "_model_module": "@jupyter-widgets/base",
            "_model_module_version": "1.2.0",
            "_model_name": "LayoutModel",
            "_view_count": null,
            "_view_module": "@jupyter-widgets/base",
            "_view_module_version": "1.2.0",
            "_view_name": "LayoutView",
            "align_content": null,
            "align_items": null,
            "align_self": null,
            "border": null,
            "bottom": null,
            "display": null,
            "flex": null,
            "flex_flow": null,
            "grid_area": null,
            "grid_auto_columns": null,
            "grid_auto_flow": null,
            "grid_auto_rows": null,
            "grid_column": null,
            "grid_gap": null,
            "grid_row": null,
            "grid_template_areas": null,
            "grid_template_columns": null,
            "grid_template_rows": null,
            "height": null,
            "justify_content": null,
            "justify_items": null,
            "left": null,
            "margin": null,
            "max_height": null,
            "max_width": null,
            "min_height": null,
            "min_width": null,
            "object_fit": null,
            "object_position": null,
            "order": null,
            "overflow": null,
            "overflow_x": null,
            "overflow_y": null,
            "padding": null,
            "right": null,
            "top": null,
            "visibility": null,
            "width": null
          }
        },
        "49dd0c15bc54438cb3d2eebd5bf957b2": {
          "model_module": "@jupyter-widgets/controls",
          "model_name": "SliderStyleModel",
          "model_module_version": "1.5.0",
          "state": {
            "_model_module": "@jupyter-widgets/controls",
            "_model_module_version": "1.5.0",
            "_model_name": "SliderStyleModel",
            "_view_count": null,
            "_view_module": "@jupyter-widgets/base",
            "_view_module_version": "1.2.0",
            "_view_name": "StyleView",
            "description_width": "",
            "handle_color": null
          }
        },
        "4e078c7846a34a10a581d27dd60188fa": {
          "model_module": "@jupyter-widgets/base",
          "model_name": "LayoutModel",
          "model_module_version": "1.2.0",
          "state": {
            "_model_module": "@jupyter-widgets/base",
            "_model_module_version": "1.2.0",
            "_model_name": "LayoutModel",
            "_view_count": null,
            "_view_module": "@jupyter-widgets/base",
            "_view_module_version": "1.2.0",
            "_view_name": "LayoutView",
            "align_content": null,
            "align_items": null,
            "align_self": null,
            "border": null,
            "bottom": null,
            "display": null,
            "flex": null,
            "flex_flow": null,
            "grid_area": null,
            "grid_auto_columns": null,
            "grid_auto_flow": null,
            "grid_auto_rows": null,
            "grid_column": null,
            "grid_gap": null,
            "grid_row": null,
            "grid_template_areas": null,
            "grid_template_columns": null,
            "grid_template_rows": null,
            "height": null,
            "justify_content": null,
            "justify_items": null,
            "left": null,
            "margin": null,
            "max_height": null,
            "max_width": null,
            "min_height": null,
            "min_width": null,
            "object_fit": null,
            "object_position": null,
            "order": null,
            "overflow": null,
            "overflow_x": null,
            "overflow_y": null,
            "padding": null,
            "right": null,
            "top": null,
            "visibility": null,
            "width": null
          }
        },
        "837f40fa02f84740be716ff913ee9935": {
          "model_module": "@jupyter-widgets/controls",
          "model_name": "VBoxModel",
          "model_module_version": "1.5.0",
          "state": {
            "_dom_classes": [
              "widget-interact"
            ],
            "_model_module": "@jupyter-widgets/controls",
            "_model_module_version": "1.5.0",
            "_model_name": "VBoxModel",
            "_view_count": null,
            "_view_module": "@jupyter-widgets/controls",
            "_view_module_version": "1.5.0",
            "_view_name": "VBoxView",
            "box_style": "",
            "children": [
              "IPY_MODEL_33eafefcd883411c944b033a7785860f",
              "IPY_MODEL_f0e84013324f463e912204f850d8a2fe",
              "IPY_MODEL_e7ed05d933a341ec99985e3a489cfe1d",
              "IPY_MODEL_2d636cca30174dfd89a34c272bc40fb1",
              "IPY_MODEL_5dd1fa9b6e2f48ad9398ed12083a57c9"
            ],
            "layout": "IPY_MODEL_dde79506808e4372bf53703cc80014b6"
          }
        },
        "33eafefcd883411c944b033a7785860f": {
          "model_module": "@jupyter-widgets/controls",
          "model_name": "FloatSliderModel",
          "model_module_version": "1.5.0",
          "state": {
            "_dom_classes": [],
            "_model_module": "@jupyter-widgets/controls",
            "_model_module_version": "1.5.0",
            "_model_name": "FloatSliderModel",
            "_view_count": null,
            "_view_module": "@jupyter-widgets/controls",
            "_view_module_version": "1.5.0",
            "_view_name": "FloatSliderView",
            "continuous_update": true,
            "description": "m1",
            "description_tooltip": null,
            "disabled": false,
            "layout": "IPY_MODEL_6c99724c30b3464d8da58d112499c8a7",
            "max": 1.5,
            "min": -4.5,
            "orientation": "horizontal",
            "readout": true,
            "readout_format": ".2f",
            "step": 0.1,
            "style": "IPY_MODEL_aea51394c0ed4d0685ec5f764781d86a",
            "value": -1.5
          }
        },
        "f0e84013324f463e912204f850d8a2fe": {
          "model_module": "@jupyter-widgets/controls",
          "model_name": "FloatSliderModel",
          "model_module_version": "1.5.0",
          "state": {
            "_dom_classes": [],
            "_model_module": "@jupyter-widgets/controls",
            "_model_module_version": "1.5.0",
            "_model_name": "FloatSliderModel",
            "_view_count": null,
            "_view_module": "@jupyter-widgets/controls",
            "_view_module_version": "1.5.0",
            "_view_name": "FloatSliderView",
            "continuous_update": true,
            "description": "b1",
            "description_tooltip": null,
            "disabled": false,
            "layout": "IPY_MODEL_d757c0b559dd42ddb75f9f4f88cdfc24",
            "max": 1.5,
            "min": -4.5,
            "orientation": "horizontal",
            "readout": true,
            "readout_format": ".2f",
            "step": 0.1,
            "style": "IPY_MODEL_0006bf4d527742f4965a0478e483208c",
            "value": -1.5
          }
        },
        "e7ed05d933a341ec99985e3a489cfe1d": {
          "model_module": "@jupyter-widgets/controls",
          "model_name": "FloatSliderModel",
          "model_module_version": "1.5.0",
          "state": {
            "_dom_classes": [],
            "_model_module": "@jupyter-widgets/controls",
            "_model_module_version": "1.5.0",
            "_model_name": "FloatSliderModel",
            "_view_count": null,
            "_view_module": "@jupyter-widgets/controls",
            "_view_module_version": "1.5.0",
            "_view_name": "FloatSliderView",
            "continuous_update": true,
            "description": "m2",
            "description_tooltip": null,
            "disabled": false,
            "layout": "IPY_MODEL_95aa5c5e35744959b7ee6c7a951deb6b",
            "max": 4.5,
            "min": -1.5,
            "orientation": "horizontal",
            "readout": true,
            "readout_format": ".2f",
            "step": 0.1,
            "style": "IPY_MODEL_2d0ca17561ed4250b08781808bc16153",
            "value": 1.5
          }
        },
        "2d636cca30174dfd89a34c272bc40fb1": {
          "model_module": "@jupyter-widgets/controls",
          "model_name": "FloatSliderModel",
          "model_module_version": "1.5.0",
          "state": {
            "_dom_classes": [],
            "_model_module": "@jupyter-widgets/controls",
            "_model_module_version": "1.5.0",
            "_model_name": "FloatSliderModel",
            "_view_count": null,
            "_view_module": "@jupyter-widgets/controls",
            "_view_module_version": "1.5.0",
            "_view_name": "FloatSliderView",
            "continuous_update": true,
            "description": "b2",
            "description_tooltip": null,
            "disabled": false,
            "layout": "IPY_MODEL_742f65bc18a947a7b05de14ba2d247fe",
            "max": 4.5,
            "min": -1.5,
            "orientation": "horizontal",
            "readout": true,
            "readout_format": ".2f",
            "step": 0.1,
            "style": "IPY_MODEL_a72f1341017043ef81f2a37b34e2f657",
            "value": 1.5
          }
        },
        "5dd1fa9b6e2f48ad9398ed12083a57c9": {
          "model_module": "@jupyter-widgets/output",
          "model_name": "OutputModel",
          "model_module_version": "1.0.0",
          "state": {
            "_dom_classes": [],
            "_model_module": "@jupyter-widgets/output",
            "_model_module_version": "1.0.0",
            "_model_name": "OutputModel",
            "_view_count": null,
            "_view_module": "@jupyter-widgets/output",
            "_view_module_version": "1.0.0",
            "_view_name": "OutputView",
            "layout": "IPY_MODEL_11bfc00f46bd46288539f022734ab66a",
            "msg_id": "",
            "outputs": [
              {
                "output_type": "display_data",
                "data": {
                  "text/plain": "<Figure size 576x432 with 1 Axes>",
                  "image/png": "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\n"
                },
                "metadata": {}
              }
            ]
          }
        },
        "dde79506808e4372bf53703cc80014b6": {
          "model_module": "@jupyter-widgets/base",
          "model_name": "LayoutModel",
          "model_module_version": "1.2.0",
          "state": {
            "_model_module": "@jupyter-widgets/base",
            "_model_module_version": "1.2.0",
            "_model_name": "LayoutModel",
            "_view_count": null,
            "_view_module": "@jupyter-widgets/base",
            "_view_module_version": "1.2.0",
            "_view_name": "LayoutView",
            "align_content": null,
            "align_items": null,
            "align_self": null,
            "border": null,
            "bottom": null,
            "display": null,
            "flex": null,
            "flex_flow": null,
            "grid_area": null,
            "grid_auto_columns": null,
            "grid_auto_flow": null,
            "grid_auto_rows": null,
            "grid_column": null,
            "grid_gap": null,
            "grid_row": null,
            "grid_template_areas": null,
            "grid_template_columns": null,
            "grid_template_rows": null,
            "height": null,
            "justify_content": null,
            "justify_items": null,
            "left": null,
            "margin": null,
            "max_height": null,
            "max_width": null,
            "min_height": null,
            "min_width": null,
            "object_fit": null,
            "object_position": null,
            "order": null,
            "overflow": null,
            "overflow_x": null,
            "overflow_y": null,
            "padding": null,
            "right": null,
            "top": null,
            "visibility": null,
            "width": null
          }
        },
        "6c99724c30b3464d8da58d112499c8a7": {
          "model_module": "@jupyter-widgets/base",
          "model_name": "LayoutModel",
          "model_module_version": "1.2.0",
          "state": {
            "_model_module": "@jupyter-widgets/base",
            "_model_module_version": "1.2.0",
            "_model_name": "LayoutModel",
            "_view_count": null,
            "_view_module": "@jupyter-widgets/base",
            "_view_module_version": "1.2.0",
            "_view_name": "LayoutView",
            "align_content": null,
            "align_items": null,
            "align_self": null,
            "border": null,
            "bottom": null,
            "display": null,
            "flex": null,
            "flex_flow": null,
            "grid_area": null,
            "grid_auto_columns": null,
            "grid_auto_flow": null,
            "grid_auto_rows": null,
            "grid_column": null,
            "grid_gap": null,
            "grid_row": null,
            "grid_template_areas": null,
            "grid_template_columns": null,
            "grid_template_rows": null,
            "height": null,
            "justify_content": null,
            "justify_items": null,
            "left": null,
            "margin": null,
            "max_height": null,
            "max_width": null,
            "min_height": null,
            "min_width": null,
            "object_fit": null,
            "object_position": null,
            "order": null,
            "overflow": null,
            "overflow_x": null,
            "overflow_y": null,
            "padding": null,
            "right": null,
            "top": null,
            "visibility": null,
            "width": null
          }
        },
        "aea51394c0ed4d0685ec5f764781d86a": {
          "model_module": "@jupyter-widgets/controls",
          "model_name": "SliderStyleModel",
          "model_module_version": "1.5.0",
          "state": {
            "_model_module": "@jupyter-widgets/controls",
            "_model_module_version": "1.5.0",
            "_model_name": "SliderStyleModel",
            "_view_count": null,
            "_view_module": "@jupyter-widgets/base",
            "_view_module_version": "1.2.0",
            "_view_name": "StyleView",
            "description_width": "",
            "handle_color": null
          }
        },
        "d757c0b559dd42ddb75f9f4f88cdfc24": {
          "model_module": "@jupyter-widgets/base",
          "model_name": "LayoutModel",
          "model_module_version": "1.2.0",
          "state": {
            "_model_module": "@jupyter-widgets/base",
            "_model_module_version": "1.2.0",
            "_model_name": "LayoutModel",
            "_view_count": null,
            "_view_module": "@jupyter-widgets/base",
            "_view_module_version": "1.2.0",
            "_view_name": "LayoutView",
            "align_content": null,
            "align_items": null,
            "align_self": null,
            "border": null,
            "bottom": null,
            "display": null,
            "flex": null,
            "flex_flow": null,
            "grid_area": null,
            "grid_auto_columns": null,
            "grid_auto_flow": null,
            "grid_auto_rows": null,
            "grid_column": null,
            "grid_gap": null,
            "grid_row": null,
            "grid_template_areas": null,
            "grid_template_columns": null,
            "grid_template_rows": null,
            "height": null,
            "justify_content": null,
            "justify_items": null,
            "left": null,
            "margin": null,
            "max_height": null,
            "max_width": null,
            "min_height": null,
            "min_width": null,
            "object_fit": null,
            "object_position": null,
            "order": null,
            "overflow": null,
            "overflow_x": null,
            "overflow_y": null,
            "padding": null,
            "right": null,
            "top": null,
            "visibility": null,
            "width": null
          }
        },
        "0006bf4d527742f4965a0478e483208c": {
          "model_module": "@jupyter-widgets/controls",
          "model_name": "SliderStyleModel",
          "model_module_version": "1.5.0",
          "state": {
            "_model_module": "@jupyter-widgets/controls",
            "_model_module_version": "1.5.0",
            "_model_name": "SliderStyleModel",
            "_view_count": null,
            "_view_module": "@jupyter-widgets/base",
            "_view_module_version": "1.2.0",
            "_view_name": "StyleView",
            "description_width": "",
            "handle_color": null
          }
        },
        "95aa5c5e35744959b7ee6c7a951deb6b": {
          "model_module": "@jupyter-widgets/base",
          "model_name": "LayoutModel",
          "model_module_version": "1.2.0",
          "state": {
            "_model_module": "@jupyter-widgets/base",
            "_model_module_version": "1.2.0",
            "_model_name": "LayoutModel",
            "_view_count": null,
            "_view_module": "@jupyter-widgets/base",
            "_view_module_version": "1.2.0",
            "_view_name": "LayoutView",
            "align_content": null,
            "align_items": null,
            "align_self": null,
            "border": null,
            "bottom": null,
            "display": null,
            "flex": null,
            "flex_flow": null,
            "grid_area": null,
            "grid_auto_columns": null,
            "grid_auto_flow": null,
            "grid_auto_rows": null,
            "grid_column": null,
            "grid_gap": null,
            "grid_row": null,
            "grid_template_areas": null,
            "grid_template_columns": null,
            "grid_template_rows": null,
            "height": null,
            "justify_content": null,
            "justify_items": null,
            "left": null,
            "margin": null,
            "max_height": null,
            "max_width": null,
            "min_height": null,
            "min_width": null,
            "object_fit": null,
            "object_position": null,
            "order": null,
            "overflow": null,
            "overflow_x": null,
            "overflow_y": null,
            "padding": null,
            "right": null,
            "top": null,
            "visibility": null,
            "width": null
          }
        },
        "2d0ca17561ed4250b08781808bc16153": {
          "model_module": "@jupyter-widgets/controls",
          "model_name": "SliderStyleModel",
          "model_module_version": "1.5.0",
          "state": {
            "_model_module": "@jupyter-widgets/controls",
            "_model_module_version": "1.5.0",
            "_model_name": "SliderStyleModel",
            "_view_count": null,
            "_view_module": "@jupyter-widgets/base",
            "_view_module_version": "1.2.0",
            "_view_name": "StyleView",
            "description_width": "",
            "handle_color": null
          }
        },
        "742f65bc18a947a7b05de14ba2d247fe": {
          "model_module": "@jupyter-widgets/base",
          "model_name": "LayoutModel",
          "model_module_version": "1.2.0",
          "state": {
            "_model_module": "@jupyter-widgets/base",
            "_model_module_version": "1.2.0",
            "_model_name": "LayoutModel",
            "_view_count": null,
            "_view_module": "@jupyter-widgets/base",
            "_view_module_version": "1.2.0",
            "_view_name": "LayoutView",
            "align_content": null,
            "align_items": null,
            "align_self": null,
            "border": null,
            "bottom": null,
            "display": null,
            "flex": null,
            "flex_flow": null,
            "grid_area": null,
            "grid_auto_columns": null,
            "grid_auto_flow": null,
            "grid_auto_rows": null,
            "grid_column": null,
            "grid_gap": null,
            "grid_row": null,
            "grid_template_areas": null,
            "grid_template_columns": null,
            "grid_template_rows": null,
            "height": null,
            "justify_content": null,
            "justify_items": null,
            "left": null,
            "margin": null,
            "max_height": null,
            "max_width": null,
            "min_height": null,
            "min_width": null,
            "object_fit": null,
            "object_position": null,
            "order": null,
            "overflow": null,
            "overflow_x": null,
            "overflow_y": null,
            "padding": null,
            "right": null,
            "top": null,
            "visibility": null,
            "width": null
          }
        },
        "a72f1341017043ef81f2a37b34e2f657": {
          "model_module": "@jupyter-widgets/controls",
          "model_name": "SliderStyleModel",
          "model_module_version": "1.5.0",
          "state": {
            "_model_module": "@jupyter-widgets/controls",
            "_model_module_version": "1.5.0",
            "_model_name": "SliderStyleModel",
            "_view_count": null,
            "_view_module": "@jupyter-widgets/base",
            "_view_module_version": "1.2.0",
            "_view_name": "StyleView",
            "description_width": "",
            "handle_color": null
          }
        },
        "11bfc00f46bd46288539f022734ab66a": {
          "model_module": "@jupyter-widgets/base",
          "model_name": "LayoutModel",
          "model_module_version": "1.2.0",
          "state": {
            "_model_module": "@jupyter-widgets/base",
            "_model_module_version": "1.2.0",
            "_model_name": "LayoutModel",
            "_view_count": null,
            "_view_module": "@jupyter-widgets/base",
            "_view_module_version": "1.2.0",
            "_view_name": "LayoutView",
            "align_content": null,
            "align_items": null,
            "align_self": null,
            "border": null,
            "bottom": null,
            "display": null,
            "flex": null,
            "flex_flow": null,
            "grid_area": null,
            "grid_auto_columns": null,
            "grid_auto_flow": null,
            "grid_auto_rows": null,
            "grid_column": null,
            "grid_gap": null,
            "grid_row": null,
            "grid_template_areas": null,
            "grid_template_columns": null,
            "grid_template_rows": null,
            "height": null,
            "justify_content": null,
            "justify_items": null,
            "left": null,
            "margin": null,
            "max_height": null,
            "max_width": null,
            "min_height": null,
            "min_width": null,
            "object_fit": null,
            "object_position": null,
            "order": null,
            "overflow": null,
            "overflow_x": null,
            "overflow_y": null,
            "padding": null,
            "right": null,
            "top": null,
            "visibility": null,
            "width": null
          }
        },
        "1c8385171f0340cd9a9179505e5c26f9": {
          "model_module": "@jupyter-widgets/controls",
          "model_name": "VBoxModel",
          "model_module_version": "1.5.0",
          "state": {
            "_dom_classes": [
              "widget-interact"
            ],
            "_model_module": "@jupyter-widgets/controls",
            "_model_module_version": "1.5.0",
            "_model_name": "VBoxModel",
            "_view_count": null,
            "_view_module": "@jupyter-widgets/controls",
            "_view_module_version": "1.5.0",
            "_view_name": "VBoxView",
            "box_style": "",
            "children": [
              "IPY_MODEL_5a66675777604365b6227a4355bed956",
              "IPY_MODEL_34c16e1529364038be1e6af96fd37ef6",
              "IPY_MODEL_624f9e3b27904ca2a81ca48917b9faf0",
              "IPY_MODEL_9d051b0f011d42d8bd9f5f6a99009269",
              "IPY_MODEL_b9f653b5f6114eb7b848b8d8727daa2d",
              "IPY_MODEL_6a8802a2490e4b37a8c945a41f4bdd8f",
              "IPY_MODEL_3217bb5b841c43fc976a4e518aab51a3"
            ],
            "layout": "IPY_MODEL_d5fb5da0ab8a45a18582fef6a2050a35"
          }
        },
        "5a66675777604365b6227a4355bed956": {
          "model_module": "@jupyter-widgets/controls",
          "model_name": "FloatSliderModel",
          "model_module_version": "1.5.0",
          "state": {
            "_dom_classes": [],
            "_model_module": "@jupyter-widgets/controls",
            "_model_module_version": "1.5.0",
            "_model_name": "FloatSliderModel",
            "_view_count": null,
            "_view_module": "@jupyter-widgets/controls",
            "_view_module_version": "1.5.0",
            "_view_name": "FloatSliderView",
            "continuous_update": true,
            "description": "m1",
            "description_tooltip": null,
            "disabled": false,
            "layout": "IPY_MODEL_01c7e9b38e1d4873a15da2a8e39c4a55",
            "max": 1.5,
            "min": -4.5,
            "orientation": "horizontal",
            "readout": true,
            "readout_format": ".2f",
            "step": 0.1,
            "style": "IPY_MODEL_1ff7eed836fc4e9badb01189e81ec59f",
            "value": -1.5
          }
        },
        "34c16e1529364038be1e6af96fd37ef6": {
          "model_module": "@jupyter-widgets/controls",
          "model_name": "FloatSliderModel",
          "model_module_version": "1.5.0",
          "state": {
            "_dom_classes": [],
            "_model_module": "@jupyter-widgets/controls",
            "_model_module_version": "1.5.0",
            "_model_name": "FloatSliderModel",
            "_view_count": null,
            "_view_module": "@jupyter-widgets/controls",
            "_view_module_version": "1.5.0",
            "_view_name": "FloatSliderView",
            "continuous_update": true,
            "description": "b1",
            "description_tooltip": null,
            "disabled": false,
            "layout": "IPY_MODEL_23d78f23381543918924746617ab351f",
            "max": 1.5,
            "min": -4.5,
            "orientation": "horizontal",
            "readout": true,
            "readout_format": ".2f",
            "step": 0.1,
            "style": "IPY_MODEL_56c701df4e54474dbf40893b34ad24dc",
            "value": -1.5
          }
        },
        "624f9e3b27904ca2a81ca48917b9faf0": {
          "model_module": "@jupyter-widgets/controls",
          "model_name": "FloatSliderModel",
          "model_module_version": "1.5.0",
          "state": {
            "_dom_classes": [],
            "_model_module": "@jupyter-widgets/controls",
            "_model_module_version": "1.5.0",
            "_model_name": "FloatSliderModel",
            "_view_count": null,
            "_view_module": "@jupyter-widgets/controls",
            "_view_module_version": "1.5.0",
            "_view_name": "FloatSliderView",
            "continuous_update": true,
            "description": "m2",
            "description_tooltip": null,
            "disabled": false,
            "layout": "IPY_MODEL_30104567e63b4d01a530f37ca8107ebd",
            "max": 4.5,
            "min": -1.5,
            "orientation": "horizontal",
            "readout": true,
            "readout_format": ".2f",
            "step": 0.1,
            "style": "IPY_MODEL_6aaf14a09c644bb2b86e6dfa96354a36",
            "value": 1.5
          }
        },
        "9d051b0f011d42d8bd9f5f6a99009269": {
          "model_module": "@jupyter-widgets/controls",
          "model_name": "FloatSliderModel",
          "model_module_version": "1.5.0",
          "state": {
            "_dom_classes": [],
            "_model_module": "@jupyter-widgets/controls",
            "_model_module_version": "1.5.0",
            "_model_name": "FloatSliderModel",
            "_view_count": null,
            "_view_module": "@jupyter-widgets/controls",
            "_view_module_version": "1.5.0",
            "_view_name": "FloatSliderView",
            "continuous_update": true,
            "description": "b2",
            "description_tooltip": null,
            "disabled": false,
            "layout": "IPY_MODEL_7cc5edc4191a467a8063455ea11ea692",
            "max": 4.5,
            "min": -1.5,
            "orientation": "horizontal",
            "readout": true,
            "readout_format": ".2f",
            "step": 0.1,
            "style": "IPY_MODEL_0c60ff79c5d34ff383c84f642e43df9b",
            "value": 1.5
          }
        },
        "b9f653b5f6114eb7b848b8d8727daa2d": {
          "model_module": "@jupyter-widgets/controls",
          "model_name": "IntSliderModel",
          "model_module_version": "1.5.0",
          "state": {
            "_dom_classes": [],
            "_model_module": "@jupyter-widgets/controls",
            "_model_module_version": "1.5.0",
            "_model_name": "IntSliderModel",
            "_view_count": null,
            "_view_module": "@jupyter-widgets/controls",
            "_view_module_version": "1.5.0",
            "_view_name": "IntSliderView",
            "continuous_update": true,
            "description": "m3",
            "description_tooltip": null,
            "disabled": false,
            "layout": "IPY_MODEL_1b40efdc03ae4051b5cb2ecdf043a288",
            "max": 3,
            "min": -1,
            "orientation": "horizontal",
            "readout": true,
            "readout_format": "d",
            "step": 1,
            "style": "IPY_MODEL_5ea8198b4f1f4da3ae3b9791358ca2f6",
            "value": 1
          }
        },
        "6a8802a2490e4b37a8c945a41f4bdd8f": {
          "model_module": "@jupyter-widgets/controls",
          "model_name": "IntSliderModel",
          "model_module_version": "1.5.0",
          "state": {
            "_dom_classes": [],
            "_model_module": "@jupyter-widgets/controls",
            "_model_module_version": "1.5.0",
            "_model_name": "IntSliderModel",
            "_view_count": null,
            "_view_module": "@jupyter-widgets/controls",
            "_view_module_version": "1.5.0",
            "_view_name": "IntSliderView",
            "continuous_update": true,
            "description": "b3",
            "description_tooltip": null,
            "disabled": false,
            "layout": "IPY_MODEL_423dc4a9d12041738b86b83c9af13f93",
            "max": 3,
            "min": -1,
            "orientation": "horizontal",
            "readout": true,
            "readout_format": "d",
            "step": 1,
            "style": "IPY_MODEL_8947d0d671de46638e88af11ec39aef6",
            "value": 1
          }
        },
        "3217bb5b841c43fc976a4e518aab51a3": {
          "model_module": "@jupyter-widgets/output",
          "model_name": "OutputModel",
          "model_module_version": "1.0.0",
          "state": {
            "_dom_classes": [],
            "_model_module": "@jupyter-widgets/output",
            "_model_module_version": "1.0.0",
            "_model_name": "OutputModel",
            "_view_count": null,
            "_view_module": "@jupyter-widgets/output",
            "_view_module_version": "1.0.0",
            "_view_name": "OutputView",
            "layout": "IPY_MODEL_ea5c97462f6349a392f0f289726d174b",
            "msg_id": "",
            "outputs": [
              {
                "output_type": "display_data",
                "data": {
                  "text/plain": "<Figure size 576x432 with 1 Axes>",
                  "image/png": "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\n"
                },
                "metadata": {}
              }
            ]
          }
        },
        "d5fb5da0ab8a45a18582fef6a2050a35": {
          "model_module": "@jupyter-widgets/base",
          "model_name": "LayoutModel",
          "model_module_version": "1.2.0",
          "state": {
            "_model_module": "@jupyter-widgets/base",
            "_model_module_version": "1.2.0",
            "_model_name": "LayoutModel",
            "_view_count": null,
            "_view_module": "@jupyter-widgets/base",
            "_view_module_version": "1.2.0",
            "_view_name": "LayoutView",
            "align_content": null,
            "align_items": null,
            "align_self": null,
            "border": null,
            "bottom": null,
            "display": null,
            "flex": null,
            "flex_flow": null,
            "grid_area": null,
            "grid_auto_columns": null,
            "grid_auto_flow": null,
            "grid_auto_rows": null,
            "grid_column": null,
            "grid_gap": null,
            "grid_row": null,
            "grid_template_areas": null,
            "grid_template_columns": null,
            "grid_template_rows": null,
            "height": null,
            "justify_content": null,
            "justify_items": null,
            "left": null,
            "margin": null,
            "max_height": null,
            "max_width": null,
            "min_height": null,
            "min_width": null,
            "object_fit": null,
            "object_position": null,
            "order": null,
            "overflow": null,
            "overflow_x": null,
            "overflow_y": null,
            "padding": null,
            "right": null,
            "top": null,
            "visibility": null,
            "width": null
          }
        },
        "01c7e9b38e1d4873a15da2a8e39c4a55": {
          "model_module": "@jupyter-widgets/base",
          "model_name": "LayoutModel",
          "model_module_version": "1.2.0",
          "state": {
            "_model_module": "@jupyter-widgets/base",
            "_model_module_version": "1.2.0",
            "_model_name": "LayoutModel",
            "_view_count": null,
            "_view_module": "@jupyter-widgets/base",
            "_view_module_version": "1.2.0",
            "_view_name": "LayoutView",
            "align_content": null,
            "align_items": null,
            "align_self": null,
            "border": null,
            "bottom": null,
            "display": null,
            "flex": null,
            "flex_flow": null,
            "grid_area": null,
            "grid_auto_columns": null,
            "grid_auto_flow": null,
            "grid_auto_rows": null,
            "grid_column": null,
            "grid_gap": null,
            "grid_row": null,
            "grid_template_areas": null,
            "grid_template_columns": null,
            "grid_template_rows": null,
            "height": null,
            "justify_content": null,
            "justify_items": null,
            "left": null,
            "margin": null,
            "max_height": null,
            "max_width": null,
            "min_height": null,
            "min_width": null,
            "object_fit": null,
            "object_position": null,
            "order": null,
            "overflow": null,
            "overflow_x": null,
            "overflow_y": null,
            "padding": null,
            "right": null,
            "top": null,
            "visibility": null,
            "width": null
          }
        },
        "1ff7eed836fc4e9badb01189e81ec59f": {
          "model_module": "@jupyter-widgets/controls",
          "model_name": "SliderStyleModel",
          "model_module_version": "1.5.0",
          "state": {
            "_model_module": "@jupyter-widgets/controls",
            "_model_module_version": "1.5.0",
            "_model_name": "SliderStyleModel",
            "_view_count": null,
            "_view_module": "@jupyter-widgets/base",
            "_view_module_version": "1.2.0",
            "_view_name": "StyleView",
            "description_width": "",
            "handle_color": null
          }
        },
        "23d78f23381543918924746617ab351f": {
          "model_module": "@jupyter-widgets/base",
          "model_name": "LayoutModel",
          "model_module_version": "1.2.0",
          "state": {
            "_model_module": "@jupyter-widgets/base",
            "_model_module_version": "1.2.0",
            "_model_name": "LayoutModel",
            "_view_count": null,
            "_view_module": "@jupyter-widgets/base",
            "_view_module_version": "1.2.0",
            "_view_name": "LayoutView",
            "align_content": null,
            "align_items": null,
            "align_self": null,
            "border": null,
            "bottom": null,
            "display": null,
            "flex": null,
            "flex_flow": null,
            "grid_area": null,
            "grid_auto_columns": null,
            "grid_auto_flow": null,
            "grid_auto_rows": null,
            "grid_column": null,
            "grid_gap": null,
            "grid_row": null,
            "grid_template_areas": null,
            "grid_template_columns": null,
            "grid_template_rows": null,
            "height": null,
            "justify_content": null,
            "justify_items": null,
            "left": null,
            "margin": null,
            "max_height": null,
            "max_width": null,
            "min_height": null,
            "min_width": null,
            "object_fit": null,
            "object_position": null,
            "order": null,
            "overflow": null,
            "overflow_x": null,
            "overflow_y": null,
            "padding": null,
            "right": null,
            "top": null,
            "visibility": null,
            "width": null
          }
        },
        "56c701df4e54474dbf40893b34ad24dc": {
          "model_module": "@jupyter-widgets/controls",
          "model_name": "SliderStyleModel",
          "model_module_version": "1.5.0",
          "state": {
            "_model_module": "@jupyter-widgets/controls",
            "_model_module_version": "1.5.0",
            "_model_name": "SliderStyleModel",
            "_view_count": null,
            "_view_module": "@jupyter-widgets/base",
            "_view_module_version": "1.2.0",
            "_view_name": "StyleView",
            "description_width": "",
            "handle_color": null
          }
        },
        "30104567e63b4d01a530f37ca8107ebd": {
          "model_module": "@jupyter-widgets/base",
          "model_name": "LayoutModel",
          "model_module_version": "1.2.0",
          "state": {
            "_model_module": "@jupyter-widgets/base",
            "_model_module_version": "1.2.0",
            "_model_name": "LayoutModel",
            "_view_count": null,
            "_view_module": "@jupyter-widgets/base",
            "_view_module_version": "1.2.0",
            "_view_name": "LayoutView",
            "align_content": null,
            "align_items": null,
            "align_self": null,
            "border": null,
            "bottom": null,
            "display": null,
            "flex": null,
            "flex_flow": null,
            "grid_area": null,
            "grid_auto_columns": null,
            "grid_auto_flow": null,
            "grid_auto_rows": null,
            "grid_column": null,
            "grid_gap": null,
            "grid_row": null,
            "grid_template_areas": null,
            "grid_template_columns": null,
            "grid_template_rows": null,
            "height": null,
            "justify_content": null,
            "justify_items": null,
            "left": null,
            "margin": null,
            "max_height": null,
            "max_width": null,
            "min_height": null,
            "min_width": null,
            "object_fit": null,
            "object_position": null,
            "order": null,
            "overflow": null,
            "overflow_x": null,
            "overflow_y": null,
            "padding": null,
            "right": null,
            "top": null,
            "visibility": null,
            "width": null
          }
        },
        "6aaf14a09c644bb2b86e6dfa96354a36": {
          "model_module": "@jupyter-widgets/controls",
          "model_name": "SliderStyleModel",
          "model_module_version": "1.5.0",
          "state": {
            "_model_module": "@jupyter-widgets/controls",
            "_model_module_version": "1.5.0",
            "_model_name": "SliderStyleModel",
            "_view_count": null,
            "_view_module": "@jupyter-widgets/base",
            "_view_module_version": "1.2.0",
            "_view_name": "StyleView",
            "description_width": "",
            "handle_color": null
          }
        },
        "7cc5edc4191a467a8063455ea11ea692": {
          "model_module": "@jupyter-widgets/base",
          "model_name": "LayoutModel",
          "model_module_version": "1.2.0",
          "state": {
            "_model_module": "@jupyter-widgets/base",
            "_model_module_version": "1.2.0",
            "_model_name": "LayoutModel",
            "_view_count": null,
            "_view_module": "@jupyter-widgets/base",
            "_view_module_version": "1.2.0",
            "_view_name": "LayoutView",
            "align_content": null,
            "align_items": null,
            "align_self": null,
            "border": null,
            "bottom": null,
            "display": null,
            "flex": null,
            "flex_flow": null,
            "grid_area": null,
            "grid_auto_columns": null,
            "grid_auto_flow": null,
            "grid_auto_rows": null,
            "grid_column": null,
            "grid_gap": null,
            "grid_row": null,
            "grid_template_areas": null,
            "grid_template_columns": null,
            "grid_template_rows": null,
            "height": null,
            "justify_content": null,
            "justify_items": null,
            "left": null,
            "margin": null,
            "max_height": null,
            "max_width": null,
            "min_height": null,
            "min_width": null,
            "object_fit": null,
            "object_position": null,
            "order": null,
            "overflow": null,
            "overflow_x": null,
            "overflow_y": null,
            "padding": null,
            "right": null,
            "top": null,
            "visibility": null,
            "width": null
          }
        },
        "0c60ff79c5d34ff383c84f642e43df9b": {
          "model_module": "@jupyter-widgets/controls",
          "model_name": "SliderStyleModel",
          "model_module_version": "1.5.0",
          "state": {
            "_model_module": "@jupyter-widgets/controls",
            "_model_module_version": "1.5.0",
            "_model_name": "SliderStyleModel",
            "_view_count": null,
            "_view_module": "@jupyter-widgets/base",
            "_view_module_version": "1.2.0",
            "_view_name": "StyleView",
            "description_width": "",
            "handle_color": null
          }
        },
        "1b40efdc03ae4051b5cb2ecdf043a288": {
          "model_module": "@jupyter-widgets/base",
          "model_name": "LayoutModel",
          "model_module_version": "1.2.0",
          "state": {
            "_model_module": "@jupyter-widgets/base",
            "_model_module_version": "1.2.0",
            "_model_name": "LayoutModel",
            "_view_count": null,
            "_view_module": "@jupyter-widgets/base",
            "_view_module_version": "1.2.0",
            "_view_name": "LayoutView",
            "align_content": null,
            "align_items": null,
            "align_self": null,
            "border": null,
            "bottom": null,
            "display": null,
            "flex": null,
            "flex_flow": null,
            "grid_area": null,
            "grid_auto_columns": null,
            "grid_auto_flow": null,
            "grid_auto_rows": null,
            "grid_column": null,
            "grid_gap": null,
            "grid_row": null,
            "grid_template_areas": null,
            "grid_template_columns": null,
            "grid_template_rows": null,
            "height": null,
            "justify_content": null,
            "justify_items": null,
            "left": null,
            "margin": null,
            "max_height": null,
            "max_width": null,
            "min_height": null,
            "min_width": null,
            "object_fit": null,
            "object_position": null,
            "order": null,
            "overflow": null,
            "overflow_x": null,
            "overflow_y": null,
            "padding": null,
            "right": null,
            "top": null,
            "visibility": null,
            "width": null
          }
        },
        "5ea8198b4f1f4da3ae3b9791358ca2f6": {
          "model_module": "@jupyter-widgets/controls",
          "model_name": "SliderStyleModel",
          "model_module_version": "1.5.0",
          "state": {
            "_model_module": "@jupyter-widgets/controls",
            "_model_module_version": "1.5.0",
            "_model_name": "SliderStyleModel",
            "_view_count": null,
            "_view_module": "@jupyter-widgets/base",
            "_view_module_version": "1.2.0",
            "_view_name": "StyleView",
            "description_width": "",
            "handle_color": null
          }
        },
        "423dc4a9d12041738b86b83c9af13f93": {
          "model_module": "@jupyter-widgets/base",
          "model_name": "LayoutModel",
          "model_module_version": "1.2.0",
          "state": {
            "_model_module": "@jupyter-widgets/base",
            "_model_module_version": "1.2.0",
            "_model_name": "LayoutModel",
            "_view_count": null,
            "_view_module": "@jupyter-widgets/base",
            "_view_module_version": "1.2.0",
            "_view_name": "LayoutView",
            "align_content": null,
            "align_items": null,
            "align_self": null,
            "border": null,
            "bottom": null,
            "display": null,
            "flex": null,
            "flex_flow": null,
            "grid_area": null,
            "grid_auto_columns": null,
            "grid_auto_flow": null,
            "grid_auto_rows": null,
            "grid_column": null,
            "grid_gap": null,
            "grid_row": null,
            "grid_template_areas": null,
            "grid_template_columns": null,
            "grid_template_rows": null,
            "height": null,
            "justify_content": null,
            "justify_items": null,
            "left": null,
            "margin": null,
            "max_height": null,
            "max_width": null,
            "min_height": null,
            "min_width": null,
            "object_fit": null,
            "object_position": null,
            "order": null,
            "overflow": null,
            "overflow_x": null,
            "overflow_y": null,
            "padding": null,
            "right": null,
            "top": null,
            "visibility": null,
            "width": null
          }
        },
        "8947d0d671de46638e88af11ec39aef6": {
          "model_module": "@jupyter-widgets/controls",
          "model_name": "SliderStyleModel",
          "model_module_version": "1.5.0",
          "state": {
            "_model_module": "@jupyter-widgets/controls",
            "_model_module_version": "1.5.0",
            "_model_name": "SliderStyleModel",
            "_view_count": null,
            "_view_module": "@jupyter-widgets/base",
            "_view_module_version": "1.2.0",
            "_view_name": "StyleView",
            "description_width": "",
            "handle_color": null
          }
        },
        "ea5c97462f6349a392f0f289726d174b": {
          "model_module": "@jupyter-widgets/base",
          "model_name": "LayoutModel",
          "model_module_version": "1.2.0",
          "state": {
            "_model_module": "@jupyter-widgets/base",
            "_model_module_version": "1.2.0",
            "_model_name": "LayoutModel",
            "_view_count": null,
            "_view_module": "@jupyter-widgets/base",
            "_view_module_version": "1.2.0",
            "_view_name": "LayoutView",
            "align_content": null,
            "align_items": null,
            "align_self": null,
            "border": null,
            "bottom": null,
            "display": null,
            "flex": null,
            "flex_flow": null,
            "grid_area": null,
            "grid_auto_columns": null,
            "grid_auto_flow": null,
            "grid_auto_rows": null,
            "grid_column": null,
            "grid_gap": null,
            "grid_row": null,
            "grid_template_areas": null,
            "grid_template_columns": null,
            "grid_template_rows": null,
            "height": null,
            "justify_content": null,
            "justify_items": null,
            "left": null,
            "margin": null,
            "max_height": null,
            "max_width": null,
            "min_height": null,
            "min_width": null,
            "object_fit": null,
            "object_position": null,
            "order": null,
            "overflow": null,
            "overflow_x": null,
            "overflow_y": null,
            "padding": null,
            "right": null,
            "top": null,
            "visibility": null,
            "width": null
          }
        }
      }
    }
  },
  "cells": [
    {
      "cell_type": "markdown",
      "metadata": {
        "id": "view-in-github",
        "colab_type": "text"
      },
      "source": [
        "<a href=\"https://colab.research.google.com/github/jorgealcauza/colab-hfcourse/blob/main/Untitled0.ipynb\" target=\"_parent\"><img src=\"https://colab.research.google.com/assets/colab-badge.svg\" alt=\"Open In Colab\"/></a>"
      ]
    },
    {
      "cell_type": "code",
      "execution_count": 1,
      "metadata": {
        "id": "4ki5Xa-B-HZi"
      },
      "outputs": [],
      "source": [
        "from ipywidgets import interact\n",
        "from fastai.basics import *\n",
        "\n",
        "plt.rc('figure', dpi=90)\n",
        "\n",
        "def plot_function(f, title=None, min=-2.1, max=2.1, color='r', ylim=None):\n",
        "    x = torch.linspace(min,max, 100)[:,None]\n",
        "    if ylim: plt.ylim(ylim)\n",
        "    plt.plot(x, f(x), color)\n",
        "    if title is not None: plt.title(title)"
      ]
    },
    {
      "cell_type": "code",
      "source": [
        "def f(x): return 3*x**2 + 2*x + 1\n",
        "\n",
        "plot_function(f, \"$3x^2 + 2x + 1$\")"
      ],
      "metadata": {
        "colab": {
          "base_uri": "https://localhost:8080/",
          "height": 412
        },
        "id": "9OrEfeR0kBkJ",
        "outputId": "96e3cf06-aa0d-444b-d9da-b9e56e07cc5f"
      },
      "execution_count": 2,
      "outputs": [
        {
          "output_type": "display_data",
          "data": {
            "text/plain": [
              "<Figure size 576x432 with 1 Axes>"
            ],
            "image/png": "[encoded data removed]"
          },
          "metadata": {}
        }
      ]
    },
    {
      "cell_type": "code",
      "source": [
        "def quad(a, b, c, x): return a*x**2 + b*x + c\n",
        "def mk_quad(a,b,c): return partial(quad, a,b,c)\n",
        "f2 = mk_quad(3,2,1)\n",
        "plot_function(f2)"
      ],
      "metadata": {
        "colab": {
          "base_uri": "https://localhost:8080/",
          "height": 389
        },
        "id": "V2Fprbm-kzQ3",
        "outputId": "cde0f247-8508-4280-dd88-48a7cfe6d39c"
      },
      "execution_count": 3,
      "outputs": [
        {
          "output_type": "display_data",
          "data": {
            "text/plain": [
              "<Figure size 576x432 with 1 Axes>"
            ],
            "image/png": "[encoded data removed]"
          },
          "metadata": {}
        }
      ]
    },
    {
      "cell_type": "code",
      "source": [
        "def noise(x, scale): return np.random.normal(scale=scale, size=x.shape)\n",
        "def add_noise(x, mult, add): return x * (1+noise(x,mult)) + noise(x,add)\n",
        "\n",
        "np.random.seed(30)\n",
        "\n",
        "x = torch.linspace(-2, 2, steps=20)[:,None]\n",
        "y = add_noise(f(x), 0.15, 1.5)\n",
        "\n",
        "x[:5],y[:5]\n",
        "\n",
        "plt.scatter(x,y);"
      ],
      "metadata": {
        "colab": {
          "base_uri": "https://localhost:8080/",
          "height": 424
        },
        "id": "9ANcOCt9lSx_",
        "outputId": "967a511b-e9a7-4096-8bc0-b82b8309446a"
      },
      "execution_count": 4,
      "outputs": [
        {
          "output_type": "stream",
          "name": "stderr",
          "text": [
            "/tmp/ipython-input-2344035811.py:2: DeprecationWarning: __array_wrap__ must accept context and return_scalar arguments (positionally) in the future. (Deprecated NumPy 2.0)\n",
            "  def add_noise(x, mult, add): return x * (1+noise(x,mult)) + noise(x,add)\n"
          ]
        },
        {
          "output_type": "display_data",
          "data": {
            "text/plain": [
              "<Figure size 576x432 with 1 Axes>"
            ],
            "image/png": "[encoded data removed]"
          },
          "metadata": {}
        }
      ]
    },
    {
      "cell_type": "code",
      "source": [
        "@interact(a=1.1, b=1.1, c=1.1)\n",
        "def plot_quad(a, b, c):\n",
        "    plt.scatter(x,y)\n",
        "    plot_function(mk_quad(a,b,c), ylim=(-3,15))"
      ],
      "metadata": {
        "colab": {
          "base_uri": "https://localhost:8080/",
          "height": 485,
          "referenced_widgets": [
            "250ae391243f42d8843ffb90b7ccf718",
            "5086f49d171840b49ea2b2574b923a61",
            "705683eba1e7476c92f26868b64d743b",
            "8909f10f9c764cadbb96530d476f3904",
            "cb8d853df1b9499f9a30007b62670c58",
            "cca9d1eeccc84180aae2c20c9e437085",
            "9d1d9ef9c91e4693b11cf0f2af9b6599",
            "d97f0e71691c407e97cf442d4f7789fc",
            "4c7455fe096e4d7aae5e10b8b90564de",
            "a76903bba5b54c8ba6c89298cdac5a73",
            "c8879e13c82241e9ad8d11b81f5b0110",
            "377dbe2113ef4242ae2670d675d555e2",
            "d18760958d434d4ca1375dad5076c6ac"
          ]
        },
        "id": "vLhJiQ8olhUW",
        "outputId": "9611b130-1f9c-4517-9232-dcc6f834025a"
      },
      "execution_count": 5,
      "outputs": [
        {
          "output_type": "display_data",
          "data": {
            "text/plain": [
              "interactive(children=(FloatSlider(value=1.1, description='a', max=3.3000000000000003, min=-1.1), FloatSlider(v…"
            ],
            "application/vnd.jupyter.widget-view+json": {
              "version_major": 2,
              "version_minor": 0,
              "model_id": "250ae391243f42d8843ffb90b7ccf718"
            }
          },
          "metadata": {}
        }
      ]
    },
    {
      "cell_type": "code",
      "source": [
        "def mae(preds, acts): return (torch.abs(preds-acts)).mean()\n",
        "def mse(preds, acts): return ((preds-acts)**2).mean()\n",
        "\n",
        "@interact(a=1.1, b=1.1, c=1.1)\n",
        "def plot_quad(a, b, c):\n",
        "    f = mk_quad(a,b,c)\n",
        "    plt.scatter(x,y)\n",
        "    loss1 = mae(f(x), y)\n",
        "    loss2 = mse(f(x), y)\n",
        "    plot_function(f, ylim=(-3,12), title=f\"MAE: {loss1:.2f} MSE: {loss2:.2f}\")"
      ],
      "metadata": {
        "colab": {
          "base_uri": "https://localhost:8080/",
          "height": 504,
          "referenced_widgets": [
            "15c33638199d40e198c2d4b121402433",
            "f18cbdf88df64d4391babc7c2a3029dd",
            "b6fbd26fb1604225b7ce9cfe6146ba4f",
            "f8ad0959fcef4fbdb423c49456d8e492",
            "8aa7e67f5d224234835fcc54d275137f",
            "24c9dd3726994d4d8eb6f5ece2ed4766",
            "58f76ff492f348f3bd49349ac73e0d28",
            "80738b14379b4326a13bc816f6e4e00a",
            "929aec35747c499da7c3a4e92300cdc7",
            "f229a7ceba56414cb91556dbac70822b",
            "9f47ba3987974bf79b752315ab0529df",
            "e66071e549ef44e5b9d19113ff8cc2f5",
            "041dc3787ba8423f82ea82325e997642"
          ]
        },
        "id": "0h3lwlSzlxuM",
        "outputId": "9e0f2ac6-5cd3-4a3d-a49d-77f94bdff41d"
      },
      "execution_count": 6,
      "outputs": [
        {
          "output_type": "display_data",
          "data": {
            "text/plain": [
              "interactive(children=(FloatSlider(value=1.1, description='a', max=3.3000000000000003, min=-1.1), FloatSlider(v…"
            ],
            "application/vnd.jupyter.widget-view+json": {
              "version_major": 2,
              "version_minor": 0,
              "model_id": "15c33638199d40e198c2d4b121402433"
            }
          },
          "metadata": {}
        }
      ]
    },
    {
      "cell_type": "code",
      "source": [
        "def quad_mae(params):\n",
        "    f = mk_quad(*params)\n",
        "    return mae(f(x), y)\n",
        "\n",
        "quad_mae([1.1, 1.1, 1.1])"
      ],
      "metadata": {
        "colab": {
          "base_uri": "https://localhost:8080/"
        },
        "id": "JEI1qVxeuF72",
        "outputId": "7282fc3c-8861-4bf1-d354-711807815b3f"
      },
      "execution_count": 7,
      "outputs": [
        {
          "output_type": "execute_result",
          "data": {
            "text/plain": [
              "tensor(3.2234, dtype=torch.float64)"
            ]
          },
          "metadata": {},
          "execution_count": 7
        }
      ]
    },
    {
      "cell_type": "code",
      "source": [
        "abc = torch.tensor([1.1,1.1,1.1])\n",
        "abc.requires_grad_()\n",
        "loss = quad_mae(abc)\n",
        "loss"
      ],
      "metadata": {
        "colab": {
          "base_uri": "https://localhost:8080/"
        },
        "id": "pEVSHEbFuQ4A",
        "outputId": "42c100ba-9329-429b-921b-de11e7480787"
      },
      "execution_count": 8,
      "outputs": [
        {
          "output_type": "execute_result",
          "data": {
            "text/plain": [
              "tensor(3.2234, dtype=torch.float64, grad_fn=<MeanBackward0>)"
            ]
          },
          "metadata": {},
          "execution_count": 8
        }
      ]
    },
    {
      "cell_type": "code",
      "source": [
        "loss.backward()\n",
        "abc.grad"
      ],
      "metadata": {
        "colab": {
          "base_uri": "https://localhost:8080/"
        },
        "id": "9xkkwKS4ueUc",
        "outputId": "cc76cc04-227f-4593-87a3-a967e65e0538"
      },
      "execution_count": 9,
      "outputs": [
        {
          "output_type": "execute_result",
          "data": {
            "text/plain": [
              "tensor([-1.2454, -0.0632, -0.4000])"
            ]
          },
          "metadata": {},
          "execution_count": 9
        }
      ]
    },
    {
      "cell_type": "code",
      "source": [
        "with torch.no_grad():\n",
        "    abc -= abc.grad*0.01\n",
        "    loss = quad_mae(abc)\n",
        "\n",
        "print(f'loss={loss:.2f}')"
      ],
      "metadata": {
        "colab": {
          "base_uri": "https://localhost:8080/"
        },
        "id": "OryRwmUCup2u",
        "outputId": "d7def7f2-9182-461f-ce39-9556a4ba222e"
      },
      "execution_count": 10,
      "outputs": [
        {
          "output_type": "stream",
          "name": "stdout",
          "text": [
            "loss=3.21\n"
          ]
        }
      ]
    },
    {
      "cell_type": "code",
      "source": [
        "abc = torch.tensor([1.1,1.1,1.1])\n",
        "abc.requires_grad_()\n",
        "for i in range(20):\n",
        "    loss = quad_mae(abc)\n",
        "    loss.backward()\n",
        "    with torch.no_grad(): abc -= abc.grad*0.08\n",
        "    print(f'step={i}; abc= {abc}; loss={loss:.2f}')"
      ],
      "metadata": {
        "colab": {
          "base_uri": "https://localhost:8080/"
        },
        "id": "hOBYcmifuta9",
        "outputId": "9c9459db-ba50-49c3-8d14-7825861d88c6"
      },
      "execution_count": 11,
      "outputs": [
        {
          "output_type": "stream",
          "name": "stdout",
          "text": [
            "step=0; abc= tensor([1.1996, 1.1051, 1.1320], requires_grad=True); loss=3.22\n",
            "step=1; abc= tensor([1.3989, 1.1152, 1.1960], requires_grad=True); loss=3.09\n",
            "step=2; abc= tensor([1.6978, 1.1303, 1.2920], requires_grad=True); loss=2.81\n",
            "step=3; abc= tensor([2.0707, 1.1362, 1.4120], requires_grad=True); loss=2.41\n",
            "step=4; abc= tensor([2.4657, 1.1615, 1.5400], requires_grad=True); loss=2.13\n",
            "step=5; abc= tensor([2.8828, 1.2061, 1.6760], requires_grad=True); loss=2.00\n",
            "step=6; abc= tensor([3.2656, 1.2625, 1.7960], requires_grad=True); loss=2.05\n",
            "step=7; abc= tensor([3.5921, 1.3341, 1.8840], requires_grad=True); loss=2.29\n",
            "step=8; abc= tensor([3.8622, 1.4208, 1.9400], requires_grad=True); loss=2.55\n",
            "step=9; abc= tensor([4.0609, 1.5118, 1.9560], requires_grad=True); loss=2.79\n",
            "step=10; abc= tensor([4.1498, 1.5926, 1.9080], requires_grad=True); loss=3.04\n",
            "step=11; abc= tensor([4.1330, 1.6575, 1.8040], requires_grad=True); loss=3.14\n",
            "step=12; abc= tensor([4.0107, 1.7063, 1.6440], requires_grad=True); loss=3.06\n",
            "step=13; abc= tensor([3.7850, 1.7434, 1.4360], requires_grad=True); loss=2.80\n",
            "step=14; abc= tensor([3.4879, 1.7846, 1.1880], requires_grad=True); loss=2.45\n",
            "step=15; abc= tensor([3.1495, 1.8301, 0.9160], requires_grad=True); loss=2.16\n",
            "step=16; abc= tensor([2.8025, 1.8731, 0.6360], requires_grad=True); loss=1.94\n",
            "step=17; abc= tensor([2.4576, 1.9227, 0.3560], requires_grad=True); loss=1.91\n",
            "step=18; abc= tensor([2.1867, 1.9632, 0.1000], requires_grad=True); loss=2.08\n",
            "step=19; abc= tensor([ 1.9920,  1.9901, -0.1240], requires_grad=True); loss=2.44\n"
          ]
        }
      ]
    },
    {
      "cell_type": "code",
      "source": [
        "def rectified_linear(m,b,x):\n",
        "    y = m*x+b\n",
        "    return torch.clip(y, 0.)"
      ],
      "metadata": {
        "id": "YhQdjpKrvFkk"
      },
      "execution_count": 12,
      "outputs": []
    },
    {
      "cell_type": "code",
      "source": [
        "plot_function(partial(rectified_linear, 1,1))"
      ],
      "metadata": {
        "colab": {
          "base_uri": "https://localhost:8080/",
          "height": 389
        },
        "id": "7pd1Zg81vHrY",
        "outputId": "02857f1b-96d5-4b74-dafa-f3a37bc7aa8c"
      },
      "execution_count": 13,
      "outputs": [
        {
          "output_type": "display_data",
          "data": {
            "text/plain": [
              "<Figure size 576x432 with 1 Axes>"
            ],
            "image/png": "[encoded data removed]"
          },
          "metadata": {}
        }
      ]
    },
    {
      "cell_type": "code",
      "source": [
        "import torch.nn.functional as F\n",
        "def rectified_linear2(m,b,x): return F.relu(m*x+b)\n",
        "plot_function(partial(rectified_linear2, 1,1))"
      ],
      "metadata": {
        "colab": {
          "base_uri": "https://localhost:8080/",
          "height": 389
        },
        "id": "L6ratRHdvPpY",
        "outputId": "ea349b86-ed26-46be-fe49-abad8eaaa851"
      },
      "execution_count": 14,
      "outputs": [
        {
          "output_type": "display_data",
          "data": {
            "text/plain": [
              "<Figure size 576x432 with 1 Axes>"
            ],
            "image/png": "[encoded data removed]"
          },
          "metadata": {}
        }
      ]
    },
    {
      "cell_type": "code",
      "source": [
        "@interact(m=1.5, b=1.5)\n",
        "def plot_relu(m, b):\n",
        "    plot_function(partial(rectified_linear, m,b), ylim=(-1,4))"
      ],
      "metadata": {
        "colab": {
          "base_uri": "https://localhost:8080/",
          "height": 458,
          "referenced_widgets": [
            "889fbd29949a47de85a6de6b999813d9",
            "f9d54c2783db483aaf592a37112faf17",
            "1cd1dba3df784c7da0485f951dd04bc8",
            "90c8d6b6aba04f92b2d2786b57de2d4d",
            "c367b2a4cb3443a7acd2057ff505d22e",
            "ff1bf30d7d0b4cb48cf08e47d8ad1838",
            "b0baa5c9529b4b9299e61b0989e32735",
            "d230c99644d94b12a5016d9f6b682355",
            "49dd0c15bc54438cb3d2eebd5bf957b2",
            "4e078c7846a34a10a581d27dd60188fa"
          ]
        },
        "id": "OfpKdJ9qvTaf",
        "outputId": "41a20ee1-dfde-4151-c9a8-302f3fca7ad9"
      },
      "execution_count": 15,
      "outputs": [
        {
          "output_type": "display_data",
          "data": {
            "text/plain": [
              "interactive(children=(FloatSlider(value=1.5, description='m', max=4.5, min=-1.5), FloatSlider(value=1.5, descr…"
            ],
            "application/vnd.jupyter.widget-view+json": {
              "version_major": 2,
              "version_minor": 0,
              "model_id": "889fbd29949a47de85a6de6b999813d9"
            }
          },
          "metadata": {}
        }
      ]
    },
    {
      "cell_type": "code",
      "source": [
        "def double_relu(m1,b1,m2,b2,x):\n",
        "    return rectified_linear(m1,b1,x) + rectified_linear(m2,b2,x)\n",
        "\n",
        "@interact(m1=-1.5, b1=-1.5, m2=1.5, b2=1.5)\n",
        "def plot_double_relu(m1, b1, m2, b2):\n",
        "    plot_function(partial(double_relu, m1,b1,m2,b2), ylim=(-1,6))"
      ],
      "metadata": {
        "colab": {
          "base_uri": "https://localhost:8080/",
          "height": 522,
          "referenced_widgets": [
            "837f40fa02f84740be716ff913ee9935",
            "33eafefcd883411c944b033a7785860f",
            "f0e84013324f463e912204f850d8a2fe",
            "e7ed05d933a341ec99985e3a489cfe1d",
            "2d636cca30174dfd89a34c272bc40fb1",
            "5dd1fa9b6e2f48ad9398ed12083a57c9",
            "dde79506808e4372bf53703cc80014b6",
            "6c99724c30b3464d8da58d112499c8a7",
            "aea51394c0ed4d0685ec5f764781d86a",
            "d757c0b559dd42ddb75f9f4f88cdfc24",
            "0006bf4d527742f4965a0478e483208c",
            "95aa5c5e35744959b7ee6c7a951deb6b",
            "2d0ca17561ed4250b08781808bc16153",
            "742f65bc18a947a7b05de14ba2d247fe",
            "a72f1341017043ef81f2a37b34e2f657",
            "11bfc00f46bd46288539f022734ab66a"
          ]
        },
        "id": "-yVTtN80veSI",
        "outputId": "942bafd9-a866-4fa1-dd23-e93f690116fd"
      },
      "execution_count": 16,
      "outputs": [
        {
          "output_type": "display_data",
          "data": {
            "text/plain": [
              "interactive(children=(FloatSlider(value=-1.5, description='m1', max=1.5, min=-4.5), FloatSlider(value=-1.5, de…"
            ],
            "application/vnd.jupyter.widget-view+json": {
              "version_major": 2,
              "version_minor": 0,
              "model_id": "837f40fa02f84740be716ff913ee9935"
            }
          },
          "metadata": {}
        }
      ]
    },
    {
      "cell_type": "code",
      "source": [
        "def triple_relu(m1,b1,m2,b2,m3,b3,x):\n",
        "    return rectified_linear(m1,b1,x) + rectified_linear(m2,b2,x)+ rectified_linear(m3,b3,x)\n",
        "\n",
        "@interact(m1=-1.5, b1=-1.5, m2=1.5, b2=1.5, m3=1, b3=1)\n",
        "def plot_triple_relu(m1, b1, m2, b2, m3, b3):\n",
        "    plot_function(partial(triple_relu, m1,b1,m2,b2,m3,b3), ylim=(-1,6))"
      ],
      "metadata": {
        "colab": {
          "base_uri": "https://localhost:8080/",
          "height": 586,
          "referenced_widgets": [
            "1c8385171f0340cd9a9179505e5c26f9",
            "5a66675777604365b6227a4355bed956",
            "34c16e1529364038be1e6af96fd37ef6",
            "624f9e3b27904ca2a81ca48917b9faf0",
            "9d051b0f011d42d8bd9f5f6a99009269",
            "b9f653b5f6114eb7b848b8d8727daa2d",
            "6a8802a2490e4b37a8c945a41f4bdd8f",
            "3217bb5b841c43fc976a4e518aab51a3",
            "d5fb5da0ab8a45a18582fef6a2050a35",
            "01c7e9b38e1d4873a15da2a8e39c4a55",
            "1ff7eed836fc4e9badb01189e81ec59f",
            "23d78f23381543918924746617ab351f",
            "56c701df4e54474dbf40893b34ad24dc",
            "30104567e63b4d01a530f37ca8107ebd",
            "6aaf14a09c644bb2b86e6dfa96354a36",
            "7cc5edc4191a467a8063455ea11ea692",
            "0c60ff79c5d34ff383c84f642e43df9b",
            "1b40efdc03ae4051b5cb2ecdf043a288",
            "5ea8198b4f1f4da3ae3b9791358ca2f6",
            "423dc4a9d12041738b86b83c9af13f93",
            "8947d0d671de46638e88af11ec39aef6",
            "ea5c97462f6349a392f0f289726d174b"
          ]
        },
        "id": "daGEen2Ev488",
        "outputId": "16a941da-5ec8-4be1-91eb-3a4b8ce8e192"
      },
      "execution_count": 17,
      "outputs": [
        {
          "output_type": "display_data",
          "data": {
            "text/plain": [
              "interactive(children=(FloatSlider(value=-1.5, description='m1', max=1.5, min=-4.5), FloatSlider(value=-1.5, de…"
            ],
            "application/vnd.jupyter.widget-view+json": {
              "version_major": 2,
              "version_minor": 0,
              "model_id": "1c8385171f0340cd9a9179505e5c26f9"
            }
          },
          "metadata": {}
        }
      ]
    }
  ]
}