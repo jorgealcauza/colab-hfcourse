{
  "nbformat": 4,
  "nbformat_minor": 0,
  "metadata": {
    "colab": {
      "provenance": [],
      "authorship_tag": "ABX9TyNxs4b2tRiHuGYU9K++REPb",
      "include_colab_link": true
    },
    "kernelspec": {
      "name": "python3",
      "display_name": "Python 3"
    },
    "language_info": {
      "name": "python"
    },
    "widgets": {
      "application/vnd.jupyter.widget-state+json": {
        "0bfe5a871af144d1a3ea38b9bd0e53e8": {
          "model_module": "@jupyter-widgets/controls",
          "model_name": "VBoxModel",
          "model_module_version": "1.5.0",
          "state": {
            "_dom_classes": [
              "widget-interact"
            ],
            "_model_module": "@jupyter-widgets/controls",
            "_model_module_version": "1.5.0",
            "_model_name": "VBoxModel",
            "_view_count": null,
            "_view_module": "@jupyter-widgets/controls",
            "_view_module_version": "1.5.0",
            "_view_name": "VBoxView",
            "box_style": "",
            "children": [
              "IPY_MODEL_6b6001eb17fb4587afb3c1d20f8f396a",
              "IPY_MODEL_e4c59500abfc4fdf8a9f7be2305ebbb2",
              "IPY_MODEL_3184fc4af27e421580de8f2a724b726c",
              "IPY_MODEL_834b2a97b6d947dfb107ac5bd7b49185"
            ],
            "layout": "IPY_MODEL_ff09a052e1e14820a7ef791366c315e4"
          }
        },
        "6b6001eb17fb4587afb3c1d20f8f396a": {
          "model_module": "@jupyter-widgets/controls",
          "model_name": "FloatSliderModel",
          "model_module_version": "1.5.0",
          "state": {
            "_dom_classes": [],
            "_model_module": "@jupyter-widgets/controls",
            "_model_module_version": "1.5.0",
            "_model_name": "FloatSliderModel",
            "_view_count": null,
            "_view_module": "@jupyter-widgets/controls",
            "_view_module_version": "1.5.0",
            "_view_name": "FloatSliderView",
            "continuous_update": true,
            "description": "a",
            "description_tooltip": null,
            "disabled": false,
            "layout": "IPY_MODEL_dbe3001674454337b48213c0ea429d79",
            "max": 3.3000000000000003,
            "min": -1.1,
            "orientation": "horizontal",
            "readout": true,
            "readout_format": ".2f",
            "step": 0.1,
            "style": "IPY_MODEL_b7c02bcd424b436d8c62829b74665831",
            "value": 1.1
          }
        },
        "e4c59500abfc4fdf8a9f7be2305ebbb2": {
          "model_module": "@jupyter-widgets/controls",
          "model_name": "FloatSliderModel",
          "model_module_version": "1.5.0",
          "state": {
            "_dom_classes": [],
            "_model_module": "@jupyter-widgets/controls",
            "_model_module_version": "1.5.0",
            "_model_name": "FloatSliderModel",
            "_view_count": null,
            "_view_module": "@jupyter-widgets/controls",
            "_view_module_version": "1.5.0",
            "_view_name": "FloatSliderView",
            "continuous_update": true,
            "description": "b",
            "description_tooltip": null,
            "disabled": false,
            "layout": "IPY_MODEL_fc6cadeb014d47ec9a0623b48cecf224",
            "max": 3.3000000000000003,
            "min": -1.1,
            "orientation": "horizontal",
            "readout": true,
            "readout_format": ".2f",
            "step": 0.1,
            "style": "IPY_MODEL_0de5d44e8e9a4d719f970354d5df4ddc",
            "value": 1.1
          }
        },
        "3184fc4af27e421580de8f2a724b726c": {
          "model_module": "@jupyter-widgets/controls",
          "model_name": "FloatSliderModel",
          "model_module_version": "1.5.0",
          "state": {
            "_dom_classes": [],
            "_model_module": "@jupyter-widgets/controls",
            "_model_module_version": "1.5.0",
            "_model_name": "FloatSliderModel",
            "_view_count": null,
            "_view_module": "@jupyter-widgets/controls",
            "_view_module_version": "1.5.0",
            "_view_name": "FloatSliderView",
            "continuous_update": true,
            "description": "c",
            "description_tooltip": null,
            "disabled": false,
            "layout": "IPY_MODEL_58e52bc5412742ab9c90ec1e06ad12cd",
            "max": 3.3000000000000003,
            "min": -1.1,
            "orientation": "horizontal",
            "readout": true,
            "readout_format": ".2f",
            "step": 0.1,
            "style": "IPY_MODEL_64624e8edaad47e089e540f07634980f",
            "value": 1.1
          }
        },
        "834b2a97b6d947dfb107ac5bd7b49185": {
          "model_module": "@jupyter-widgets/output",
          "model_name": "OutputModel",
          "model_module_version": "1.0.0",
          "state": {
            "_dom_classes": [],
            "_model_module": "@jupyter-widgets/output",
            "_model_module_version": "1.0.0",
            "_model_name": "OutputModel",
            "_view_count": null,
            "_view_module": "@jupyter-widgets/output",
            "_view_module_version": "1.0.0",
            "_view_name": "OutputView",
            "layout": "IPY_MODEL_fc03a6d6c58c41d6b8f54b6da827ac66",
            "msg_id": "",
            "outputs": [
              {
                "output_type": "display_data",
                "data": {
                  "text/plain": "<Figure size 576x432 with 1 Axes>",
                  "image/png": "iVBORw0KGgoAAAANSUhEUgAAAesAAAF0CAYAAAADwxE3AAAAOnRFWHRTb2Z0d2FyZQBNYXRwbG90bGliIHZlcnNpb24zLjEwLjAsIGh0dHBzOi8vbWF0cGxvdGxpYi5vcmcvlHJYcgAAAAlwSFlzAAAN1wAADdcBQiibeAAAL1tJREFUeJzt3X9clfX9//HndcQfoCjHKBMxMbNlrgBzqXMzSyv7ZWRqWdI3S9sy3Vb2a80MnfWpLbNNK9fvZmnNtZR+sdRWS9NqKeigtSwFAcVWgL9AhHN9/3grSokgnHOui3M97rfbdVMPR66XIOd5rvf1fr/elm3btgAAgGv5nC4AAAAcHWENAIDLEdYAALgcYQ0AgMsR1gAAuBxhDQCAyxHWAAC4HGENAIDLRTldwHdZluV0CQAAhN3RepS5LqyloxcMAECkaehClWFwAABcjrAGAMDlCGsAAFyOsAYAwOUIawAAXI6wBgDA5QhrAABcjrAGAMDlCGsAAFyOsAYAwOUIawAAXI6wBgDA5ZoU1vPnz1f//v3Vtm1bpaWlHfE5JSUl6ty5s1JSUppRHgAAaFJYJyQkaPr06Zo0aVK9z5kyZYpSU1ObXBgAADCaFNajRo1SWlqa4uPjj/jxZcuW6dtvv1V6enqzigMAACG4Z11eXq7bbrtNCxYsCPanBgDAk4Ie1nfeeaeuv/569e7du1HPz8jIkGVZtQcAAKgrqGH9wQcfaPXq1brrrrsa/XcyMjJk23btAQAA6ooK5idbuXKlvvrqKyUkJEiS9u3bp4qKCsXHx2vjxo3q2rVrME8HAIAnNOnKurq6WpWVlaqurlYgEFBlZaWqqqp022236b///a+ys7OVnZ2tWbNm6Qc/+IGys7N1wgknBLt2AAA8oUlX1rNnz9bMmTNr/xwdHa1zzjlH7733njp27Fj7uN/vV+vWrZWYmNj8SgEA8CjLdtmNYsuyuHcNAPCUhrKPdqMAALgcYQ0AgMsR1gAAuBxhDQCAyxHWAAC4HGENAIDLEdYAALgcYQ0AgMsR1gAAuBxhDQCAyxHWAAC4HGENAIDLEdYAALgcYQ0AgMsR1gAAuBxhDQCAyxHWAAC4HGENAIDLEdYAALgcYQ0AgMsR1gAAuBxhDQCAyxHWAAC4HGENAIDLEdYAALgcYQ0AgMsR1gAAuFyTwnr+/Pnq37+/2rZtq7S0tNrHd+zYoWuvvVaJiYnq2LGjUlNTlZmZGaxaAQDwpCaFdUJCgqZPn65JkybVeXz37t1KTU3V2rVrVVZWplmzZmncuHHKy8sLSrEAAHiRZdu23dS/nJGRoezsbC1durTe5/Tr109TpkzRDTfc0LiCLEvNKAkAgBanoewL6T3rHTt26LPPPtOZZ54ZytMAABDRQhbWVVVVuvrqqzV27Fj179+/3udlZGTIsqzaAwAA1BWSsK6qqtLo0aMVExOjp5566qjPzcjIkG3btQcAAKgrKtifsKqqSmPGjFFVVZWWLVumNm3aBPsUAAB4SpPCurq6uvYIBAKqrKyUz+eTZVkaO3as9uzZozfeeENt27YNdr0AAHhOk2aDZ2RkaObMmXUeO+ecczRz5kwNHTpU7dq1U6tWrWo/ds899+iee+5pXEHMBgcAeExD2despVuhQFgDALzG0aVbAACg+QhrAABcjrAGAMDlCGsAAFyOsAYAwOUIawAAXI6wBgDA5QhrAABcjrAGAMDlCGsAAFyOsAYAwOUIawAAXI6wBgDA5QhrAABcjrAGAMDlopwuAADgHoGArcycYi1cs0WFZRVKjItW+qAkjUxOkM9nOV2eZ1n20Xa7dkBDG3ADAEIjELA1dfE6ZeWWKBCwZUuyJPl8lkb07aJ54/oR2CHSUPYxDA4AkCRl5hQrK7dENQeCWpJsSTUBW1m5JcrMKXayPE8jrAEAkqSFa7YoEDjy1V0gYGvh2vwwV4SDCGsAgCSpsKxC9Q3E2pKKSveGsxwchrAGAEiSEuOiVd8daUtSN39MOMvBYQhrAIAkKX1QUr0TyHw+S+kDe4S5IhxEWAMAJEkjkxM0om8XtfJZtVfYlqRWB2aDj0xOcLI8T2PpFgCgVu0667X5Kirdq27+GKUP7ME66xBrKPsIawAAHMY6awAAWjjCGgAAl2tSWM+fP1/9+/dX27ZtlZaWVudjO3fu1DXXXKOOHTuqS5cu+u1vfxuMOgEA8KwmbeSRkJCg6dOna8WKFSosLKzzsalTp+rbb79VQUGBduzYoeHDh6tHjx667rrrglIwAABe06SwHjVqlCQpOzu7Tljv3btXL7/8slavXq24uDjFxcVp6tSpeuaZZwhrAACaKKj3rD///HNVVVUpJSWl9rGUlBRt2LAhmKcBAMBTghrWu3fvVvv27RUVdeiCPS4uTrt27ar372RkZMiyrNoDAADUFdSw7tChg/bu3avq6urax8rLyxUbG1vv38nIyJBt27UHAACoq0n3rOvzgx/8QK1bt1ZOTo7OOussSea+9hlnnBHM0wAAWojajmhrtqiwrEKJcdFKH5RER7Rj1KSwrq6urj0CgYAqKyvl8/kUExOjq666Svfee68WL16sHTt2aN68eSzfAgAPCgRsTV28Tlm5JQoEbNmSduzcp+zCHC3P26554/oR2I3UpGHw2bNnKzo6Wvfff79ef/11RUdH64ILLpBk1mB36tRJiYmJGjx4sG688UZmggOAB2XmFCsrt0Q1B4JaMvti1wRsZeWWKDOn2MnyWhR6gwMAQuLKx1drXUGZjvSKbknq18OvV2/+cbjLciV6gwMAHFFYVnHEoJbMFXZR6d5wltOiEdYAgJBIjItWfXekLUnd/DHhLKdFI6wBACGRPiip3glkPp+l9IE9wlxRy0VYAwBCYmRygkb07aJWPqv2CtuS1MpnaUTfLhqZnOBkeS0KE8wAACFTu856bb6KSveqmz9G6QN7sM76OxrKPsIaAACHMRscAIAWjrAGAMDlCGsAAFyOsAYAwOUIawAAXI6wBgDA5QhrAABcjrAGAMDlopwuAACAxqrtiLZmiwrLKpQYF630QUkR3xGNDmYAgBYhELA1dfE6ZeWWKBCwZcv0Gvcd6DU+b1y/FhvYdDADAESEzJxiZeWWqOZAUEtmX+yagK2s3BJl5hQ7WV5IEdYAgBZh4ZotCgSOfPUZCNhauDY/zBWFD2ENAGgRCssqVN9AsS2pqHRvOMsJK8IaANAiJMZFq7470pakbv6YcJYTVoQ1AKBFSB+UVO8EMp/PUvrAHmGuKHwIawBAizAyOUEj+nZRK59Ve4VtSWp1YDb4yOQEJ8sLKZZuAQBajNp11mvzVVS6V938MUof2KPFr7NuKPsIawAAHMY6awAAgqmiIuynJKwBAGishx+WBgyQtm0L62npDQ4AQGM8/7x0xx1SdLSUny917Rq2U4fkyrqoqEhpaWk67rjjFB8fr7Fjx+rrr78OxakAAAi9ZcukiROlqCjp1VelgQPDevqQTDBLS0uTJL344ouybVvXXnut2rdvr8WLFzdcUAueYObV3WAAIKK9/7504YVSVZX00kvSuHFBP4UjE8y++uorjR07Vh06dFBsbKyuuuoqbdy4MRSnco2Du8FMW5KjdQVlKtm5T+sKyjRtSY6mLl5Xbz9bAICLrV8vXXaZtG+f9Mc/hiSoGyMkYX3bbbdpyZIlKi8vV1lZmRYvXqzLLrssFKdyDS/vBgMAEenzz80V9a5dUkaGNGWKY6WEJKwHDx6sHTt2yO/3q3PnziotLdWvf/3rIz43IyNDlmXVHi2Vl3eDAYCIU1AgnX++9PXX0tSp0owZjpYT9LAOBAI6//zzNXjwYO3evVu7d+/W4MGDdcEFFxzx+RkZGbJtu/Zoqby8GwwARJSSEmn4cGnrVum666RHH5UcvpgMelh/++23ys/P1y9+8QvFxMQoJiZGU6dO1UcffaT//e9/wT6da3h5NxgAiBilpWbo+4svpLQ06ZlnJJ/zLUmCXkF8fLxOOeUUPfbYY6qsrFRlZaUee+wxJSYmKj4+Ptincw0v7wYDABFh927pkkuknBxp2DBp8WKzVMsFQvJ2YdmyZVq3bp26deumrl276uOPP1ZmZmYoTuUaXt4NBgBavMpK6fLLpTVrzBrqpUuldu2crqoWG3kEUaTuBgMAEa2qSho1SnrzTSklRXr3XcnvD2sJ7LoFAEB9amrM2uklS6Q+fUwDlOOPD3sZ7LoFAMCRBAKmheiSJdLJJ0vLlzsS1I1BWAMAvMe2pcmTzeYc3bpJK1eaX13KHdPcHEIvbwDwINuWbr1V+tOfpC5dzD3qpCSnqzoqz96zPtjLOyu3RIEDLUItmWVWI/p20bxx/QhsAIg0ti3dfbf0u99J8fHSe+9Jffs6XRX3rOtDL28A8KCZM01Q+/3SihWuCOrG8GxY08sbADxm9mwT1h07Su+8IyUnO11Ro3k2rOnlDQAe8n//J917r9Shg5SVJfXv73RFx8SzYU0vbwDwiN//XrrnHql9exPUgwY5XdEx82xY08sbADzgkUekO++UYmKkt96SBg92uqIm8ezSrZHJCVqet73e2eD08gbgdiw/bcDcudK0aVJ0tGklOmSI0xU1mWeXbkn08gbQcrH8tAGPPHIoqN94QzrvPKcrOip6gwNABFq6vkjTluSo5girWlr5LM0Zk6y0VPd25AqpOXOk228/dEV97rlOV9Qg1lkDQARi+Wk9Hn7YBPXBe9QtIKgbg7AGgBaI5adH8NBD0h13HArqoUOdrihoCGsAaIFYfvodv/2taSPavr0J6nPOcbqioCKsAaAFYvnpAbZtmp3MmCHFxkp//3vEBbVEWANAizQyOUEj+nZRK59Ve4VtyUwu88zyU9uWfv1r00a0UyezH3ULXUfdEGaDA0AL5enlpwe3ufzDH8ymHO+80+JaiB6OpVsAgMgSCEg33yw9+aTZ5nL5ciklxemqmqWh7PNsBzMAQAtUXS1NmCC9+KJ04onSypXS6ac7XVXIEdYAgJahqkq65hrp1Vel7t1NUPfu7XRVYUFYAwDcr6JCGj3aLMvq1csEdQ+PzHgXYQ0AcLudO6WRI6X335f69JFWrJASPDDb/TCENQDAvb75RrroIumTT6SzzjL7UcfHO11V2LHOGgDgTtu2mZahn3wi/eQnZujbg0EtEdYAADf66isT0P/+tzRihOlM1qmT01U5JmRhnZmZqZSUFLVv314JCQlasGBBqE4FAIgkGzaYTmRffSWNGSMtXWo25/CwkNyzzsrK0uTJk/Xiiy/qpz/9qXbu3KmSkpJQnAoAEElWr5YuvVQqK5N+9jPpscekVq2crspxIelg9qMf/UiTJk3STTfddOwF0cEMALzp7belK680y7Tuucf0/LYivG3qAQ1lX9CHwffs2aNPP/1URUVFOvXUU3XiiSdqzJgx2rZtW7BPBQCIFAsXmuVZFRXSnDnS/fd7JqgbI+hhXVpaKtu2tXTpUi1fvlybNm1S27ZtNX78+CM+PyMjQ5Zl1R4AAI95+GHpuuvM5hwvvCDddpvTFblO0IfBy8rK5Pf79fTTT+vGG2+UJH355Zfq3bu3du3apfbt2x+9IIbBQ6p2l541W1RYVqHEuGilD0ryxi49gMP4+fuOQEC6805zJR0TIy1ZIl18sdNVOSLsG3nExcXppJNOOuLHCGFnBQK2pi5ep6zcEgUCtmxJO3buU3Zhjpbnbde8cf28+YIBhAE/f99RVSXdeKPZkKNzZ+nNN6WBA52uyrVCsnTrpptu0rx581RUVKSKigrNmjVLw4YNU4cOHUJxOjRSZk6xsnJLVHPghUKSbEk1AVtZuSXKzCl2sjwgovHzd5idO6VLLjFB3b27tGoVQd2AkIT13XffrWHDhik5OVndu3fX3r17tXDhwlCcCsdg4ZotCgSOPLoRCNhauDY/zBUB3sHP3wHbtknnnGP6e595prRmjen3jaMKyTrrVq1aac6cOZozZ04oPj2aqLCsQvXdiLAlFZXuDWc5gKfw8yfpP/8x3cjy86XzzpP+9jdPdyU7FrQb9ZDEuGjVd0fMktTN7+0OQUAoef7n74MPpB//2AT1NdeYNdUEdaMR1h6SPiip3gksPp+l9IHe2RsWCDdP//y9/LI0fLhUWirdcYdZU92mjdNVtSiEtYeMTE7QiL5d1Mpn1b7DtyS18lka0beLRiZ7a39YIJw8+fNn29KDD0rjxknV1dLjj0u/+53kI3qOVUjajTYH66xDq3ad59p8FZXuVTd/jNIH9vDuOk8gjDz187d/vzRlivTkk1L79tIrr5gZ4DiihrKPsAYABFd5udkta/ly6cQTpTfekM46y+mqXC3sTVEAAB62ZYu5gs7Lk844wwR1PY2y0HjcOAAABMfatdKAASaoR4wwzU4I6qAgrAEAzffyy9K550o7dkiTJ0uvvy517Oh0VRGDsAYANF0gIM2YYWZ8V1VJjz4qzZ8vRXGXNZj4agIAmmbvXun//T/pr381V9GvvGKGvxF0hDUA4NgVFkppadKnn0onn2yGvU8/3emqIhbD4ACAY7NmjdS/vwnqIUOkjz4iqEOMsAYANN5zz0lDh0olJdLPfmbWUsfHO11VxCOsAQANq66Wbr1VuuEGM6ns8celBQvo8R0m3LMGABzd119LV18tvfuudNxxZkLZ0KFOV+UphDUAoH7r1klXXCEVFEjJydJrr0k9ezpdlecwDA4AOLIXX5QGDzZBPW6c9OGHBLVDCGsAQF1VVdIvfymlp5vfz5kjvfSSFBPjdGWexTA4AOCQ4mJp7Fhp9Wozy/vll6Vhw5yuyvMIawCA8c9/mqAuKZF+9CMzkYyNOFyBYXAA8DrbNkPd551ngvqmm0xwE9SuwZU1XCcQsJWZU6yFa7aosKxCiXHRSh+UpJHJCfL5LKfLAyJLWZlZO/3aa1LbttKTT5o/w1Us27Ztp4s4nGVZcllJCKNAwNbUxeuUlVuiQMCWLcmS5PNZGtG3i+aN60dgA8GSnS2NHi19+aXUq5cZ9k5JcboqT2oo+xgGh6tk5hQrK7dENQeCWpJsSTUBW1m5JcrMKXayPCAy2La5gh440AT1FVeYPt8EtWsR1nCVhWu2KBA48rvLQMDWwrX5Ya4IiDA7d0rXXGP6etfUSI88Ir36qtSpk9OV4Si4Zw1XKSyrUH0DQbakotK94SwHiCzr15vZ3ps2mcljr7xirq7helxZw1US46JV3x1pS1I3P00ZgGNm29Jjj5lg3rRJGjnSBDdB3WKENKwrKip0yimnKC4uLpSnQQRJH5RU7wQyn89S+sAeYa4IaOG++cbck54yxeyW9cgj0tKlUufOTleGYxDSsJ4xY4Z69ODFFY03MjlBI/p2USufVXuFbUlqdWA2+MjkBCfLA1qWf/7TTBpbtkw65RRpzRqzzaXFioqWJmRLtz799FNdf/31mjNnjsaOHauysrLGFcTSrTq8uOa49t+8Nl9FpXvVzR+j9IE9IvrfDARVdbX0299Ks2ebq+n0dDMMHhvrdGWoR0PZF5Kwrq6u1tlnn61HH31UgUBAaWlphHUTsOYYwDH78ktp/Hhp7VqpQwfp8cdNWMPVHFln/fvf/16pqakaMmRIg8/NyMiQZVm1Bw5hzTHQeIGAraXri3Tl46s14IEVuvLx1Vq6vqjepYARx7al5583w95r10oDBpimJwR1RAj6lfWmTZs0bNgwrV+/Xp07d9Z7773HlXUTXfn4aq0rKDviUiZLUr8efr1684/DXRbgOp4fhfrmG+nmm6UlSySfT5o+3RytWztdGRqpoewL+jrrVatWqaSkRKeeeqokaf/+/dq1a5fi4+P15ptvasCAAcE+ZcRizTHQOIePQh303VGotNRuzhUYSm+/Ld14o7Rtm5SUJL34ojR4sNNVIciCPgw+duxYbdq0SdnZ2crOztbTTz+t2NhYZWdnKzU1Ndini2isOQYax5Od7/bsMVfTF19sgnrCBCknh6COUEG/so6JiVFMzKEQOf7442VZlhITE4N9qoiXPihJ2YU5da4WDmLNMXCI50ahVq+Wrr/eNDiJj5eeekpKS3O6KoRQyDuYDR06tNH3q4OuuFj6zW+kigpnzt9MrDkGGsczo1AVFdLtt0s//akJ6ssuk/79b4LaAyK73egdd0gPPGBmR374odPVHDOfz9K8cf00Z0yy+vXw68SObdWvh19zxiRH/oQZ4Bh4ovPdxx9L/fpJc+ZIHTuamd/LlkldujhdGcIgsvezLiqSbrpJeust07Hn1ltNo4CYCHmXDUBShM8Gr6iQMjKkhx82DU4uvFB6+mmJW4sRxZGmKM0R9KVbti39+c/SL38plZdLvXtLzzxjhpEARIyI7Hy3erV0ww3Sf/9ruo/NmSNNnEi70AhEWB9UVGT2b33zTfPnm2+WHnzQDCcBgJvs3m3m28ybZy44LrpI+tOfpO7dna4MIUJYH862pUWLzFX2N9+YYaQnnpAuvTQ05wOAY/X229LPfy4VFEhxcdIf/mC6kHE1HdEcaTfqWpYlXXut9Nln0rhxUmGhmU159dXS9u1OVwfAy77+2rw+XXyxCerRo6W8POm66whqeCysDzr+eHOF/frr5ur6lVekPn2kJ580EzgAIFxsW3ruOfMatGiR1K2b2W96yRKpa1enq4NLeDOsD7r0UvPO9Ze/lHbuNPe0hwyRcnOdrgyAF3z2mTR0qJlE9u23Zi5NXp50+eVOVwaX8dY966P517/MMq/166WoKOm226QZM6T27cNfC4LKi3uCw+UqKqT775d+9ztp/37pzDPNBLKBA52uDA5hgtmxqK42sy9nzDCzMbt3l/74R/Mul3tGLVJEr79Fy/T669IvfiFt2WJ6PsycaUb32CHL05hgdiyiokzjlM8+k8aMkbZula64wgyXb9rkdHVoAvYEh2t89ZWZ0DpypAnqtDQz5H377QQ1GkRYH0liovSXv0hZWdIpp5gOaH37mnWPe/Y4XR2OgSd3Y4K77N0r3XefeQ154w2pVy/T7+G116QeEdAGFWFBWB/NhRdKGzeae0tRUabP+Gmnmdnj7rp7gHp4bjcmuIdtmxndp50mzZpl/pyRYTbeuPhip6tDC0NYN6RdO+mee6T//EcaO9aszb76ajNrfN06p6tDAzyzGxPcZcMG6bzzzGvG1q3SqFHm9tp995nXFOAYEdaN1b27uaJ+910zc3PVKql/f+nGG2mo4mKe2I0J7lFSYlaVpKZK771nhr5XrJBefVXq2dPp6tCCEdbH6txzzRX1ggXSccdJzz5rNge5/35zbwquwp7gCIvKSumhh8xrwVNPmTahf/yjWQo6bJjT1SECsHSrOcrKzL2o+fPNWsnERBPa48dLPt4HuUVE7sYEdwgEpMWLzeTT/Hwzt2XKFLP80+93ujq0IKyzDocvv5Tuvlv661/Nn1NTzbvs8893ti4AofPuu9Iddxyau3L55abJyamnOlsXWiTWWYdDr15m1ueqVdKAAWbo64ILzMEkNCCy5OSY2dzDhpmf77PPlt5/3/TzJqgRIoR1MA0eLK1ZY66wTz1VWr5cOusss8PXF184XR2A5vjyS7MrVkqK2cayZ0/p5ZeltWvN6hAghBgGD5X9+83ks4wMM1u8VStpwgRzL4sN5IGWo6jIzEV56inTkrhLF+nee6VJk6Q2bZyuDhGCe9ZO27PH9Bt/6CEzIa1NG7Ozzt13Syee6HR1AOpTUiI9+KD0xBPSvn1Sx47SnXeaPt4dOjhdHSIMYe0WZWXSnDnS3LkmwKOjTWjfead5pw7AHb7+2vyszptnlmPGxJiNN26/3SzXBEKAsHabHTuk3/9eeuwxs01edLQ0ebKZVUpoA87ZsUN6+GHzs7l3r9S2rfnZvPtu6YQTnK4OEY6wdqvt280yjyeeMA0V2rUznY/uvFPq1s3p6hBm7LntoG3bzJX0E0+YkD74s3jXXVICTXMQHoS1223bZt7NL1hgXijatDET0e68Uzr5ZKerQxiw57ZDNm82b5ife87ck27XTvr5z83PXteuTlcHjyGsW4qvvzb3s+fPl3btMh3QrrrKvLtPTna6OoTQ0vVFmrYkRzVH2Mqzlc/SnDHJSktltCVoNm40t6IWLZJqasxkscmTzV7235n0yYgHwiXsTVH27dunSZMmqWfPnoqNjdVpp52mZ599NtiniTzHH2+24MzPNy1MO3c2bQxTUqSLLjLdkrz4JsYD2HM7DGzbbKxx8cVmI56FC6VOnaSZM6WCArNa4whBPXXxOk1bkqN1BWUq2blP6wrKNG1JjqYuXlfv9wwIhaCHdXV1tbp27aoVK1Zo586dev755zVt2jS98847wT5VZPL7zRrO/HwzG7VHDykry3RLOuss6aWXzBpuRAz23A6h/ftN45IBA8wmPG+/LZ10kvToo+Zn7Cg9vDNzipWVW6KaA7cmJPP9qAnYysotUWZOcbj+FUDww7p9+/aaNWuWevXqJcuyNHDgQJ177rlatWpVsE8V2WJizIYAX3xhArpfP9PGdPx4cy/7oYekb791ukoEAXtuh0BZmRnqPvlk00Hwk0/MFfWLL0qbNjVqrTQjHnCTkLcbrays1Mcff6wzzzwz1KeKTK1bS9dcI/3rX9I//iFdcolUWGiWkyQmSj/7mZSb63SVaAb23A6ivDxz/zkx0UwUKyw0t5HeeUfKzjbtQlu3btSnYsQDbhLSsLZtWxMnTlTv3r01atSoIz4nIyNDlmXVHqiHZUlDh0pvvCF99pl5QfL5pCeflH74QzNM/uqrDJG3QOy53UzV1WYTjeHDpb59zRKsQMC8kc3Lk956y+yAd4yvL4x4wE1CNhvctm1NnjxZ//rXv7RixQp16tSpcQV5dTZ4U5SVmf7j8+ebZSiSWRf6s59JEyeyRrQFYc/tJigulp55xrxhLSw0jyUlSbfcIt1wg5mk2QzM0kc4ObJ0y7Zt3XLLLVq7dq1Wrlwp/zFswk5YN0FNjfT3v0uPP26uImzbbBxyySWmucOIEebPQEtXUyOtWGECetky82fJbEc7ZYqZ7R2k/+usf0c4ORLWt9xyi1atWqV3331Xxx1jL13Cupk2b5b+9CfT6GHHDvNYYqK50rj+erOtH9DSbNli/k8/95y0dat5LD7e/L++6Sazp3wIMOKBcAl7WOfn5yspKUlt27ZVVFRU7ePjx4/XggULGvz7hHWQVFVJmZlmW7/Dl80NHWpCe/RoqX17p6oDGrZnj/S3v0kvvFC3z8CwYdKNN0qjRpn+3UAEoIMZzNX288+bo6DAPNahg3mxGz9eOu88hsnhDjU10j//Kf35z9Jf/yrt3m0e79bNtOGdMIE2vIhIhDUOCQTM8q/nnjNXLBUV5vGuXc1a1HHjTOMVZuUjnGzb9BBYtMh07Ss+0GwkOlq64gozEsQbSkQ4whpHtmuX9NprpknEypUmyCVz7++qq8xxxhkEN0LDtqV//1v6y1+kJUukzz83j1uW6TR2zTXSmDFSx47O1gmECWGNhhUXmxfNl1+WPvro0OO9e5t721deaTqoEdxoDts2jUlee80E9H/+c+hj/fqZhiVXX82SQ3gSYY1js3mz9Mor5sV03bpDj/foIV1+uTl++tNGd4GCx1VXSx9+aAJ66VIzq/ug1FRp7FhzBR2i2dxAS0FYo+k2bzZd0V59VVq79tDjfr9Zz3rppWZ9azObTyDClJebzWdef91snHF4D/sBA8x96FGjzMgNAEmENYKluNi8+C5bZu5xV1WZx30+adAg03/5wgvNcKYv5C3n4SaBgBnezsoyx4cfHmpW0qaNWS44cqSUlmZmdQP4HsIawbdrl7R8uemW9tZb0rZthz523HGmR/P555v1sElJjpWJEMrPN53EVq40x8EGPJLUpYt583bZZeb/QWysc3UCLQRhjdCybSknx4T28uXS6tV1NxNJSjKze889VzrnHLOXMFqeggLp/ffN8d570pdfHvpYVJT04x+btrYXXWS2omR0BTgmhDXCa/du09TinXfMmu4NG+p+/KSTpJ/8xByDB5tdklg/6y41NWbb1Q8/NMeqVYc2ijnojDPMCMrw4WbCIVfPQLMQ1nDW//5nwvsf/5A++MCE9+Hf3/btpR/9SBo4UDr7bNOUpXt3lomFU1GR9PHH0iefHPp15866zznjDDMyMnSoNGSIdPzxjpQKRCrCGu5SXi6tWWOCe+1aEw4HW0oedPzxJrT79ZOSk81xyilcgTdXTY301VfmtsX69WZp3vr1UklJ3efFxJg3ToMHm+HtgQOZ8Q+EGGENd6upkfLyTHB/8on06afSxo1173tLpvVk377mOP10c/TpY+6JE+J11dSY9cyffWYaj+Tmmq9pXt6hFrMHRUWZr+nZZx86Tj/dPA4gbAhrtDz79plwyc42V4EbNphfy8u//9zWrU1Djd69zdGzp9nooWdPE+TR0eGuPjz27jUzsvPzzdXypk1m0temTeY4uLTucJ06ST/8oZkAlppqRi769pXatQt//QDqIKwRGWxbKiw0V4t5eYeOL76ou2zou+LjzX7e3bubX7t2lU480SwvOvFE8/H4eDNByun75LZttoX8+mvzbzp4FBebo6jIHAUFZi5AfY47zow6nHaaOfr0MfecExOd/zcCOCLCGpGvvNyE9hdfmOHfzZvNsWWLCfjKyoY/R+vW5r6s3282j+jUyRwdOph7uAePdu1Mo4/Wrc2vrVqZADx4SKbFZk2N+XX/fnP+g0dFhVmnvnu3+XXXLqm01HT5Ki39/vD/kbRpY2bV9+hhjpNPNvf0e/Uyh9/fnK8mAAcQ1vA225a++caE9tat0vbtZkLV9u3m+N//zPHNN+ZoTFiGQps2JmT9fumEEw4dxx9vNrZISDDdvxISzGOsYwYiCmENNJZtmyvf8nKzdKm83AxL79lj7hHv2WPup+/fb+4J799vrp5t+9AhmclZUVHmqjsqytw3b9fu0K+xseaKPTbWHH6/+RhD1IBnEdYAALhcQ9nHWBoAAC5HWAMA4HKENQAALkdYAwDgcoQ1AAAuR1gDAOByhDUAAC5HWAMA4HKENQAALheSTWv379+vW2+9VS+99JIsy9K1116ruXPnKoo9chEBAgFbmTnFWrhmiwrLKpQYF630QUkamZwgn4+WoY3F1xFovJC0G73vvvu0bNkyvf3225Kkiy66SKNGjdKMGTMaLoh2o3CxQMDW1MXrlJVbokDAli3JkuTzWRrRt4vmjetH0DQCX0egLkfajT777LOaPn26unbtqq5du+o3v/mNnnnmmVCcCgirzJxiZeWWqOZAwEiSLakmYCsrt0SZOcVOlhcygYCtpeuLdOXjqzXggRW68vHVWrq+SIFA095Ye/XrCDRV0MO6tLRUhYWFSklJqX0sJSVFBQUFKi8vD/bpgLBauGZLvQEVCNhauDY/zBWF3sGr4GlLcrSuoEwlO/dpXUGZpi3J0dTF65oU2F78OgLNEfSw3r17tyQpLi6u9rGDv9+1a9f3np+RkSHLsmoPwM0KyypUXzTZkopK94aznLAIxVWwF7+OQHMEPaw7dOggSXWuog/+PjY29nvPz8jIkG3btQfgZolx0arvLaUlqZs/JpzlhEUoroK9+HUEmiPoYe33+5WYmKjs7Ozax7Kzs9W9e3d16tQp2KcDwip9UFK9E598PkvpA3uEuaLQC8VVsBe/jkBzhGSC2YQJE3T//fdr+/bt2r59ux544AFNnDgxFKcCwmpkcoJG9O2iVj6r9srQktTqwCzmkckJTpYXEqG4Cvbi1xFojpAs3dq/f79+9atfadGiRZKk8ePHN3qdNUu34Ha164PX5quodK+6+WOUPrBHxK4PXrq+SNOW5KjmCEPhrXyW5oxJVlpqt2P+vF77OgJH01D2hSSsm4OwBtyFNdFA6BHWAJqNq2AgtAhrAABczpEOZgAAIHgIawAAXI6wBgDA5QhrAABcjrAGAMDlCGsAAFyOsAYAwOUIawAAXI6wBgDA5QhrAABcjrAGAMDlCGsAAFyOsAYAwOUIawAAXI6wBgDA5QhrAABcjrAGAMDlCGsAAFyOsAYAwOWinC4ALVsgYCszp1gL12xRYVmFEuOilT4oSSOTE+TzWU6XBwARwbJt23a6iMNZliWXlYR6BAK2pi5ep6zcEgUCtmxJliSfz9KIvl00b1w/AhsAGqGh7GMYHE2WmVOsrNwS1RwIakmyJdUEbGXlligzp9jJ8gAgYjAMjiZbuGaLAoEjvxMMBGwtXJuvtNRuYa4KErcngEhDWKPJCssqVN+gjS2pqHRvOMvBAUe6PbFj5z5lF+Zoed52bk8ALRDD4GiyxLho1feSb0nq5o8JZzk4gNsTQOQJali/+eabGjJkiPx+v0444QSNHj1ahYWFwTwFXCR9UFK9V2g+n6X0gT3CXBGkxt2eANCyBDWsy8vLddddd2nr1q3avHmzOnbsqLFjxwbzFHCRkckJGtG3i1r5rNorbEtSqwOzwUcmJzhZnmdxewKIPCFdurVhwwalpqZq3759iopq3O1xlm61LLUTmdbmq6h0r7r5Y5Q+sAcTmRx05eOrta6g7IiBbUnq18OvV2/+cbjLAnAUDWVfSCeYvf/+++rTp0+jgxotj89nKS21G7O+XSR9UJKyC3NUc4ShcG5PAC1To4fBL730UlmWVe+xZcuWOs9fv3697r33Xs2dO/eonzcjI6PO5wHQPNyeACJPo4fBd+7cqaqqqno/3rlzZ/l8Jvs3btyo888/Xw8//LDGjx9/bAUxDA40G7cngJaloewL+j3rjRs3avjw4XrwwQc1YcKEY/77hDUAwGvC2m40NzdXw4cP1+zZs5sU1AAA4PuCemU9YcIEvfDCC4qJqdsMIy8vTyeddFLjCuLKGgDgMWEfBm8uwhoA4DXsugUAQAtHWAMA4HKENQAALkdYAwDgcoQ1AAAuR1gDAOByhDUAAC5HWAMA4HKENQAALkdYAwDgcoQ1AAAuR1gDAOByUU4XcCSWZTldAgAAruG6sHZqxy12+3Ie3wNn8fV3Ht8D57n1e8AwOAAALkdYAwDgcoT1Affdd5/TJXge3wNn8fV3Ht8D57n1e2DZbhycBwAAtbiyBgDA5QhrAABcjrAGAMDlCGsAAFyOsD7Mm2++qSFDhsjv9+uEE07Q6NGjVVhY6HRZnrJt2zaNHDlSCQkJsixL2dnZTpcU8fbv368pU6bI7/erc+fOmjp1qqqrq50uyzPmz5+v/v37q23btkpLS3O6HE/at2+fJk2apJ49eyo2NlannXaann32WafLqoOwPkx5ebnuuusubd26VZs3b1bHjh01duxYp8vyFJ/PpxEjRmjp0qVOl+IZs2fP1qpVq5SXl6fc3Fx98MEHeuCBB5wuyzMSEhI0ffp0TZo0yelSPKu6ulpdu3bVihUrtHPnTj3//POaNm2a3nnnHadLq8XSraPYsGGDUlNTtW/fPkVFua4za8SzLEvr169XSkqK06VEtO7du2vu3LkaPXq0JGnJkiW6/fbblZ+f73Bl3pKRkaHs7GzeqLrEqFGj9MMf/lCzZs1yuhRJXFkf1fvvv68+ffoQ1IhYpaWlKiwsrPOGKCUlRQUFBSovL3euMMBBlZWV+vjjj3XmmWc6XUotz4T1pZdeKsuy6j22bNlS5/nr16/Xvffeq7lz5zpTcAQ61u8BQm/37t2SpLi4uNrHDv5+165dDlQEOMu2bU2cOFG9e/fWqFGjnC6nlmcuGRctWqSqqqp6P965c+fa32/cuFEXXXSR5s+fr/PPPz8c5XnCsXwPEB4dOnSQZOZrxMfH1/5ekmJjYx2rC3CCbduaPHmyPv/8c61YsUI+n3uuZz0T1h07dmzU8zZu3Kjhw4frwQcf1Pjx40Nclbc09nuA8PH7/UpMTFR2drZ69eolScrOzlb37t3VqVMnh6sDwse2bd1yyy366KOPtHLlStf9/3fP2wYXyM3N1fDhwzV79mxNmDDB6XI8q7KyUpWVlZKkqqoqVVZWKhAIOFxV5JowYYLuv/9+bd++Xdu3b9cDDzygiRMnOl2WZ1RXV6uyslLV1dUKBAKqrKw86ggUQmPKlClavXq1li9fLr/f73Q538Ns8MNMmDBBL7zwgmJiYuo8npeXp5NOOsmhqrzHsqzvPfaPf/xDQ4cODX8xHrB//3796le/0qJFiyRJ48eP19y5c5lYGSYZGRmaOXNmncfOOeccvffee84U5EH5+flKSkpS27Zt6/y/Hz9+vBYsWOBgZYcQ1gAAuBzD4AAAuBxhDQCAyxHWAAC4HGENAIDLEdYAALgcYQ0AgMsR1gAAuBxhDQCAyxHWAAC4HGENAIDLEdYAALjc/wdyQ8PRqYn1JQAAAABJRU5ErkJggg==\n"
                },
                "metadata": {}
              }
            ]
          }
        },
        "ff09a052e1e14820a7ef791366c315e4": {
          "model_module": "@jupyter-widgets/base",
          "model_name": "LayoutModel",
          "model_module_version": "1.2.0",
          "state": {
            "_model_module": "@jupyter-widgets/base",
            "_model_module_version": "1.2.0",
            "_model_name": "LayoutModel",
            "_view_count": null,
            "_view_module": "@jupyter-widgets/base",
            "_view_module_version": "1.2.0",
            "_view_name": "LayoutView",
            "align_content": null,
            "align_items": null,
            "align_self": null,
            "border": null,
            "bottom": null,
            "display": null,
            "flex": null,
            "flex_flow": null,
            "grid_area": null,
            "grid_auto_columns": null,
            "grid_auto_flow": null,
            "grid_auto_rows": null,
            "grid_column": null,
            "grid_gap": null,
            "grid_row": null,
            "grid_template_areas": null,
            "grid_template_columns": null,
            "grid_template_rows": null,
            "height": null,
            "justify_content": null,
            "justify_items": null,
            "left": null,
            "margin": null,
            "max_height": null,
            "max_width": null,
            "min_height": null,
            "min_width": null,
            "object_fit": null,
            "object_position": null,
            "order": null,
            "overflow": null,
            "overflow_x": null,
            "overflow_y": null,
            "padding": null,
            "right": null,
            "top": null,
            "visibility": null,
            "width": null
          }
        },
        "dbe3001674454337b48213c0ea429d79": {
          "model_module": "@jupyter-widgets/base",
          "model_name": "LayoutModel",
          "model_module_version": "1.2.0",
          "state": {
            "_model_module": "@jupyter-widgets/base",
            "_model_module_version": "1.2.0",
            "_model_name": "LayoutModel",
            "_view_count": null,
            "_view_module": "@jupyter-widgets/base",
            "_view_module_version": "1.2.0",
            "_view_name": "LayoutView",
            "align_content": null,
            "align_items": null,
            "align_self": null,
            "border": null,
            "bottom": null,
            "display": null,
            "flex": null,
            "flex_flow": null,
            "grid_area": null,
            "grid_auto_columns": null,
            "grid_auto_flow": null,
            "grid_auto_rows": null,
            "grid_column": null,
            "grid_gap": null,
            "grid_row": null,
            "grid_template_areas": null,
            "grid_template_columns": null,
            "grid_template_rows": null,
            "height": null,
            "justify_content": null,
            "justify_items": null,
            "left": null,
            "margin": null,
            "max_height": null,
            "max_width": null,
            "min_height": null,
            "min_width": null,
            "object_fit": null,
            "object_position": null,
            "order": null,
            "overflow": null,
            "overflow_x": null,
            "overflow_y": null,
            "padding": null,
            "right": null,
            "top": null,
            "visibility": null,
            "width": null
          }
        },
        "b7c02bcd424b436d8c62829b74665831": {
          "model_module": "@jupyter-widgets/controls",
          "model_name": "SliderStyleModel",
          "model_module_version": "1.5.0",
          "state": {
            "_model_module": "@jupyter-widgets/controls",
            "_model_module_version": "1.5.0",
            "_model_name": "SliderStyleModel",
            "_view_count": null,
            "_view_module": "@jupyter-widgets/base",
            "_view_module_version": "1.2.0",
            "_view_name": "StyleView",
            "description_width": "",
            "handle_color": null
          }
        },
        "fc6cadeb014d47ec9a0623b48cecf224": {
          "model_module": "@jupyter-widgets/base",
          "model_name": "LayoutModel",
          "model_module_version": "1.2.0",
          "state": {
            "_model_module": "@jupyter-widgets/base",
            "_model_module_version": "1.2.0",
            "_model_name": "LayoutModel",
            "_view_count": null,
            "_view_module": "@jupyter-widgets/base",
            "_view_module_version": "1.2.0",
            "_view_name": "LayoutView",
            "align_content": null,
            "align_items": null,
            "align_self": null,
            "border": null,
            "bottom": null,
            "display": null,
            "flex": null,
            "flex_flow": null,
            "grid_area": null,
            "grid_auto_columns": null,
            "grid_auto_flow": null,
            "grid_auto_rows": null,
            "grid_column": null,
            "grid_gap": null,
            "grid_row": null,
            "grid_template_areas": null,
            "grid_template_columns": null,
            "grid_template_rows": null,
            "height": null,
            "justify_content": null,
            "justify_items": null,
            "left": null,
            "margin": null,
            "max_height": null,
            "max_width": null,
            "min_height": null,
            "min_width": null,
            "object_fit": null,
            "object_position": null,
            "order": null,
            "overflow": null,
            "overflow_x": null,
            "overflow_y": null,
            "padding": null,
            "right": null,
            "top": null,
            "visibility": null,
            "width": null
          }
        },
        "0de5d44e8e9a4d719f970354d5df4ddc": {
          "model_module": "@jupyter-widgets/controls",
          "model_name": "SliderStyleModel",
          "model_module_version": "1.5.0",
          "state": {
            "_model_module": "@jupyter-widgets/controls",
            "_model_module_version": "1.5.0",
            "_model_name": "SliderStyleModel",
            "_view_count": null,
            "_view_module": "@jupyter-widgets/base",
            "_view_module_version": "1.2.0",
            "_view_name": "StyleView",
            "description_width": "",
            "handle_color": null
          }
        },
        "58e52bc5412742ab9c90ec1e06ad12cd": {
          "model_module": "@jupyter-widgets/base",
          "model_name": "LayoutModel",
          "model_module_version": "1.2.0",
          "state": {
            "_model_module": "@jupyter-widgets/base",
            "_model_module_version": "1.2.0",
            "_model_name": "LayoutModel",
            "_view_count": null,
            "_view_module": "@jupyter-widgets/base",
            "_view_module_version": "1.2.0",
            "_view_name": "LayoutView",
            "align_content": null,
            "align_items": null,
            "align_self": null,
            "border": null,
            "bottom": null,
            "display": null,
            "flex": null,
            "flex_flow": null,
            "grid_area": null,
            "grid_auto_columns": null,
            "grid_auto_flow": null,
            "grid_auto_rows": null,
            "grid_column": null,
            "grid_gap": null,
            "grid_row": null,
            "grid_template_areas": null,
            "grid_template_columns": null,
            "grid_template_rows": null,
            "height": null,
            "justify_content": null,
            "justify_items": null,
            "left": null,
            "margin": null,
            "max_height": null,
            "max_width": null,
            "min_height": null,
            "min_width": null,
            "object_fit": null,
            "object_position": null,
            "order": null,
            "overflow": null,
            "overflow_x": null,
            "overflow_y": null,
            "padding": null,
            "right": null,
            "top": null,
            "visibility": null,
            "width": null
          }
        },
        "64624e8edaad47e089e540f07634980f": {
          "model_module": "@jupyter-widgets/controls",
          "model_name": "SliderStyleModel",
          "model_module_version": "1.5.0",
          "state": {
            "_model_module": "@jupyter-widgets/controls",
            "_model_module_version": "1.5.0",
            "_model_name": "SliderStyleModel",
            "_view_count": null,
            "_view_module": "@jupyter-widgets/base",
            "_view_module_version": "1.2.0",
            "_view_name": "StyleView",
            "description_width": "",
            "handle_color": null
          }
        },
        "fc03a6d6c58c41d6b8f54b6da827ac66": {
          "model_module": "@jupyter-widgets/base",
          "model_name": "LayoutModel",
          "model_module_version": "1.2.0",
          "state": {
            "_model_module": "@jupyter-widgets/base",
            "_model_module_version": "1.2.0",
            "_model_name": "LayoutModel",
            "_view_count": null,
            "_view_module": "@jupyter-widgets/base",
            "_view_module_version": "1.2.0",
            "_view_name": "LayoutView",
            "align_content": null,
            "align_items": null,
            "align_self": null,
            "border": null,
            "bottom": null,
            "display": null,
            "flex": null,
            "flex_flow": null,
            "grid_area": null,
            "grid_auto_columns": null,
            "grid_auto_flow": null,
            "grid_auto_rows": null,
            "grid_column": null,
            "grid_gap": null,
            "grid_row": null,
            "grid_template_areas": null,
            "grid_template_columns": null,
            "grid_template_rows": null,
            "height": null,
            "justify_content": null,
            "justify_items": null,
            "left": null,
            "margin": null,
            "max_height": null,
            "max_width": null,
            "min_height": null,
            "min_width": null,
            "object_fit": null,
            "object_position": null,
            "order": null,
            "overflow": null,
            "overflow_x": null,
            "overflow_y": null,
            "padding": null,
            "right": null,
            "top": null,
            "visibility": null,
            "width": null
          }
        },
        "55d59b42c49c40768a3ebe8dc14f616f": {
          "model_module": "@jupyter-widgets/controls",
          "model_name": "VBoxModel",
          "model_module_version": "1.5.0",
          "state": {
            "_dom_classes": [
              "widget-interact"
            ],
            "_model_module": "@jupyter-widgets/controls",
            "_model_module_version": "1.5.0",
            "_model_name": "VBoxModel",
            "_view_count": null,
            "_view_module": "@jupyter-widgets/controls",
            "_view_module_version": "1.5.0",
            "_view_name": "VBoxView",
            "box_style": "",
            "children": [
              "IPY_MODEL_fefe815fb4734334ac5701a293fde80b",
              "IPY_MODEL_0affab0f0a004a10b13924b5198f1680",
              "IPY_MODEL_a6a94008fbdf47f7a7e88d456102ce7b",
              "IPY_MODEL_93c08cc54a414e88a60904b669e2167a"
            ],
            "layout": "IPY_MODEL_dba2d1d04307499e8a2a2e62e478846d"
          }
        },
        "fefe815fb4734334ac5701a293fde80b": {
          "model_module": "@jupyter-widgets/controls",
          "model_name": "FloatSliderModel",
          "model_module_version": "1.5.0",
          "state": {
            "_dom_classes": [],
            "_model_module": "@jupyter-widgets/controls",
            "_model_module_version": "1.5.0",
            "_model_name": "FloatSliderModel",
            "_view_count": null,
            "_view_module": "@jupyter-widgets/controls",
            "_view_module_version": "1.5.0",
            "_view_name": "FloatSliderView",
            "continuous_update": true,
            "description": "a",
            "description_tooltip": null,
            "disabled": false,
            "layout": "IPY_MODEL_cd742b9b6c964a5ba8f10fd5d9af00a0",
            "max": 3.3000000000000003,
            "min": -1.1,
            "orientation": "horizontal",
            "readout": true,
            "readout_format": ".2f",
            "step": 0.1,
            "style": "IPY_MODEL_73ab33aca87d4154a6a3055b106e13aa",
            "value": 1.1
          }
        },
        "0affab0f0a004a10b13924b5198f1680": {
          "model_module": "@jupyter-widgets/controls",
          "model_name": "FloatSliderModel",
          "model_module_version": "1.5.0",
          "state": {
            "_dom_classes": [],
            "_model_module": "@jupyter-widgets/controls",
            "_model_module_version": "1.5.0",
            "_model_name": "FloatSliderModel",
            "_view_count": null,
            "_view_module": "@jupyter-widgets/controls",
            "_view_module_version": "1.5.0",
            "_view_name": "FloatSliderView",
            "continuous_update": true,
            "description": "b",
            "description_tooltip": null,
            "disabled": false,
            "layout": "IPY_MODEL_225e2dd8b64d4b64b54e2ad1993bf2ba",
            "max": 3.3000000000000003,
            "min": -1.1,
            "orientation": "horizontal",
            "readout": true,
            "readout_format": ".2f",
            "step": 0.1,
            "style": "IPY_MODEL_2ac1dbbf01b3416f886b11cf2f08346a",
            "value": 1.1
          }
        },
        "a6a94008fbdf47f7a7e88d456102ce7b": {
          "model_module": "@jupyter-widgets/controls",
          "model_name": "FloatSliderModel",
          "model_module_version": "1.5.0",
          "state": {
            "_dom_classes": [],
            "_model_module": "@jupyter-widgets/controls",
            "_model_module_version": "1.5.0",
            "_model_name": "FloatSliderModel",
            "_view_count": null,
            "_view_module": "@jupyter-widgets/controls",
            "_view_module_version": "1.5.0",
            "_view_name": "FloatSliderView",
            "continuous_update": true,
            "description": "c",
            "description_tooltip": null,
            "disabled": false,
            "layout": "IPY_MODEL_b2d67f5e631f4867bda0d44b67fb59f8",
            "max": 3.3000000000000003,
            "min": -1.1,
            "orientation": "horizontal",
            "readout": true,
            "readout_format": ".2f",
            "step": 0.1,
            "style": "IPY_MODEL_cf5f09c57f5d4edfbee8c56fe8371e0d",
            "value": 1.1
          }
        },
        "93c08cc54a414e88a60904b669e2167a": {
          "model_module": "@jupyter-widgets/output",
          "model_name": "OutputModel",
          "model_module_version": "1.0.0",
          "state": {
            "_dom_classes": [],
            "_model_module": "@jupyter-widgets/output",
            "_model_module_version": "1.0.0",
            "_model_name": "OutputModel",
            "_view_count": null,
            "_view_module": "@jupyter-widgets/output",
            "_view_module_version": "1.0.0",
            "_view_name": "OutputView",
            "layout": "IPY_MODEL_4aae7832d47c4fc39c784fd3332cbfe9",
            "msg_id": "",
            "outputs": [
              {
                "output_type": "display_data",
                "data": {
                  "text/plain": "<Figure size 576x432 with 1 Axes>",
                  "image/png": "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\n"
                },
                "metadata": {}
              }
            ]
          }
        },
        "dba2d1d04307499e8a2a2e62e478846d": {
          "model_module": "@jupyter-widgets/base",
          "model_name": "LayoutModel",
          "model_module_version": "1.2.0",
          "state": {
            "_model_module": "@jupyter-widgets/base",
            "_model_module_version": "1.2.0",
            "_model_name": "LayoutModel",
            "_view_count": null,
            "_view_module": "@jupyter-widgets/base",
            "_view_module_version": "1.2.0",
            "_view_name": "LayoutView",
            "align_content": null,
            "align_items": null,
            "align_self": null,
            "border": null,
            "bottom": null,
            "display": null,
            "flex": null,
            "flex_flow": null,
            "grid_area": null,
            "grid_auto_columns": null,
            "grid_auto_flow": null,
            "grid_auto_rows": null,
            "grid_column": null,
            "grid_gap": null,
            "grid_row": null,
            "grid_template_areas": null,
            "grid_template_columns": null,
            "grid_template_rows": null,
            "height": null,
            "justify_content": null,
            "justify_items": null,
            "left": null,
            "margin": null,
            "max_height": null,
            "max_width": null,
            "min_height": null,
            "min_width": null,
            "object_fit": null,
            "object_position": null,
            "order": null,
            "overflow": null,
            "overflow_x": null,
            "overflow_y": null,
            "padding": null,
            "right": null,
            "top": null,
            "visibility": null,
            "width": null
          }
        },
        "cd742b9b6c964a5ba8f10fd5d9af00a0": {
          "model_module": "@jupyter-widgets/base",
          "model_name": "LayoutModel",
          "model_module_version": "1.2.0",
          "state": {
            "_model_module": "@jupyter-widgets/base",
            "_model_module_version": "1.2.0",
            "_model_name": "LayoutModel",
            "_view_count": null,
            "_view_module": "@jupyter-widgets/base",
            "_view_module_version": "1.2.0",
            "_view_name": "LayoutView",
            "align_content": null,
            "align_items": null,
            "align_self": null,
            "border": null,
            "bottom": null,
            "display": null,
            "flex": null,
            "flex_flow": null,
            "grid_area": null,
            "grid_auto_columns": null,
            "grid_auto_flow": null,
            "grid_auto_rows": null,
            "grid_column": null,
            "grid_gap": null,
            "grid_row": null,
            "grid_template_areas": null,
            "grid_template_columns": null,
            "grid_template_rows": null,
            "height": null,
            "justify_content": null,
            "justify_items": null,
            "left": null,
            "margin": null,
            "max_height": null,
            "max_width": null,
            "min_height": null,
            "min_width": null,
            "object_fit": null,
            "object_position": null,
            "order": null,
            "overflow": null,
            "overflow_x": null,
            "overflow_y": null,
            "padding": null,
            "right": null,
            "top": null,
            "visibility": null,
            "width": null
          }
        },
        "73ab33aca87d4154a6a3055b106e13aa": {
          "model_module": "@jupyter-widgets/controls",
          "model_name": "SliderStyleModel",
          "model_module_version": "1.5.0",
          "state": {
            "_model_module": "@jupyter-widgets/controls",
            "_model_module_version": "1.5.0",
            "_model_name": "SliderStyleModel",
            "_view_count": null,
            "_view_module": "@jupyter-widgets/base",
            "_view_module_version": "1.2.0",
            "_view_name": "StyleView",
            "description_width": "",
            "handle_color": null
          }
        },
        "225e2dd8b64d4b64b54e2ad1993bf2ba": {
          "model_module": "@jupyter-widgets/base",
          "model_name": "LayoutModel",
          "model_module_version": "1.2.0",
          "state": {
            "_model_module": "@jupyter-widgets/base",
            "_model_module_version": "1.2.0",
            "_model_name": "LayoutModel",
            "_view_count": null,
            "_view_module": "@jupyter-widgets/base",
            "_view_module_version": "1.2.0",
            "_view_name": "LayoutView",
            "align_content": null,
            "align_items": null,
            "align_self": null,
            "border": null,
            "bottom": null,
            "display": null,
            "flex": null,
            "flex_flow": null,
            "grid_area": null,
            "grid_auto_columns": null,
            "grid_auto_flow": null,
            "grid_auto_rows": null,
            "grid_column": null,
            "grid_gap": null,
            "grid_row": null,
            "grid_template_areas": null,
            "grid_template_columns": null,
            "grid_template_rows": null,
            "height": null,
            "justify_content": null,
            "justify_items": null,
            "left": null,
            "margin": null,
            "max_height": null,
            "max_width": null,
            "min_height": null,
            "min_width": null,
            "object_fit": null,
            "object_position": null,
            "order": null,
            "overflow": null,
            "overflow_x": null,
            "overflow_y": null,
            "padding": null,
            "right": null,
            "top": null,
            "visibility": null,
            "width": null
          }
        },
        "2ac1dbbf01b3416f886b11cf2f08346a": {
          "model_module": "@jupyter-widgets/controls",
          "model_name": "SliderStyleModel",
          "model_module_version": "1.5.0",
          "state": {
            "_model_module": "@jupyter-widgets/controls",
            "_model_module_version": "1.5.0",
            "_model_name": "SliderStyleModel",
            "_view_count": null,
            "_view_module": "@jupyter-widgets/base",
            "_view_module_version": "1.2.0",
            "_view_name": "StyleView",
            "description_width": "",
            "handle_color": null
          }
        },
        "b2d67f5e631f4867bda0d44b67fb59f8": {
          "model_module": "@jupyter-widgets/base",
          "model_name": "LayoutModel",
          "model_module_version": "1.2.0",
          "state": {
            "_model_module": "@jupyter-widgets/base",
            "_model_module_version": "1.2.0",
            "_model_name": "LayoutModel",
            "_view_count": null,
            "_view_module": "@jupyter-widgets/base",
            "_view_module_version": "1.2.0",
            "_view_name": "LayoutView",
            "align_content": null,
            "align_items": null,
            "align_self": null,
            "border": null,
            "bottom": null,
            "display": null,
            "flex": null,
            "flex_flow": null,
            "grid_area": null,
            "grid_auto_columns": null,
            "grid_auto_flow": null,
            "grid_auto_rows": null,
            "grid_column": null,
            "grid_gap": null,
            "grid_row": null,
            "grid_template_areas": null,
            "grid_template_columns": null,
            "grid_template_rows": null,
            "height": null,
            "justify_content": null,
            "justify_items": null,
            "left": null,
            "margin": null,
            "max_height": null,
            "max_width": null,
            "min_height": null,
            "min_width": null,
            "object_fit": null,
            "object_position": null,
            "order": null,
            "overflow": null,
            "overflow_x": null,
            "overflow_y": null,
            "padding": null,
            "right": null,
            "top": null,
            "visibility": null,
            "width": null
          }
        },
        "cf5f09c57f5d4edfbee8c56fe8371e0d": {
          "model_module": "@jupyter-widgets/controls",
          "model_name": "SliderStyleModel",
          "model_module_version": "1.5.0",
          "state": {
            "_model_module": "@jupyter-widgets/controls",
            "_model_module_version": "1.5.0",
            "_model_name": "SliderStyleModel",
            "_view_count": null,
            "_view_module": "@jupyter-widgets/base",
            "_view_module_version": "1.2.0",
            "_view_name": "StyleView",
            "description_width": "",
            "handle_color": null
          }
        },
        "4aae7832d47c4fc39c784fd3332cbfe9": {
          "model_module": "@jupyter-widgets/base",
          "model_name": "LayoutModel",
          "model_module_version": "1.2.0",
          "state": {
            "_model_module": "@jupyter-widgets/base",
            "_model_module_version": "1.2.0",
            "_model_name": "LayoutModel",
            "_view_count": null,
            "_view_module": "@jupyter-widgets/base",
            "_view_module_version": "1.2.0",
            "_view_name": "LayoutView",
            "align_content": null,
            "align_items": null,
            "align_self": null,
            "border": null,
            "bottom": null,
            "display": null,
            "flex": null,
            "flex_flow": null,
            "grid_area": null,
            "grid_auto_columns": null,
            "grid_auto_flow": null,
            "grid_auto_rows": null,
            "grid_column": null,
            "grid_gap": null,
            "grid_row": null,
            "grid_template_areas": null,
            "grid_template_columns": null,
            "grid_template_rows": null,
            "height": null,
            "justify_content": null,
            "justify_items": null,
            "left": null,
            "margin": null,
            "max_height": null,
            "max_width": null,
            "min_height": null,
            "min_width": null,
            "object_fit": null,
            "object_position": null,
            "order": null,
            "overflow": null,
            "overflow_x": null,
            "overflow_y": null,
            "padding": null,
            "right": null,
            "top": null,
            "visibility": null,
            "width": null
          }
        },
        "79f97d7b22104e4ea7d297130c9e8b5f": {
          "model_module": "@jupyter-widgets/controls",
          "model_name": "VBoxModel",
          "model_module_version": "1.5.0",
          "state": {
            "_dom_classes": [
              "widget-interact"
            ],
            "_model_module": "@jupyter-widgets/controls",
            "_model_module_version": "1.5.0",
            "_model_name": "VBoxModel",
            "_view_count": null,
            "_view_module": "@jupyter-widgets/controls",
            "_view_module_version": "1.5.0",
            "_view_name": "VBoxView",
            "box_style": "",
            "children": [
              "IPY_MODEL_327dae02f6cb42cdb7550dff2af7af62",
              "IPY_MODEL_ca1f393ffd554ec6873d323b2e8afc44",
              "IPY_MODEL_666f3e74e18c43cfbd8b1dedc672c93b"
            ],
            "layout": "IPY_MODEL_1ec6e5b7775c4ce9871c1bb73dc74f01"
          }
        },
        "327dae02f6cb42cdb7550dff2af7af62": {
          "model_module": "@jupyter-widgets/controls",
          "model_name": "FloatSliderModel",
          "model_module_version": "1.5.0",
          "state": {
            "_dom_classes": [],
            "_model_module": "@jupyter-widgets/controls",
            "_model_module_version": "1.5.0",
            "_model_name": "FloatSliderModel",
            "_view_count": null,
            "_view_module": "@jupyter-widgets/controls",
            "_view_module_version": "1.5.0",
            "_view_name": "FloatSliderView",
            "continuous_update": true,
            "description": "m",
            "description_tooltip": null,
            "disabled": false,
            "layout": "IPY_MODEL_7b05dcea4cd74b6a989305fe4ec6c3e3",
            "max": 4.5,
            "min": -1.5,
            "orientation": "horizontal",
            "readout": true,
            "readout_format": ".2f",
            "step": 0.1,
            "style": "IPY_MODEL_4b502a0199274f7c8c88b4a48e149ecd",
            "value": 2.2
          }
        },
        "ca1f393ffd554ec6873d323b2e8afc44": {
          "model_module": "@jupyter-widgets/controls",
          "model_name": "FloatSliderModel",
          "model_module_version": "1.5.0",
          "state": {
            "_dom_classes": [],
            "_model_module": "@jupyter-widgets/controls",
            "_model_module_version": "1.5.0",
            "_model_name": "FloatSliderModel",
            "_view_count": null,
            "_view_module": "@jupyter-widgets/controls",
            "_view_module_version": "1.5.0",
            "_view_name": "FloatSliderView",
            "continuous_update": true,
            "description": "b",
            "description_tooltip": null,
            "disabled": false,
            "layout": "IPY_MODEL_d82200bdbd194b7aaf843a1cd44ae718",
            "max": 4.5,
            "min": -1.5,
            "orientation": "horizontal",
            "readout": true,
            "readout_format": ".2f",
            "step": 0.1,
            "style": "IPY_MODEL_9ab475d6156b458fa053804f50936d7b",
            "value": 0.4
          }
        },
        "666f3e74e18c43cfbd8b1dedc672c93b": {
          "model_module": "@jupyter-widgets/output",
          "model_name": "OutputModel",
          "model_module_version": "1.0.0",
          "state": {
            "_dom_classes": [],
            "_model_module": "@jupyter-widgets/output",
            "_model_module_version": "1.0.0",
            "_model_name": "OutputModel",
            "_view_count": null,
            "_view_module": "@jupyter-widgets/output",
            "_view_module_version": "1.0.0",
            "_view_name": "OutputView",
            "layout": "IPY_MODEL_a44e8df526d349f5a0bd39d7903ab089",
            "msg_id": "",
            "outputs": [
              {
                "output_type": "display_data",
                "data": {
                  "text/plain": "<Figure size 576x432 with 1 Axes>",
                  "image/png": "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\n"
                },
                "metadata": {}
              }
            ]
          }
        },
        "1ec6e5b7775c4ce9871c1bb73dc74f01": {
          "model_module": "@jupyter-widgets/base",
          "model_name": "LayoutModel",
          "model_module_version": "1.2.0",
          "state": {
            "_model_module": "@jupyter-widgets/base",
            "_model_module_version": "1.2.0",
            "_model_name": "LayoutModel",
            "_view_count": null,
            "_view_module": "@jupyter-widgets/base",
            "_view_module_version": "1.2.0",
            "_view_name": "LayoutView",
            "align_content": null,
            "align_items": null,
            "align_self": null,
            "border": null,
            "bottom": null,
            "display": null,
            "flex": null,
            "flex_flow": null,
            "grid_area": null,
            "grid_auto_columns": null,
            "grid_auto_flow": null,
            "grid_auto_rows": null,
            "grid_column": null,
            "grid_gap": null,
            "grid_row": null,
            "grid_template_areas": null,
            "grid_template_columns": null,
            "grid_template_rows": null,
            "height": null,
            "justify_content": null,
            "justify_items": null,
            "left": null,
            "margin": null,
            "max_height": null,
            "max_width": null,
            "min_height": null,
            "min_width": null,
            "object_fit": null,
            "object_position": null,
            "order": null,
            "overflow": null,
            "overflow_x": null,
            "overflow_y": null,
            "padding": null,
            "right": null,
            "top": null,
            "visibility": null,
            "width": null
          }
        },
        "7b05dcea4cd74b6a989305fe4ec6c3e3": {
          "model_module": "@jupyter-widgets/base",
          "model_name": "LayoutModel",
          "model_module_version": "1.2.0",
          "state": {
            "_model_module": "@jupyter-widgets/base",
            "_model_module_version": "1.2.0",
            "_model_name": "LayoutModel",
            "_view_count": null,
            "_view_module": "@jupyter-widgets/base",
            "_view_module_version": "1.2.0",
            "_view_name": "LayoutView",
            "align_content": null,
            "align_items": null,
            "align_self": null,
            "border": null,
            "bottom": null,
            "display": null,
            "flex": null,
            "flex_flow": null,
            "grid_area": null,
            "grid_auto_columns": null,
            "grid_auto_flow": null,
            "grid_auto_rows": null,
            "grid_column": null,
            "grid_gap": null,
            "grid_row": null,
            "grid_template_areas": null,
            "grid_template_columns": null,
            "grid_template_rows": null,
            "height": null,
            "justify_content": null,
            "justify_items": null,
            "left": null,
            "margin": null,
            "max_height": null,
            "max_width": null,
            "min_height": null,
            "min_width": null,
            "object_fit": null,
            "object_position": null,
            "order": null,
            "overflow": null,
            "overflow_x": null,
            "overflow_y": null,
            "padding": null,
            "right": null,
            "top": null,
            "visibility": null,
            "width": null
          }
        },
        "4b502a0199274f7c8c88b4a48e149ecd": {
          "model_module": "@jupyter-widgets/controls",
          "model_name": "SliderStyleModel",
          "model_module_version": "1.5.0",
          "state": {
            "_model_module": "@jupyter-widgets/controls",
            "_model_module_version": "1.5.0",
            "_model_name": "SliderStyleModel",
            "_view_count": null,
            "_view_module": "@jupyter-widgets/base",
            "_view_module_version": "1.2.0",
            "_view_name": "StyleView",
            "description_width": "",
            "handle_color": null
          }
        },
        "d82200bdbd194b7aaf843a1cd44ae718": {
          "model_module": "@jupyter-widgets/base",
          "model_name": "LayoutModel",
          "model_module_version": "1.2.0",
          "state": {
            "_model_module": "@jupyter-widgets/base",
            "_model_module_version": "1.2.0",
            "_model_name": "LayoutModel",
            "_view_count": null,
            "_view_module": "@jupyter-widgets/base",
            "_view_module_version": "1.2.0",
            "_view_name": "LayoutView",
            "align_content": null,
            "align_items": null,
            "align_self": null,
            "border": null,
            "bottom": null,
            "display": null,
            "flex": null,
            "flex_flow": null,
            "grid_area": null,
            "grid_auto_columns": null,
            "grid_auto_flow": null,
            "grid_auto_rows": null,
            "grid_column": null,
            "grid_gap": null,
            "grid_row": null,
            "grid_template_areas": null,
            "grid_template_columns": null,
            "grid_template_rows": null,
            "height": null,
            "justify_content": null,
            "justify_items": null,
            "left": null,
            "margin": null,
            "max_height": null,
            "max_width": null,
            "min_height": null,
            "min_width": null,
            "object_fit": null,
            "object_position": null,
            "order": null,
            "overflow": null,
            "overflow_x": null,
            "overflow_y": null,
            "padding": null,
            "right": null,
            "top": null,
            "visibility": null,
            "width": null
          }
        },
        "9ab475d6156b458fa053804f50936d7b": {
          "model_module": "@jupyter-widgets/controls",
          "model_name": "SliderStyleModel",
          "model_module_version": "1.5.0",
          "state": {
            "_model_module": "@jupyter-widgets/controls",
            "_model_module_version": "1.5.0",
            "_model_name": "SliderStyleModel",
            "_view_count": null,
            "_view_module": "@jupyter-widgets/base",
            "_view_module_version": "1.2.0",
            "_view_name": "StyleView",
            "description_width": "",
            "handle_color": null
          }
        },
        "a44e8df526d349f5a0bd39d7903ab089": {
          "model_module": "@jupyter-widgets/base",
          "model_name": "LayoutModel",
          "model_module_version": "1.2.0",
          "state": {
            "_model_module": "@jupyter-widgets/base",
            "_model_module_version": "1.2.0",
            "_model_name": "LayoutModel",
            "_view_count": null,
            "_view_module": "@jupyter-widgets/base",
            "_view_module_version": "1.2.0",
            "_view_name": "LayoutView",
            "align_content": null,
            "align_items": null,
            "align_self": null,
            "border": null,
            "bottom": null,
            "display": null,
            "flex": null,
            "flex_flow": null,
            "grid_area": null,
            "grid_auto_columns": null,
            "grid_auto_flow": null,
            "grid_auto_rows": null,
            "grid_column": null,
            "grid_gap": null,
            "grid_row": null,
            "grid_template_areas": null,
            "grid_template_columns": null,
            "grid_template_rows": null,
            "height": null,
            "justify_content": null,
            "justify_items": null,
            "left": null,
            "margin": null,
            "max_height": null,
            "max_width": null,
            "min_height": null,
            "min_width": null,
            "object_fit": null,
            "object_position": null,
            "order": null,
            "overflow": null,
            "overflow_x": null,
            "overflow_y": null,
            "padding": null,
            "right": null,
            "top": null,
            "visibility": null,
            "width": null
          }
        },
        "d6af6abecd3542178061b009ef6b3223": {
          "model_module": "@jupyter-widgets/controls",
          "model_name": "VBoxModel",
          "model_module_version": "1.5.0",
          "state": {
            "_dom_classes": [
              "widget-interact"
            ],
            "_model_module": "@jupyter-widgets/controls",
            "_model_module_version": "1.5.0",
            "_model_name": "VBoxModel",
            "_view_count": null,
            "_view_module": "@jupyter-widgets/controls",
            "_view_module_version": "1.5.0",
            "_view_name": "VBoxView",
            "box_style": "",
            "children": [
              "IPY_MODEL_b667015f9a8c4a0297e1e9e15c4cab18",
              "IPY_MODEL_7a294f676ca844d9bf1df6c1393726e6",
              "IPY_MODEL_2977546a10e7496a87804a4146eb10af",
              "IPY_MODEL_1d72cfdf1bfe477f92379a680c0c8aa7",
              "IPY_MODEL_da3192426f1b446aace20658109d484c"
            ],
            "layout": "IPY_MODEL_976cdf2b162e4a74924e351da4a84607"
          }
        },
        "b667015f9a8c4a0297e1e9e15c4cab18": {
          "model_module": "@jupyter-widgets/controls",
          "model_name": "FloatSliderModel",
          "model_module_version": "1.5.0",
          "state": {
            "_dom_classes": [],
            "_model_module": "@jupyter-widgets/controls",
            "_model_module_version": "1.5.0",
            "_model_name": "FloatSliderModel",
            "_view_count": null,
            "_view_module": "@jupyter-widgets/controls",
            "_view_module_version": "1.5.0",
            "_view_name": "FloatSliderView",
            "continuous_update": true,
            "description": "m1",
            "description_tooltip": null,
            "disabled": false,
            "layout": "IPY_MODEL_67d0e9d0a528498f9a38e838f618b7a2",
            "max": 1.5,
            "min": -4.5,
            "orientation": "horizontal",
            "readout": true,
            "readout_format": ".2f",
            "step": 0.1,
            "style": "IPY_MODEL_1cfa6bcdc92a4f8c9429971d09ded2ed",
            "value": -2.6
          }
        },
        "7a294f676ca844d9bf1df6c1393726e6": {
          "model_module": "@jupyter-widgets/controls",
          "model_name": "FloatSliderModel",
          "model_module_version": "1.5.0",
          "state": {
            "_dom_classes": [],
            "_model_module": "@jupyter-widgets/controls",
            "_model_module_version": "1.5.0",
            "_model_name": "FloatSliderModel",
            "_view_count": null,
            "_view_module": "@jupyter-widgets/controls",
            "_view_module_version": "1.5.0",
            "_view_name": "FloatSliderView",
            "continuous_update": true,
            "description": "b1",
            "description_tooltip": null,
            "disabled": false,
            "layout": "IPY_MODEL_4893384d75544f36b56cc74a17bb6bbf",
            "max": 1.5,
            "min": -4.5,
            "orientation": "horizontal",
            "readout": true,
            "readout_format": ".2f",
            "step": 0.1,
            "style": "IPY_MODEL_6cf06655c24544f899a339441c2ca906",
            "value": -2.5
          }
        },
        "2977546a10e7496a87804a4146eb10af": {
          "model_module": "@jupyter-widgets/controls",
          "model_name": "FloatSliderModel",
          "model_module_version": "1.5.0",
          "state": {
            "_dom_classes": [],
            "_model_module": "@jupyter-widgets/controls",
            "_model_module_version": "1.5.0",
            "_model_name": "FloatSliderModel",
            "_view_count": null,
            "_view_module": "@jupyter-widgets/controls",
            "_view_module_version": "1.5.0",
            "_view_name": "FloatSliderView",
            "continuous_update": true,
            "description": "m2",
            "description_tooltip": null,
            "disabled": false,
            "layout": "IPY_MODEL_251ce804a1514ef8aa84408c22cad7f3",
            "max": 4.5,
            "min": -1.5,
            "orientation": "horizontal",
            "readout": true,
            "readout_format": ".2f",
            "step": 0.1,
            "style": "IPY_MODEL_36eca44a3a304ca4b26a7b16a57b47a2",
            "value": 2.2
          }
        },
        "1d72cfdf1bfe477f92379a680c0c8aa7": {
          "model_module": "@jupyter-widgets/controls",
          "model_name": "FloatSliderModel",
          "model_module_version": "1.5.0",
          "state": {
            "_dom_classes": [],
            "_model_module": "@jupyter-widgets/controls",
            "_model_module_version": "1.5.0",
            "_model_name": "FloatSliderModel",
            "_view_count": null,
            "_view_module": "@jupyter-widgets/controls",
            "_view_module_version": "1.5.0",
            "_view_name": "FloatSliderView",
            "continuous_update": true,
            "description": "b2",
            "description_tooltip": null,
            "disabled": false,
            "layout": "IPY_MODEL_3fa07a4ece874c25b6c28ac9e418da18",
            "max": 4.5,
            "min": -1.5,
            "orientation": "horizontal",
            "readout": true,
            "readout_format": ".2f",
            "step": 0.1,
            "style": "IPY_MODEL_d2a96766d4784f2bbcb28ff0991b8696",
            "value": 0.2
          }
        },
        "da3192426f1b446aace20658109d484c": {
          "model_module": "@jupyter-widgets/output",
          "model_name": "OutputModel",
          "model_module_version": "1.0.0",
          "state": {
            "_dom_classes": [],
            "_model_module": "@jupyter-widgets/output",
            "_model_module_version": "1.0.0",
            "_model_name": "OutputModel",
            "_view_count": null,
            "_view_module": "@jupyter-widgets/output",
            "_view_module_version": "1.0.0",
            "_view_name": "OutputView",
            "layout": "IPY_MODEL_79a5c574c4064f37bff4c6589131eea4",
            "msg_id": "",
            "outputs": [
              {
                "output_type": "display_data",
                "data": {
                  "text/plain": "<Figure size 576x432 with 1 Axes>",
                  "image/png": "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\n"
                },
                "metadata": {}
              }
            ]
          }
        },
        "976cdf2b162e4a74924e351da4a84607": {
          "model_module": "@jupyter-widgets/base",
          "model_name": "LayoutModel",
          "model_module_version": "1.2.0",
          "state": {
            "_model_module": "@jupyter-widgets/base",
            "_model_module_version": "1.2.0",
            "_model_name": "LayoutModel",
            "_view_count": null,
            "_view_module": "@jupyter-widgets/base",
            "_view_module_version": "1.2.0",
            "_view_name": "LayoutView",
            "align_content": null,
            "align_items": null,
            "align_self": null,
            "border": null,
            "bottom": null,
            "display": null,
            "flex": null,
            "flex_flow": null,
            "grid_area": null,
            "grid_auto_columns": null,
            "grid_auto_flow": null,
            "grid_auto_rows": null,
            "grid_column": null,
            "grid_gap": null,
            "grid_row": null,
            "grid_template_areas": null,
            "grid_template_columns": null,
            "grid_template_rows": null,
            "height": null,
            "justify_content": null,
            "justify_items": null,
            "left": null,
            "margin": null,
            "max_height": null,
            "max_width": null,
            "min_height": null,
            "min_width": null,
            "object_fit": null,
            "object_position": null,
            "order": null,
            "overflow": null,
            "overflow_x": null,
            "overflow_y": null,
            "padding": null,
            "right": null,
            "top": null,
            "visibility": null,
            "width": null
          }
        },
        "67d0e9d0a528498f9a38e838f618b7a2": {
          "model_module": "@jupyter-widgets/base",
          "model_name": "LayoutModel",
          "model_module_version": "1.2.0",
          "state": {
            "_model_module": "@jupyter-widgets/base",
            "_model_module_version": "1.2.0",
            "_model_name": "LayoutModel",
            "_view_count": null,
            "_view_module": "@jupyter-widgets/base",
            "_view_module_version": "1.2.0",
            "_view_name": "LayoutView",
            "align_content": null,
            "align_items": null,
            "align_self": null,
            "border": null,
            "bottom": null,
            "display": null,
            "flex": null,
            "flex_flow": null,
            "grid_area": null,
            "grid_auto_columns": null,
            "grid_auto_flow": null,
            "grid_auto_rows": null,
            "grid_column": null,
            "grid_gap": null,
            "grid_row": null,
            "grid_template_areas": null,
            "grid_template_columns": null,
            "grid_template_rows": null,
            "height": null,
            "justify_content": null,
            "justify_items": null,
            "left": null,
            "margin": null,
            "max_height": null,
            "max_width": null,
            "min_height": null,
            "min_width": null,
            "object_fit": null,
            "object_position": null,
            "order": null,
            "overflow": null,
            "overflow_x": null,
            "overflow_y": null,
            "padding": null,
            "right": null,
            "top": null,
            "visibility": null,
            "width": null
          }
        },
        "1cfa6bcdc92a4f8c9429971d09ded2ed": {
          "model_module": "@jupyter-widgets/controls",
          "model_name": "SliderStyleModel",
          "model_module_version": "1.5.0",
          "state": {
            "_model_module": "@jupyter-widgets/controls",
            "_model_module_version": "1.5.0",
            "_model_name": "SliderStyleModel",
            "_view_count": null,
            "_view_module": "@jupyter-widgets/base",
            "_view_module_version": "1.2.0",
            "_view_name": "StyleView",
            "description_width": "",
            "handle_color": null
          }
        },
        "4893384d75544f36b56cc74a17bb6bbf": {
          "model_module": "@jupyter-widgets/base",
          "model_name": "LayoutModel",
          "model_module_version": "1.2.0",
          "state": {
            "_model_module": "@jupyter-widgets/base",
            "_model_module_version": "1.2.0",
            "_model_name": "LayoutModel",
            "_view_count": null,
            "_view_module": "@jupyter-widgets/base",
            "_view_module_version": "1.2.0",
            "_view_name": "LayoutView",
            "align_content": null,
            "align_items": null,
            "align_self": null,
            "border": null,
            "bottom": null,
            "display": null,
            "flex": null,
            "flex_flow": null,
            "grid_area": null,
            "grid_auto_columns": null,
            "grid_auto_flow": null,
            "grid_auto_rows": null,
            "grid_column": null,
            "grid_gap": null,
            "grid_row": null,
            "grid_template_areas": null,
            "grid_template_columns": null,
            "grid_template_rows": null,
            "height": null,
            "justify_content": null,
            "justify_items": null,
            "left": null,
            "margin": null,
            "max_height": null,
            "max_width": null,
            "min_height": null,
            "min_width": null,
            "object_fit": null,
            "object_position": null,
            "order": null,
            "overflow": null,
            "overflow_x": null,
            "overflow_y": null,
            "padding": null,
            "right": null,
            "top": null,
            "visibility": null,
            "width": null
          }
        },
        "6cf06655c24544f899a339441c2ca906": {
          "model_module": "@jupyter-widgets/controls",
          "model_name": "SliderStyleModel",
          "model_module_version": "1.5.0",
          "state": {
            "_model_module": "@jupyter-widgets/controls",
            "_model_module_version": "1.5.0",
            "_model_name": "SliderStyleModel",
            "_view_count": null,
            "_view_module": "@jupyter-widgets/base",
            "_view_module_version": "1.2.0",
            "_view_name": "StyleView",
            "description_width": "",
            "handle_color": null
          }
        },
        "251ce804a1514ef8aa84408c22cad7f3": {
          "model_module": "@jupyter-widgets/base",
          "model_name": "LayoutModel",
          "model_module_version": "1.2.0",
          "state": {
            "_model_module": "@jupyter-widgets/base",
            "_model_module_version": "1.2.0",
            "_model_name": "LayoutModel",
            "_view_count": null,
            "_view_module": "@jupyter-widgets/base",
            "_view_module_version": "1.2.0",
            "_view_name": "LayoutView",
            "align_content": null,
            "align_items": null,
            "align_self": null,
            "border": null,
            "bottom": null,
            "display": null,
            "flex": null,
            "flex_flow": null,
            "grid_area": null,
            "grid_auto_columns": null,
            "grid_auto_flow": null,
            "grid_auto_rows": null,
            "grid_column": null,
            "grid_gap": null,
            "grid_row": null,
            "grid_template_areas": null,
            "grid_template_columns": null,
            "grid_template_rows": null,
            "height": null,
            "justify_content": null,
            "justify_items": null,
            "left": null,
            "margin": null,
            "max_height": null,
            "max_width": null,
            "min_height": null,
            "min_width": null,
            "object_fit": null,
            "object_position": null,
            "order": null,
            "overflow": null,
            "overflow_x": null,
            "overflow_y": null,
            "padding": null,
            "right": null,
            "top": null,
            "visibility": null,
            "width": null
          }
        },
        "36eca44a3a304ca4b26a7b16a57b47a2": {
          "model_module": "@jupyter-widgets/controls",
          "model_name": "SliderStyleModel",
          "model_module_version": "1.5.0",
          "state": {
            "_model_module": "@jupyter-widgets/controls",
            "_model_module_version": "1.5.0",
            "_model_name": "SliderStyleModel",
            "_view_count": null,
            "_view_module": "@jupyter-widgets/base",
            "_view_module_version": "1.2.0",
            "_view_name": "StyleView",
            "description_width": "",
            "handle_color": null
          }
        },
        "3fa07a4ece874c25b6c28ac9e418da18": {
          "model_module": "@jupyter-widgets/base",
          "model_name": "LayoutModel",
          "model_module_version": "1.2.0",
          "state": {
            "_model_module": "@jupyter-widgets/base",
            "_model_module_version": "1.2.0",
            "_model_name": "LayoutModel",
            "_view_count": null,
            "_view_module": "@jupyter-widgets/base",
            "_view_module_version": "1.2.0",
            "_view_name": "LayoutView",
            "align_content": null,
            "align_items": null,
            "align_self": null,
            "border": null,
            "bottom": null,
            "display": null,
            "flex": null,
            "flex_flow": null,
            "grid_area": null,
            "grid_auto_columns": null,
            "grid_auto_flow": null,
            "grid_auto_rows": null,
            "grid_column": null,
            "grid_gap": null,
            "grid_row": null,
            "grid_template_areas": null,
            "grid_template_columns": null,
            "grid_template_rows": null,
            "height": null,
            "justify_content": null,
            "justify_items": null,
            "left": null,
            "margin": null,
            "max_height": null,
            "max_width": null,
            "min_height": null,
            "min_width": null,
            "object_fit": null,
            "object_position": null,
            "order": null,
            "overflow": null,
            "overflow_x": null,
            "overflow_y": null,
            "padding": null,
            "right": null,
            "top": null,
            "visibility": null,
            "width": null
          }
        },
        "d2a96766d4784f2bbcb28ff0991b8696": {
          "model_module": "@jupyter-widgets/controls",
          "model_name": "SliderStyleModel",
          "model_module_version": "1.5.0",
          "state": {
            "_model_module": "@jupyter-widgets/controls",
            "_model_module_version": "1.5.0",
            "_model_name": "SliderStyleModel",
            "_view_count": null,
            "_view_module": "@jupyter-widgets/base",
            "_view_module_version": "1.2.0",
            "_view_name": "StyleView",
            "description_width": "",
            "handle_color": null
          }
        },
        "79a5c574c4064f37bff4c6589131eea4": {
          "model_module": "@jupyter-widgets/base",
          "model_name": "LayoutModel",
          "model_module_version": "1.2.0",
          "state": {
            "_model_module": "@jupyter-widgets/base",
            "_model_module_version": "1.2.0",
            "_model_name": "LayoutModel",
            "_view_count": null,
            "_view_module": "@jupyter-widgets/base",
            "_view_module_version": "1.2.0",
            "_view_name": "LayoutView",
            "align_content": null,
            "align_items": null,
            "align_self": null,
            "border": null,
            "bottom": null,
            "display": null,
            "flex": null,
            "flex_flow": null,
            "grid_area": null,
            "grid_auto_columns": null,
            "grid_auto_flow": null,
            "grid_auto_rows": null,
            "grid_column": null,
            "grid_gap": null,
            "grid_row": null,
            "grid_template_areas": null,
            "grid_template_columns": null,
            "grid_template_rows": null,
            "height": null,
            "justify_content": null,
            "justify_items": null,
            "left": null,
            "margin": null,
            "max_height": null,
            "max_width": null,
            "min_height": null,
            "min_width": null,
            "object_fit": null,
            "object_position": null,
            "order": null,
            "overflow": null,
            "overflow_x": null,
            "overflow_y": null,
            "padding": null,
            "right": null,
            "top": null,
            "visibility": null,
            "width": null
          }
        },
        "eec50e622273401d972a2817dca82074": {
          "model_module": "@jupyter-widgets/controls",
          "model_name": "VBoxModel",
          "model_module_version": "1.5.0",
          "state": {
            "_dom_classes": [
              "widget-interact"
            ],
            "_model_module": "@jupyter-widgets/controls",
            "_model_module_version": "1.5.0",
            "_model_name": "VBoxModel",
            "_view_count": null,
            "_view_module": "@jupyter-widgets/controls",
            "_view_module_version": "1.5.0",
            "_view_name": "VBoxView",
            "box_style": "",
            "children": [
              "IPY_MODEL_02820f23a6a6495aa207b99d65fadbf4",
              "IPY_MODEL_b611e34b07354903a07a401ef4789606",
              "IPY_MODEL_487e4549938847a981ad5bcf78b4757d",
              "IPY_MODEL_70c21b5c443f40d2a5f0c2100f85a6d2",
              "IPY_MODEL_9d853a2a5fdf4bfab0ab36d6f67f75f2",
              "IPY_MODEL_38839177b6da433189bf479aa2722314",
              "IPY_MODEL_5b1e04b0a78146b8bcf25935484ec5ef"
            ],
            "layout": "IPY_MODEL_90b84b86886348168d2e3022e624f342"
          }
        },
        "02820f23a6a6495aa207b99d65fadbf4": {
          "model_module": "@jupyter-widgets/controls",
          "model_name": "FloatSliderModel",
          "model_module_version": "1.5.0",
          "state": {
            "_dom_classes": [],
            "_model_module": "@jupyter-widgets/controls",
            "_model_module_version": "1.5.0",
            "_model_name": "FloatSliderModel",
            "_view_count": null,
            "_view_module": "@jupyter-widgets/controls",
            "_view_module_version": "1.5.0",
            "_view_name": "FloatSliderView",
            "continuous_update": true,
            "description": "m1",
            "description_tooltip": null,
            "disabled": false,
            "layout": "IPY_MODEL_130b996c073947a49cf897b0c1552068",
            "max": 1.5,
            "min": -4.5,
            "orientation": "horizontal",
            "readout": true,
            "readout_format": ".2f",
            "step": 0.1,
            "style": "IPY_MODEL_91a48637bee54ae8a3d6fb5eb392936b",
            "value": -3.8
          }
        },
        "b611e34b07354903a07a401ef4789606": {
          "model_module": "@jupyter-widgets/controls",
          "model_name": "FloatSliderModel",
          "model_module_version": "1.5.0",
          "state": {
            "_dom_classes": [],
            "_model_module": "@jupyter-widgets/controls",
            "_model_module_version": "1.5.0",
            "_model_name": "FloatSliderModel",
            "_view_count": null,
            "_view_module": "@jupyter-widgets/controls",
            "_view_module_version": "1.5.0",
            "_view_name": "FloatSliderView",
            "continuous_update": true,
            "description": "b1",
            "description_tooltip": null,
            "disabled": false,
            "layout": "IPY_MODEL_817c45e9bdd04d1f99048787e18086fe",
            "max": 1.5,
            "min": -4.5,
            "orientation": "horizontal",
            "readout": true,
            "readout_format": ".2f",
            "step": 0.1,
            "style": "IPY_MODEL_f178f50907624b659a14cc3de2b61d31",
            "value": -2.2
          }
        },
        "487e4549938847a981ad5bcf78b4757d": {
          "model_module": "@jupyter-widgets/controls",
          "model_name": "FloatSliderModel",
          "model_module_version": "1.5.0",
          "state": {
            "_dom_classes": [],
            "_model_module": "@jupyter-widgets/controls",
            "_model_module_version": "1.5.0",
            "_model_name": "FloatSliderModel",
            "_view_count": null,
            "_view_module": "@jupyter-widgets/controls",
            "_view_module_version": "1.5.0",
            "_view_name": "FloatSliderView",
            "continuous_update": true,
            "description": "m2",
            "description_tooltip": null,
            "disabled": false,
            "layout": "IPY_MODEL_0d4717e17e8748cb93e92591030135d5",
            "max": 4.5,
            "min": -1.5,
            "orientation": "horizontal",
            "readout": true,
            "readout_format": ".2f",
            "step": 0.1,
            "style": "IPY_MODEL_3221ff69cab94e6e964bdb8ff0395720",
            "value": 2.1
          }
        },
        "70c21b5c443f40d2a5f0c2100f85a6d2": {
          "model_module": "@jupyter-widgets/controls",
          "model_name": "FloatSliderModel",
          "model_module_version": "1.5.0",
          "state": {
            "_dom_classes": [],
            "_model_module": "@jupyter-widgets/controls",
            "_model_module_version": "1.5.0",
            "_model_name": "FloatSliderModel",
            "_view_count": null,
            "_view_module": "@jupyter-widgets/controls",
            "_view_module_version": "1.5.0",
            "_view_name": "FloatSliderView",
            "continuous_update": true,
            "description": "b2",
            "description_tooltip": null,
            "disabled": false,
            "layout": "IPY_MODEL_5534373aca2342468a47bd05d8553dd3",
            "max": 4.5,
            "min": -1.5,
            "orientation": "horizontal",
            "readout": true,
            "readout_format": ".2f",
            "step": 0.1,
            "style": "IPY_MODEL_d3edab0412c84440b7cffa91b50e7e16",
            "value": 2.9
          }
        },
        "9d853a2a5fdf4bfab0ab36d6f67f75f2": {
          "model_module": "@jupyter-widgets/controls",
          "model_name": "IntSliderModel",
          "model_module_version": "1.5.0",
          "state": {
            "_dom_classes": [],
            "_model_module": "@jupyter-widgets/controls",
            "_model_module_version": "1.5.0",
            "_model_name": "IntSliderModel",
            "_view_count": null,
            "_view_module": "@jupyter-widgets/controls",
            "_view_module_version": "1.5.0",
            "_view_name": "IntSliderView",
            "continuous_update": true,
            "description": "m3",
            "description_tooltip": null,
            "disabled": false,
            "layout": "IPY_MODEL_9246e8a6e98d49fc93c8d28e663a5b0b",
            "max": 3,
            "min": -1,
            "orientation": "horizontal",
            "readout": true,
            "readout_format": "d",
            "step": 1,
            "style": "IPY_MODEL_aff3afc48f034767a2e30217c308e9d7",
            "value": 1
          }
        },
        "38839177b6da433189bf479aa2722314": {
          "model_module": "@jupyter-widgets/controls",
          "model_name": "IntSliderModel",
          "model_module_version": "1.5.0",
          "state": {
            "_dom_classes": [],
            "_model_module": "@jupyter-widgets/controls",
            "_model_module_version": "1.5.0",
            "_model_name": "IntSliderModel",
            "_view_count": null,
            "_view_module": "@jupyter-widgets/controls",
            "_view_module_version": "1.5.0",
            "_view_name": "IntSliderView",
            "continuous_update": true,
            "description": "b3",
            "description_tooltip": null,
            "disabled": false,
            "layout": "IPY_MODEL_88beca50060148dab4bb92917e3da490",
            "max": 3,
            "min": -1,
            "orientation": "horizontal",
            "readout": true,
            "readout_format": "d",
            "step": 1,
            "style": "IPY_MODEL_640efa67b0d94473baf349f11877f693",
            "value": 0
          }
        },
        "5b1e04b0a78146b8bcf25935484ec5ef": {
          "model_module": "@jupyter-widgets/output",
          "model_name": "OutputModel",
          "model_module_version": "1.0.0",
          "state": {
            "_dom_classes": [],
            "_model_module": "@jupyter-widgets/output",
            "_model_module_version": "1.0.0",
            "_model_name": "OutputModel",
            "_view_count": null,
            "_view_module": "@jupyter-widgets/output",
            "_view_module_version": "1.0.0",
            "_view_name": "OutputView",
            "layout": "IPY_MODEL_6fa4763debd74d618b672e505beb0fff",
            "msg_id": "",
            "outputs": [
              {
                "output_type": "display_data",
                "data": {
                  "text/plain": "<Figure size 576x432 with 1 Axes>",
                  "image/png": "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\n"
                },
                "metadata": {}
              }
            ]
          }
        },
        "90b84b86886348168d2e3022e624f342": {
          "model_module": "@jupyter-widgets/base",
          "model_name": "LayoutModel",
          "model_module_version": "1.2.0",
          "state": {
            "_model_module": "@jupyter-widgets/base",
            "_model_module_version": "1.2.0",
            "_model_name": "LayoutModel",
            "_view_count": null,
            "_view_module": "@jupyter-widgets/base",
            "_view_module_version": "1.2.0",
            "_view_name": "LayoutView",
            "align_content": null,
            "align_items": null,
            "align_self": null,
            "border": null,
            "bottom": null,
            "display": null,
            "flex": null,
            "flex_flow": null,
            "grid_area": null,
            "grid_auto_columns": null,
            "grid_auto_flow": null,
            "grid_auto_rows": null,
            "grid_column": null,
            "grid_gap": null,
            "grid_row": null,
            "grid_template_areas": null,
            "grid_template_columns": null,
            "grid_template_rows": null,
            "height": null,
            "justify_content": null,
            "justify_items": null,
            "left": null,
            "margin": null,
            "max_height": null,
            "max_width": null,
            "min_height": null,
            "min_width": null,
            "object_fit": null,
            "object_position": null,
            "order": null,
            "overflow": null,
            "overflow_x": null,
            "overflow_y": null,
            "padding": null,
            "right": null,
            "top": null,
            "visibility": null,
            "width": null
          }
        },
        "130b996c073947a49cf897b0c1552068": {
          "model_module": "@jupyter-widgets/base",
          "model_name": "LayoutModel",
          "model_module_version": "1.2.0",
          "state": {
            "_model_module": "@jupyter-widgets/base",
            "_model_module_version": "1.2.0",
            "_model_name": "LayoutModel",
            "_view_count": null,
            "_view_module": "@jupyter-widgets/base",
            "_view_module_version": "1.2.0",
            "_view_name": "LayoutView",
            "align_content": null,
            "align_items": null,
            "align_self": null,
            "border": null,
            "bottom": null,
            "display": null,
            "flex": null,
            "flex_flow": null,
            "grid_area": null,
            "grid_auto_columns": null,
            "grid_auto_flow": null,
            "grid_auto_rows": null,
            "grid_column": null,
            "grid_gap": null,
            "grid_row": null,
            "grid_template_areas": null,
            "grid_template_columns": null,
            "grid_template_rows": null,
            "height": null,
            "justify_content": null,
            "justify_items": null,
            "left": null,
            "margin": null,
            "max_height": null,
            "max_width": null,
            "min_height": null,
            "min_width": null,
            "object_fit": null,
            "object_position": null,
            "order": null,
            "overflow": null,
            "overflow_x": null,
            "overflow_y": null,
            "padding": null,
            "right": null,
            "top": null,
            "visibility": null,
            "width": null
          }
        },
        "91a48637bee54ae8a3d6fb5eb392936b": {
          "model_module": "@jupyter-widgets/controls",
          "model_name": "SliderStyleModel",
          "model_module_version": "1.5.0",
          "state": {
            "_model_module": "@jupyter-widgets/controls",
            "_model_module_version": "1.5.0",
            "_model_name": "SliderStyleModel",
            "_view_count": null,
            "_view_module": "@jupyter-widgets/base",
            "_view_module_version": "1.2.0",
            "_view_name": "StyleView",
            "description_width": "",
            "handle_color": null
          }
        },
        "817c45e9bdd04d1f99048787e18086fe": {
          "model_module": "@jupyter-widgets/base",
          "model_name": "LayoutModel",
          "model_module_version": "1.2.0",
          "state": {
            "_model_module": "@jupyter-widgets/base",
            "_model_module_version": "1.2.0",
            "_model_name": "LayoutModel",
            "_view_count": null,
            "_view_module": "@jupyter-widgets/base",
            "_view_module_version": "1.2.0",
            "_view_name": "LayoutView",
            "align_content": null,
            "align_items": null,
            "align_self": null,
            "border": null,
            "bottom": null,
            "display": null,
            "flex": null,
            "flex_flow": null,
            "grid_area": null,
            "grid_auto_columns": null,
            "grid_auto_flow": null,
            "grid_auto_rows": null,
            "grid_column": null,
            "grid_gap": null,
            "grid_row": null,
            "grid_template_areas": null,
            "grid_template_columns": null,
            "grid_template_rows": null,
            "height": null,
            "justify_content": null,
            "justify_items": null,
            "left": null,
            "margin": null,
            "max_height": null,
            "max_width": null,
            "min_height": null,
            "min_width": null,
            "object_fit": null,
            "object_position": null,
            "order": null,
            "overflow": null,
            "overflow_x": null,
            "overflow_y": null,
            "padding": null,
            "right": null,
            "top": null,
            "visibility": null,
            "width": null
          }
        },
        "f178f50907624b659a14cc3de2b61d31": {
          "model_module": "@jupyter-widgets/controls",
          "model_name": "SliderStyleModel",
          "model_module_version": "1.5.0",
          "state": {
            "_model_module": "@jupyter-widgets/controls",
            "_model_module_version": "1.5.0",
            "_model_name": "SliderStyleModel",
            "_view_count": null,
            "_view_module": "@jupyter-widgets/base",
            "_view_module_version": "1.2.0",
            "_view_name": "StyleView",
            "description_width": "",
            "handle_color": null
          }
        },
        "0d4717e17e8748cb93e92591030135d5": {
          "model_module": "@jupyter-widgets/base",
          "model_name": "LayoutModel",
          "model_module_version": "1.2.0",
          "state": {
            "_model_module": "@jupyter-widgets/base",
            "_model_module_version": "1.2.0",
            "_model_name": "LayoutModel",
            "_view_count": null,
            "_view_module": "@jupyter-widgets/base",
            "_view_module_version": "1.2.0",
            "_view_name": "LayoutView",
            "align_content": null,
            "align_items": null,
            "align_self": null,
            "border": null,
            "bottom": null,
            "display": null,
            "flex": null,
            "flex_flow": null,
            "grid_area": null,
            "grid_auto_columns": null,
            "grid_auto_flow": null,
            "grid_auto_rows": null,
            "grid_column": null,
            "grid_gap": null,
            "grid_row": null,
            "grid_template_areas": null,
            "grid_template_columns": null,
            "grid_template_rows": null,
            "height": null,
            "justify_content": null,
            "justify_items": null,
            "left": null,
            "margin": null,
            "max_height": null,
            "max_width": null,
            "min_height": null,
            "min_width": null,
            "object_fit": null,
            "object_position": null,
            "order": null,
            "overflow": null,
            "overflow_x": null,
            "overflow_y": null,
            "padding": null,
            "right": null,
            "top": null,
            "visibility": null,
            "width": null
          }
        },
        "3221ff69cab94e6e964bdb8ff0395720": {
          "model_module": "@jupyter-widgets/controls",
          "model_name": "SliderStyleModel",
          "model_module_version": "1.5.0",
          "state": {
            "_model_module": "@jupyter-widgets/controls",
            "_model_module_version": "1.5.0",
            "_model_name": "SliderStyleModel",
            "_view_count": null,
            "_view_module": "@jupyter-widgets/base",
            "_view_module_version": "1.2.0",
            "_view_name": "StyleView",
            "description_width": "",
            "handle_color": null
          }
        },
        "5534373aca2342468a47bd05d8553dd3": {
          "model_module": "@jupyter-widgets/base",
          "model_name": "LayoutModel",
          "model_module_version": "1.2.0",
          "state": {
            "_model_module": "@jupyter-widgets/base",
            "_model_module_version": "1.2.0",
            "_model_name": "LayoutModel",
            "_view_count": null,
            "_view_module": "@jupyter-widgets/base",
            "_view_module_version": "1.2.0",
            "_view_name": "LayoutView",
            "align_content": null,
            "align_items": null,
            "align_self": null,
            "border": null,
            "bottom": null,
            "display": null,
            "flex": null,
            "flex_flow": null,
            "grid_area": null,
            "grid_auto_columns": null,
            "grid_auto_flow": null,
            "grid_auto_rows": null,
            "grid_column": null,
            "grid_gap": null,
            "grid_row": null,
            "grid_template_areas": null,
            "grid_template_columns": null,
            "grid_template_rows": null,
            "height": null,
            "justify_content": null,
            "justify_items": null,
            "left": null,
            "margin": null,
            "max_height": null,
            "max_width": null,
            "min_height": null,
            "min_width": null,
            "object_fit": null,
            "object_position": null,
            "order": null,
            "overflow": null,
            "overflow_x": null,
            "overflow_y": null,
            "padding": null,
            "right": null,
            "top": null,
            "visibility": null,
            "width": null
          }
        },
        "d3edab0412c84440b7cffa91b50e7e16": {
          "model_module": "@jupyter-widgets/controls",
          "model_name": "SliderStyleModel",
          "model_module_version": "1.5.0",
          "state": {
            "_model_module": "@jupyter-widgets/controls",
            "_model_module_version": "1.5.0",
            "_model_name": "SliderStyleModel",
            "_view_count": null,
            "_view_module": "@jupyter-widgets/base",
            "_view_module_version": "1.2.0",
            "_view_name": "StyleView",
            "description_width": "",
            "handle_color": null
          }
        },
        "9246e8a6e98d49fc93c8d28e663a5b0b": {
          "model_module": "@jupyter-widgets/base",
          "model_name": "LayoutModel",
          "model_module_version": "1.2.0",
          "state": {
            "_model_module": "@jupyter-widgets/base",
            "_model_module_version": "1.2.0",
            "_model_name": "LayoutModel",
            "_view_count": null,
            "_view_module": "@jupyter-widgets/base",
            "_view_module_version": "1.2.0",
            "_view_name": "LayoutView",
            "align_content": null,
            "align_items": null,
            "align_self": null,
            "border": null,
            "bottom": null,
            "display": null,
            "flex": null,
            "flex_flow": null,
            "grid_area": null,
            "grid_auto_columns": null,
            "grid_auto_flow": null,
            "grid_auto_rows": null,
            "grid_column": null,
            "grid_gap": null,
            "grid_row": null,
            "grid_template_areas": null,
            "grid_template_columns": null,
            "grid_template_rows": null,
            "height": null,
            "justify_content": null,
            "justify_items": null,
            "left": null,
            "margin": null,
            "max_height": null,
            "max_width": null,
            "min_height": null,
            "min_width": null,
            "object_fit": null,
            "object_position": null,
            "order": null,
            "overflow": null,
            "overflow_x": null,
            "overflow_y": null,
            "padding": null,
            "right": null,
            "top": null,
            "visibility": null,
            "width": null
          }
        },
        "aff3afc48f034767a2e30217c308e9d7": {
          "model_module": "@jupyter-widgets/controls",
          "model_name": "SliderStyleModel",
          "model_module_version": "1.5.0",
          "state": {
            "_model_module": "@jupyter-widgets/controls",
            "_model_module_version": "1.5.0",
            "_model_name": "SliderStyleModel",
            "_view_count": null,
            "_view_module": "@jupyter-widgets/base",
            "_view_module_version": "1.2.0",
            "_view_name": "StyleView",
            "description_width": "",
            "handle_color": null
          }
        },
        "88beca50060148dab4bb92917e3da490": {
          "model_module": "@jupyter-widgets/base",
          "model_name": "LayoutModel",
          "model_module_version": "1.2.0",
          "state": {
            "_model_module": "@jupyter-widgets/base",
            "_model_module_version": "1.2.0",
            "_model_name": "LayoutModel",
            "_view_count": null,
            "_view_module": "@jupyter-widgets/base",
            "_view_module_version": "1.2.0",
            "_view_name": "LayoutView",
            "align_content": null,
            "align_items": null,
            "align_self": null,
            "border": null,
            "bottom": null,
            "display": null,
            "flex": null,
            "flex_flow": null,
            "grid_area": null,
            "grid_auto_columns": null,
            "grid_auto_flow": null,
            "grid_auto_rows": null,
            "grid_column": null,
            "grid_gap": null,
            "grid_row": null,
            "grid_template_areas": null,
            "grid_template_columns": null,
            "grid_template_rows": null,
            "height": null,
            "justify_content": null,
            "justify_items": null,
            "left": null,
            "margin": null,
            "max_height": null,
            "max_width": null,
            "min_height": null,
            "min_width": null,
            "object_fit": null,
            "object_position": null,
            "order": null,
            "overflow": null,
            "overflow_x": null,
            "overflow_y": null,
            "padding": null,
            "right": null,
            "top": null,
            "visibility": null,
            "width": null
          }
        },
        "640efa67b0d94473baf349f11877f693": {
          "model_module": "@jupyter-widgets/controls",
          "model_name": "SliderStyleModel",
          "model_module_version": "1.5.0",
          "state": {
            "_model_module": "@jupyter-widgets/controls",
            "_model_module_version": "1.5.0",
            "_model_name": "SliderStyleModel",
            "_view_count": null,
            "_view_module": "@jupyter-widgets/base",
            "_view_module_version": "1.2.0",
            "_view_name": "StyleView",
            "description_width": "",
            "handle_color": null
          }
        },
        "6fa4763debd74d618b672e505beb0fff": {
          "model_module": "@jupyter-widgets/base",
          "model_name": "LayoutModel",
          "model_module_version": "1.2.0",
          "state": {
            "_model_module": "@jupyter-widgets/base",
            "_model_module_version": "1.2.0",
            "_model_name": "LayoutModel",
            "_view_count": null,
            "_view_module": "@jupyter-widgets/base",
            "_view_module_version": "1.2.0",
            "_view_name": "LayoutView",
            "align_content": null,
            "align_items": null,
            "align_self": null,
            "border": null,
            "bottom": null,
            "display": null,
            "flex": null,
            "flex_flow": null,
            "grid_area": null,
            "grid_auto_columns": null,
            "grid_auto_flow": null,
            "grid_auto_rows": null,
            "grid_column": null,
            "grid_gap": null,
            "grid_row": null,
            "grid_template_areas": null,
            "grid_template_columns": null,
            "grid_template_rows": null,
            "height": null,
            "justify_content": null,
            "justify_items": null,
            "left": null,
            "margin": null,
            "max_height": null,
            "max_width": null,
            "min_height": null,
            "min_width": null,
            "object_fit": null,
            "object_position": null,
            "order": null,
            "overflow": null,
            "overflow_x": null,
            "overflow_y": null,
            "padding": null,
            "right": null,
            "top": null,
            "visibility": null,
            "width": null
          }
        }
      }
    }
  },
  "cells": [
    {
      "cell_type": "markdown",
      "metadata": {
        "id": "view-in-github",
        "colab_type": "text"
      },
      "source": [
        "<a href=\"https://colab.research.google.com/github/jorgealcauza/colab-hfcourse/blob/main/Untitled0.ipynb\" target=\"_parent\"><img src=\"https://colab.research.google.com/assets/colab-badge.svg\" alt=\"Open In Colab\"/></a>"
      ]
    },
    {
      "cell_type": "code",
      "execution_count": 51,
      "metadata": {
        "id": "4ki5Xa-B-HZi"
      },
      "outputs": [],
      "source": [
        "from ipywidgets import interact\n",
        "from fastai.basics import *\n",
        "\n",
        "plt.rc('figure', dpi=90)\n",
        "\n",
        "def plot_function(f, title=None, min=-2.1, max=2.1, color='r', ylim=None):\n",
        "    x = torch.linspace(min,max, 100)[:,None]\n",
        "    if ylim: plt.ylim(ylim)\n",
        "    plt.plot(x, f(x), color)\n",
        "    if title is not None: plt.title(title)"
      ]
    },
    {
      "cell_type": "code",
      "source": [
        "def f(x): return 3*x**2 + 2*x + 1\n",
        "\n",
        "plot_function(f, \"$3x^2 + 2x + 1$\")"
      ],
      "metadata": {
        "colab": {
          "base_uri": "https://localhost:8080/",
          "height": 412
        },
        "id": "9OrEfeR0kBkJ",
        "outputId": "e19b200a-d8af-4d36-baf3-3fd5b6161bae"
      },
      "execution_count": 52,
      "outputs": [
        {
          "output_type": "display_data",
          "data": {
            "text/plain": [
              "<Figure size 576x432 with 1 Axes>"
            ],
            "image/png": "[encoded data removed]"
          },
          "metadata": {}
        }
      ]
    },
    {
      "cell_type": "code",
      "source": [
        "def quad(a, b, c, x): return a*x**2 + b*x + c\n",
        "def mk_quad(a,b,c): return partial(quad, a,b,c)\n",
        "f2 = mk_quad(3,2,1)\n",
        "plot_function(f2)"
      ],
      "metadata": {
        "colab": {
          "base_uri": "https://localhost:8080/",
          "height": 389
        },
        "id": "V2Fprbm-kzQ3",
        "outputId": "3535a717-9786-460a-e1d9-cea132eb8732"
      },
      "execution_count": 53,
      "outputs": [
        {
          "output_type": "display_data",
          "data": {
            "text/plain": [
              "<Figure size 576x432 with 1 Axes>"
            ],
            "image/png": "[encoded data removed]"
          },
          "metadata": {}
        }
      ]
    },
    {
      "cell_type": "code",
      "source": [
        "def noise(x, scale): return np.random.normal(scale=scale, size=x.shape)\n",
        "def add_noise(x, mult, add): return x * (1+noise(x,mult)) + noise(x,add)\n",
        "\n",
        "np.random.seed(30)\n",
        "\n",
        "x = torch.linspace(-2, 2, steps=20)[:,None]\n",
        "y = add_noise(f(x), 0.15, 1.5)\n",
        "\n",
        "x[:5],y[:5]\n",
        "\n",
        "plt.scatter(x,y);"
      ],
      "metadata": {
        "colab": {
          "base_uri": "https://localhost:8080/",
          "height": 424
        },
        "id": "9ANcOCt9lSx_",
        "outputId": "bf23c557-fe1b-4d95-b4a2-4bec5feb7881"
      },
      "execution_count": 54,
      "outputs": [
        {
          "output_type": "stream",
          "name": "stderr",
          "text": [
            "/tmp/ipython-input-2344035811.py:2: DeprecationWarning: __array_wrap__ must accept context and return_scalar arguments (positionally) in the future. (Deprecated NumPy 2.0)\n",
            "  def add_noise(x, mult, add): return x * (1+noise(x,mult)) + noise(x,add)\n"
          ]
        },
        {
          "output_type": "display_data",
          "data": {
            "text/plain": [
              "<Figure size 576x432 with 1 Axes>"
            ],
            "image/png": "[encoded data removed]"
          },
          "metadata": {}
        }
      ]
    },
    {
      "cell_type": "code",
      "source": [
        "@interact(a=1.1, b=1.1, c=1.1)\n",
        "def plot_quad(a, b, c):\n",
        "    plt.scatter(x,y)\n",
        "    plot_function(mk_quad(a,b,c), ylim=(-3,15))"
      ],
      "metadata": {
        "colab": {
          "base_uri": "https://localhost:8080/",
          "height": 485,
          "referenced_widgets": [
            "0bfe5a871af144d1a3ea38b9bd0e53e8",
            "6b6001eb17fb4587afb3c1d20f8f396a",
            "e4c59500abfc4fdf8a9f7be2305ebbb2",
            "3184fc4af27e421580de8f2a724b726c",
            "834b2a97b6d947dfb107ac5bd7b49185",
            "ff09a052e1e14820a7ef791366c315e4",
            "dbe3001674454337b48213c0ea429d79",
            "b7c02bcd424b436d8c62829b74665831",
            "fc6cadeb014d47ec9a0623b48cecf224",
            "0de5d44e8e9a4d719f970354d5df4ddc",
            "58e52bc5412742ab9c90ec1e06ad12cd",
            "64624e8edaad47e089e540f07634980f",
            "fc03a6d6c58c41d6b8f54b6da827ac66"
          ]
        },
        "id": "vLhJiQ8olhUW",
        "outputId": "d5bb20ac-f257-426e-bba2-74ff13750e19"
      },
      "execution_count": 55,
      "outputs": [
        {
          "output_type": "display_data",
          "data": {
            "text/plain": [
              "interactive(children=(FloatSlider(value=1.1, description='a', max=3.3000000000000003, min=-1.1), FloatSlider(v…"
            ],
            "application/vnd.jupyter.widget-view+json": {
              "version_major": 2,
              "version_minor": 0,
              "model_id": "0bfe5a871af144d1a3ea38b9bd0e53e8"
            }
          },
          "metadata": {}
        }
      ]
    },
    {
      "cell_type": "code",
      "source": [
        "def mae(preds, acts): return (torch.abs(preds-acts)).mean()\n",
        "def mse(preds, acts): return ((preds-acts)**2).mean()\n",
        "\n",
        "@interact(a=1.1, b=1.1, c=1.1)\n",
        "def plot_quad(a, b, c):\n",
        "    f = mk_quad(a,b,c)\n",
        "    plt.scatter(x,y)\n",
        "    loss1 = mae(f(x), y)\n",
        "    loss2 = mse(f(x), y)\n",
        "    plot_function(f, ylim=(-3,12), title=f\"MAE: {loss1:.2f} MSE: {loss2:.2f}\")"
      ],
      "metadata": {
        "colab": {
          "base_uri": "https://localhost:8080/",
          "height": 504,
          "referenced_widgets": [
            "55d59b42c49c40768a3ebe8dc14f616f",
            "fefe815fb4734334ac5701a293fde80b",
            "0affab0f0a004a10b13924b5198f1680",
            "a6a94008fbdf47f7a7e88d456102ce7b",
            "93c08cc54a414e88a60904b669e2167a",
            "dba2d1d04307499e8a2a2e62e478846d",
            "cd742b9b6c964a5ba8f10fd5d9af00a0",
            "73ab33aca87d4154a6a3055b106e13aa",
            "225e2dd8b64d4b64b54e2ad1993bf2ba",
            "2ac1dbbf01b3416f886b11cf2f08346a",
            "b2d67f5e631f4867bda0d44b67fb59f8",
            "cf5f09c57f5d4edfbee8c56fe8371e0d",
            "4aae7832d47c4fc39c784fd3332cbfe9"
          ]
        },
        "id": "0h3lwlSzlxuM",
        "outputId": "a09189d1-58f2-405c-f3b7-04905ce9edfc"
      },
      "execution_count": 56,
      "outputs": [
        {
          "output_type": "display_data",
          "data": {
            "text/plain": [
              "interactive(children=(FloatSlider(value=1.1, description='a', max=3.3000000000000003, min=-1.1), FloatSlider(v…"
            ],
            "application/vnd.jupyter.widget-view+json": {
              "version_major": 2,
              "version_minor": 0,
              "model_id": "55d59b42c49c40768a3ebe8dc14f616f"
            }
          },
          "metadata": {}
        }
      ]
    },
    {
      "cell_type": "code",
      "source": [
        "def quad_mae(params):\n",
        "    f = mk_quad(*params)\n",
        "    return mae(f(x), y)\n",
        "\n",
        "quad_mae([1.1, 1.1, 1.1])"
      ],
      "metadata": {
        "colab": {
          "base_uri": "https://localhost:8080/"
        },
        "id": "JEI1qVxeuF72",
        "outputId": "4cc7098a-6e9e-4c3e-b55c-32d79bc61701"
      },
      "execution_count": 57,
      "outputs": [
        {
          "output_type": "execute_result",
          "data": {
            "text/plain": [
              "tensor(3.2234, dtype=torch.float64)"
            ]
          },
          "metadata": {},
          "execution_count": 57
        }
      ]
    },
    {
      "cell_type": "code",
      "source": [
        "abc = torch.tensor([1.1,1.1,1.1])\n",
        "abc.requires_grad_()\n",
        "loss = quad_mae(abc)\n",
        "loss"
      ],
      "metadata": {
        "colab": {
          "base_uri": "https://localhost:8080/"
        },
        "id": "pEVSHEbFuQ4A",
        "outputId": "2f586a5d-548f-45a7-c9fe-9304e61cfa07"
      },
      "execution_count": 58,
      "outputs": [
        {
          "output_type": "execute_result",
          "data": {
            "text/plain": [
              "tensor(3.2234, dtype=torch.float64, grad_fn=<MeanBackward0>)"
            ]
          },
          "metadata": {},
          "execution_count": 58
        }
      ]
    },
    {
      "cell_type": "code",
      "source": [
        "loss.backward()\n",
        "abc.grad"
      ],
      "metadata": {
        "colab": {
          "base_uri": "https://localhost:8080/"
        },
        "id": "9xkkwKS4ueUc",
        "outputId": "d87bd018-c33e-49d9-a235-3ebe1d1d0bcc"
      },
      "execution_count": 59,
      "outputs": [
        {
          "output_type": "execute_result",
          "data": {
            "text/plain": [
              "tensor([-1.2454, -0.0632, -0.4000])"
            ]
          },
          "metadata": {},
          "execution_count": 59
        }
      ]
    },
    {
      "cell_type": "code",
      "source": [
        "with torch.no_grad():\n",
        "    abc -= abc.grad*0.01\n",
        "    loss = quad_mae(abc)\n",
        "\n",
        "print(f'loss={loss:.2f}')"
      ],
      "metadata": {
        "colab": {
          "base_uri": "https://localhost:8080/"
        },
        "id": "OryRwmUCup2u",
        "outputId": "6be10ec5-b82f-4a6a-cb5c-28e971c77a13"
      },
      "execution_count": 60,
      "outputs": [
        {
          "output_type": "stream",
          "name": "stdout",
          "text": [
            "loss=3.21\n"
          ]
        }
      ]
    },
    {
      "cell_type": "code",
      "source": [
        "abc = torch.tensor([1.1,1.1,1.1])\n",
        "abc.requires_grad_()\n",
        "for i in range(20):\n",
        "    loss = quad_mae(abc)\n",
        "    loss.backward()\n",
        "    with torch.no_grad(): abc -= abc.grad*0.08\n",
        "    print(f'step={i}; abc= {abc}; loss={loss:.2f}')"
      ],
      "metadata": {
        "colab": {
          "base_uri": "https://localhost:8080/"
        },
        "id": "hOBYcmifuta9",
        "outputId": "ca0947ca-babc-4804-dedf-83b54658225a"
      },
      "execution_count": 101,
      "outputs": [
        {
          "output_type": "stream",
          "name": "stdout",
          "text": [
            "step=0; abc= tensor([1.1996, 1.1051, 1.1320], requires_grad=True); loss=3.22\n",
            "step=1; abc= tensor([1.3989, 1.1152, 1.1960], requires_grad=True); loss=3.09\n",
            "step=2; abc= tensor([1.6978, 1.1303, 1.2920], requires_grad=True); loss=2.81\n",
            "step=3; abc= tensor([2.0707, 1.1362, 1.4120], requires_grad=True); loss=2.41\n",
            "step=4; abc= tensor([2.4657, 1.1615, 1.5400], requires_grad=True); loss=2.13\n",
            "step=5; abc= tensor([2.8828, 1.2061, 1.6760], requires_grad=True); loss=2.00\n",
            "step=6; abc= tensor([3.2656, 1.2625, 1.7960], requires_grad=True); loss=2.05\n",
            "step=7; abc= tensor([3.5921, 1.3341, 1.8840], requires_grad=True); loss=2.29\n",
            "step=8; abc= tensor([3.8622, 1.4208, 1.9400], requires_grad=True); loss=2.55\n",
            "step=9; abc= tensor([4.0609, 1.5118, 1.9560], requires_grad=True); loss=2.79\n",
            "step=10; abc= tensor([4.1498, 1.5926, 1.9080], requires_grad=True); loss=3.04\n",
            "step=11; abc= tensor([4.1330, 1.6575, 1.8040], requires_grad=True); loss=3.14\n",
            "step=12; abc= tensor([4.0107, 1.7063, 1.6440], requires_grad=True); loss=3.06\n",
            "step=13; abc= tensor([3.7850, 1.7434, 1.4360], requires_grad=True); loss=2.80\n",
            "step=14; abc= tensor([3.4879, 1.7846, 1.1880], requires_grad=True); loss=2.45\n",
            "step=15; abc= tensor([3.1495, 1.8301, 0.9160], requires_grad=True); loss=2.16\n",
            "step=16; abc= tensor([2.8025, 1.8731, 0.6360], requires_grad=True); loss=1.94\n",
            "step=17; abc= tensor([2.4576, 1.9227, 0.3560], requires_grad=True); loss=1.91\n",
            "step=18; abc= tensor([2.1867, 1.9632, 0.1000], requires_grad=True); loss=2.08\n",
            "step=19; abc= tensor([ 1.9920,  1.9901, -0.1240], requires_grad=True); loss=2.44\n"
          ]
        }
      ]
    },
    {
      "cell_type": "code",
      "source": [
        "def rectified_linear(m,b,x):\n",
        "    y = m*x+b\n",
        "    return torch.clip(y, 0.)"
      ],
      "metadata": {
        "id": "YhQdjpKrvFkk"
      },
      "execution_count": 63,
      "outputs": []
    },
    {
      "cell_type": "code",
      "source": [
        "plot_function(partial(rectified_linear, 1,1))"
      ],
      "metadata": {
        "colab": {
          "base_uri": "https://localhost:8080/",
          "height": 389
        },
        "id": "7pd1Zg81vHrY",
        "outputId": "94cb8310-ca35-4368-b844-8219c849b1fe"
      },
      "execution_count": 64,
      "outputs": [
        {
          "output_type": "display_data",
          "data": {
            "text/plain": [
              "<Figure size 576x432 with 1 Axes>"
            ],
            "image/png": "[encoded data removed]"
          },
          "metadata": {}
        }
      ]
    },
    {
      "cell_type": "code",
      "source": [
        "import torch.nn.functional as F\n",
        "def rectified_linear2(m,b,x): return F.relu(m*x+b)\n",
        "plot_function(partial(rectified_linear2, 1,1))"
      ],
      "metadata": {
        "colab": {
          "base_uri": "https://localhost:8080/",
          "height": 389
        },
        "id": "L6ratRHdvPpY",
        "outputId": "dbb32530-14d1-47d6-dfad-72eb27d8c39c"
      },
      "execution_count": 65,
      "outputs": [
        {
          "output_type": "display_data",
          "data": {
            "text/plain": [
              "<Figure size 576x432 with 1 Axes>"
            ],
            "image/png": "[encoded data removed]"
          },
          "metadata": {}
        }
      ]
    },
    {
      "cell_type": "code",
      "source": [
        "@interact(m=1.5, b=1.5)\n",
        "def plot_relu(m, b):\n",
        "    plot_function(partial(rectified_linear, m,b), ylim=(-1,4))"
      ],
      "metadata": {
        "colab": {
          "base_uri": "https://localhost:8080/",
          "height": 458,
          "referenced_widgets": [
            "79f97d7b22104e4ea7d297130c9e8b5f",
            "327dae02f6cb42cdb7550dff2af7af62",
            "ca1f393ffd554ec6873d323b2e8afc44",
            "666f3e74e18c43cfbd8b1dedc672c93b",
            "1ec6e5b7775c4ce9871c1bb73dc74f01",
            "7b05dcea4cd74b6a989305fe4ec6c3e3",
            "4b502a0199274f7c8c88b4a48e149ecd",
            "d82200bdbd194b7aaf843a1cd44ae718",
            "9ab475d6156b458fa053804f50936d7b",
            "a44e8df526d349f5a0bd39d7903ab089"
          ]
        },
        "id": "OfpKdJ9qvTaf",
        "outputId": "3d1758fa-e74e-41a0-8055-4c638497f7bb"
      },
      "execution_count": 66,
      "outputs": [
        {
          "output_type": "display_data",
          "data": {
            "text/plain": [
              "interactive(children=(FloatSlider(value=1.5, description='m', max=4.5, min=-1.5), FloatSlider(value=1.5, descr…"
            ],
            "application/vnd.jupyter.widget-view+json": {
              "version_major": 2,
              "version_minor": 0,
              "model_id": "79f97d7b22104e4ea7d297130c9e8b5f"
            }
          },
          "metadata": {}
        }
      ]
    },
    {
      "cell_type": "code",
      "source": [
        "def double_relu(m1,b1,m2,b2,x):\n",
        "    return rectified_linear(m1,b1,x) + rectified_linear(m2,b2,x)\n",
        "\n",
        "@interact(m1=-1.5, b1=-1.5, m2=1.5, b2=1.5)\n",
        "def plot_double_relu(m1, b1, m2, b2):\n",
        "    plot_function(partial(double_relu, m1,b1,m2,b2), ylim=(-1,6))"
      ],
      "metadata": {
        "colab": {
          "base_uri": "https://localhost:8080/",
          "height": 522,
          "referenced_widgets": [
            "d6af6abecd3542178061b009ef6b3223",
            "b667015f9a8c4a0297e1e9e15c4cab18",
            "7a294f676ca844d9bf1df6c1393726e6",
            "2977546a10e7496a87804a4146eb10af",
            "1d72cfdf1bfe477f92379a680c0c8aa7",
            "da3192426f1b446aace20658109d484c",
            "976cdf2b162e4a74924e351da4a84607",
            "67d0e9d0a528498f9a38e838f618b7a2",
            "1cfa6bcdc92a4f8c9429971d09ded2ed",
            "4893384d75544f36b56cc74a17bb6bbf",
            "6cf06655c24544f899a339441c2ca906",
            "251ce804a1514ef8aa84408c22cad7f3",
            "36eca44a3a304ca4b26a7b16a57b47a2",
            "3fa07a4ece874c25b6c28ac9e418da18",
            "d2a96766d4784f2bbcb28ff0991b8696",
            "79a5c574c4064f37bff4c6589131eea4"
          ]
        },
        "id": "-yVTtN80veSI",
        "outputId": "89f9e118-0f1d-4c56-eeb2-64b86409bc70"
      },
      "execution_count": 67,
      "outputs": [
        {
          "output_type": "display_data",
          "data": {
            "text/plain": [
              "interactive(children=(FloatSlider(value=-1.5, description='m1', max=1.5, min=-4.5), FloatSlider(value=-1.5, de…"
            ],
            "application/vnd.jupyter.widget-view+json": {
              "version_major": 2,
              "version_minor": 0,
              "model_id": "d6af6abecd3542178061b009ef6b3223"
            }
          },
          "metadata": {}
        }
      ]
    },
    {
      "cell_type": "code",
      "source": [
        "def triple_relu(m1,b1,m2,b2,m3,b3,x):\n",
        "    return rectified_linear(m1,b1,x) + rectified_linear(m2,b2,x)+ rectified_linear(m3,b3,x)\n",
        "\n",
        "@interact(m1=-1.5, b1=-1.5, m2=1.5, b2=1.5, m3=1, b3=1)\n",
        "def plot_triple_relu(m1, b1, m2, b2, m3, b3):\n",
        "    plot_function(partial(triple_relu, m1,b1,m2,b2,m3,b3), ylim=(-1,6))"
      ],
      "metadata": {
        "colab": {
          "base_uri": "https://localhost:8080/",
          "height": 586,
          "referenced_widgets": [
            "eec50e622273401d972a2817dca82074",
            "02820f23a6a6495aa207b99d65fadbf4",
            "b611e34b07354903a07a401ef4789606",
            "487e4549938847a981ad5bcf78b4757d",
            "70c21b5c443f40d2a5f0c2100f85a6d2",
            "9d853a2a5fdf4bfab0ab36d6f67f75f2",
            "38839177b6da433189bf479aa2722314",
            "5b1e04b0a78146b8bcf25935484ec5ef",
            "90b84b86886348168d2e3022e624f342",
            "130b996c073947a49cf897b0c1552068",
            "91a48637bee54ae8a3d6fb5eb392936b",
            "817c45e9bdd04d1f99048787e18086fe",
            "f178f50907624b659a14cc3de2b61d31",
            "0d4717e17e8748cb93e92591030135d5",
            "3221ff69cab94e6e964bdb8ff0395720",
            "5534373aca2342468a47bd05d8553dd3",
            "d3edab0412c84440b7cffa91b50e7e16",
            "9246e8a6e98d49fc93c8d28e663a5b0b",
            "aff3afc48f034767a2e30217c308e9d7",
            "88beca50060148dab4bb92917e3da490",
            "640efa67b0d94473baf349f11877f693",
            "6fa4763debd74d618b672e505beb0fff"
          ]
        },
        "id": "daGEen2Ev488",
        "outputId": "4fa4cbcb-6525-49de-f421-0ad522352009"
      },
      "execution_count": 68,
      "outputs": [
        {
          "output_type": "display_data",
          "data": {
            "text/plain": [
              "interactive(children=(FloatSlider(value=-1.5, description='m1', max=1.5, min=-4.5), FloatSlider(value=-1.5, de…"
            ],
            "application/vnd.jupyter.widget-view+json": {
              "version_major": 2,
              "version_minor": 0,
              "model_id": "eec50e622273401d972a2817dca82074"
            }
          },
          "metadata": {}
        }
      ]
    }
  ]
}